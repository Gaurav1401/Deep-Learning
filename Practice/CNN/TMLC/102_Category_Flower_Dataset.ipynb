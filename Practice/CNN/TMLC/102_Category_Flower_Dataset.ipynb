{
  "nbformat": 4,
  "nbformat_minor": 0,
  "metadata": {
    "colab": {
      "name": "102 Category Flower Dataset.ipynb",
      "provenance": [],
      "collapsed_sections": [],
      "authorship_tag": "ABX9TyPO/ACc5Dr7B1A+bbV24Xva",
      "include_colab_link": true
    },
    "kernelspec": {
      "name": "python3",
      "display_name": "Python 3"
    },
    "language_info": {
      "name": "python"
    },
    "accelerator": "GPU"
  },
  "cells": [
    {
      "cell_type": "markdown",
      "metadata": {
        "id": "view-in-github",
        "colab_type": "text"
      },
      "source": [
        "<a href=\"https://colab.research.google.com/github/Gaurav1401/Deep-Learning/blob/main/Practice/CNN/TMLC/102_Category_Flower_Dataset.ipynb\" target=\"_parent\"><img src=\"https://colab.research.google.com/assets/colab-badge.svg\" alt=\"Open In Colab\"/></a>"
      ]
    },
    {
      "cell_type": "markdown",
      "metadata": {
        "id": "29QruZa_P8Vo"
      },
      "source": [
        "# **Downloading and Unzipping the Files**"
      ]
    },
    {
      "cell_type": "code",
      "metadata": {
        "colab": {
          "base_uri": "https://localhost:8080/"
        },
        "id": "g8bdQPUAOs0d",
        "outputId": "8aef965e-9745-4f2a-9cb5-10a29e6b9917"
      },
      "source": [
        "# !wget \"https://s3.amazonaws.com/fast-ai-imageclas/oxford-102-flowers.tgz\""
      ],
      "execution_count": 1,
      "outputs": [
        {
          "output_type": "stream",
          "name": "stdout",
          "text": [
            "--2021-10-29 11:47:13--  https://s3.amazonaws.com/fast-ai-imageclas/oxford-102-flowers.tgz\n",
            "Resolving s3.amazonaws.com (s3.amazonaws.com)... 52.216.201.21\n",
            "Connecting to s3.amazonaws.com (s3.amazonaws.com)|52.216.201.21|:443... connected.\n",
            "HTTP request sent, awaiting response... 200 OK\n",
            "Length: 345236087 (329M) [application/x-tar]\n",
            "Saving to: ‘oxford-102-flowers.tgz.1’\n",
            "\n",
            "oxford-102-flowers. 100%[===================>] 329.24M  35.8MB/s    in 10s     \n",
            "\n",
            "2021-10-29 11:47:23 (32.8 MB/s) - ‘oxford-102-flowers.tgz.1’ saved [345236087/345236087]\n",
            "\n"
          ]
        }
      ]
    },
    {
      "cell_type": "code",
      "metadata": {
        "id": "7joD7V5kOxa9"
      },
      "source": [
        "# Unzipping the file\n",
        "# !tar -xzvf \"/content/oxford-102-flowers.tgz\""
      ],
      "execution_count": 2,
      "outputs": []
    },
    {
      "cell_type": "markdown",
      "metadata": {
        "id": "hr5OYEzwQLr_"
      },
      "source": [
        "# **Checking the folder content**"
      ]
    },
    {
      "cell_type": "code",
      "metadata": {
        "colab": {
          "base_uri": "https://localhost:8080/"
        },
        "id": "fuwEi6z3PADl",
        "outputId": "81940791-e9f6-4b1e-c497-e817842f965c"
      },
      "source": [
        "!ls oxford-102-flowers # list of files in the folder"
      ],
      "execution_count": 3,
      "outputs": [
        {
          "output_type": "stream",
          "name": "stdout",
          "text": [
            "jpg  test.txt  train.txt  valid.txt\n"
          ]
        }
      ]
    },
    {
      "cell_type": "code",
      "metadata": {
        "id": "dBCGcMt2QHcc"
      },
      "source": [
        "import tensorflow as tf\n",
        "import pandas as pd\n",
        "import numpy as np\n",
        "import matplotlib.pyplot as plt\n",
        "import pathlib # to access files inside folders eaasily\n",
        "import os\n",
        "from tqdm import tqdm # for graph like progress bars"
      ],
      "execution_count": 4,
      "outputs": []
    },
    {
      "cell_type": "code",
      "metadata": {
        "colab": {
          "base_uri": "https://localhost:8080/"
        },
        "id": "fN8Ch0HWSY8t",
        "outputId": "c0ba860b-6bfb-44de-c870-43fa2aa13790"
      },
      "source": [
        "len(os.listdir(\"/content/oxford-102-flowers/jpg\")) # checking number of image files in the jpg folder"
      ],
      "execution_count": 5,
      "outputs": [
        {
          "output_type": "execute_result",
          "data": {
            "text/plain": [
              "8189"
            ]
          },
          "metadata": {},
          "execution_count": 5
        }
      ]
    },
    {
      "cell_type": "code",
      "metadata": {
        "colab": {
          "base_uri": "https://localhost:8080/"
        },
        "id": "gDYaJtQRTCd9",
        "outputId": "d98ec9d4-aa84-444e-e9c2-1db90288812f"
      },
      "source": [
        "path = pathlib.Path(\"oxford-102-flowers\")\n",
        "all_paths = path.glob(\"*/*.jpg\")\n",
        "all_paths"
      ],
      "execution_count": 6,
      "outputs": [
        {
          "output_type": "execute_result",
          "data": {
            "text/plain": [
              "<generator object Path.glob at 0x7fddf1b8b150>"
            ]
          },
          "metadata": {},
          "execution_count": 6
        }
      ]
    },
    {
      "cell_type": "code",
      "metadata": {
        "colab": {
          "base_uri": "https://localhost:8080/"
        },
        "id": "3vFIup3DTzUI",
        "outputId": "a02772b1-a2f8-4892-bb49-5ffe54e666bd"
      },
      "source": [
        "all_paths = list(all_paths)\n",
        "all_paths[:5]"
      ],
      "execution_count": 7,
      "outputs": [
        {
          "output_type": "execute_result",
          "data": {
            "text/plain": [
              "[PosixPath('oxford-102-flowers/jpg/image_07212.jpg'),\n",
              " PosixPath('oxford-102-flowers/jpg/image_06933.jpg'),\n",
              " PosixPath('oxford-102-flowers/jpg/image_06594.jpg'),\n",
              " PosixPath('oxford-102-flowers/jpg/image_01455.jpg'),\n",
              " PosixPath('oxford-102-flowers/jpg/image_02769.jpg')]"
            ]
          },
          "metadata": {},
          "execution_count": 7
        }
      ]
    },
    {
      "cell_type": "code",
      "metadata": {
        "colab": {
          "base_uri": "https://localhost:8080/"
        },
        "id": "M4Bv-aqmT7Yo",
        "outputId": "38e93da6-4e18-4ef5-cb1f-b0b728d991a1"
      },
      "source": [
        "all_paths = list(map(lambda x : str(x), all_paths))\n",
        "all_paths[:5]"
      ],
      "execution_count": 8,
      "outputs": [
        {
          "output_type": "execute_result",
          "data": {
            "text/plain": [
              "['oxford-102-flowers/jpg/image_07212.jpg',\n",
              " 'oxford-102-flowers/jpg/image_06933.jpg',\n",
              " 'oxford-102-flowers/jpg/image_06594.jpg',\n",
              " 'oxford-102-flowers/jpg/image_01455.jpg',\n",
              " 'oxford-102-flowers/jpg/image_02769.jpg']"
            ]
          },
          "metadata": {},
          "execution_count": 8
        }
      ]
    },
    {
      "cell_type": "markdown",
      "metadata": {
        "id": "ouVqRFgTVwmR"
      },
      "source": [
        "**Reading the text files**"
      ]
    },
    {
      "cell_type": "code",
      "metadata": {
        "id": "ryDMKPHSUTEt"
      },
      "source": [
        "def Read_Two_Column_File(file_name):\n",
        "    with open(file_name, 'r') as data:\n",
        "        x = []\n",
        "        y = []\n",
        "        for line in data:\n",
        "            p = line.split()\n",
        "            x.append(p[0])\n",
        "            y.append(int(p[1]))\n",
        "\n",
        "    return x, y"
      ],
      "execution_count": 9,
      "outputs": []
    },
    {
      "cell_type": "code",
      "metadata": {
        "id": "eKRTrvmYVtQ5"
      },
      "source": [
        "X_train, y_train = Read_Two_Column_File('/content/oxford-102-flowers/train.txt')\n",
        "X_valid, y_valid = Read_Two_Column_File(\"/content/oxford-102-flowers/valid.txt\")"
      ],
      "execution_count": 10,
      "outputs": []
    },
    {
      "cell_type": "code",
      "metadata": {
        "colab": {
          "base_uri": "https://localhost:8080/"
        },
        "id": "XpkSYgBFWHLT",
        "outputId": "5c9551e4-3950-4a4b-fd29-d18abf506095"
      },
      "source": [
        "X_train[:5]"
      ],
      "execution_count": 11,
      "outputs": [
        {
          "output_type": "execute_result",
          "data": {
            "text/plain": [
              "['jpg/image_03860.jpg',\n",
              " 'jpg/image_06092.jpg',\n",
              " 'jpg/image_02400.jpg',\n",
              " 'jpg/image_02852.jpg',\n",
              " 'jpg/image_07710.jpg']"
            ]
          },
          "metadata": {},
          "execution_count": 11
        }
      ]
    },
    {
      "cell_type": "code",
      "metadata": {
        "id": "UNVbp7goWPy7"
      },
      "source": [
        "def complete_path(image_path):\n",
        "  return \"oxford-102-flowers/\" + image_path"
      ],
      "execution_count": 12,
      "outputs": []
    },
    {
      "cell_type": "markdown",
      "metadata": {
        "id": "30kasSxPa5Uh"
      },
      "source": [
        "**Making the image path complete in the list**"
      ]
    },
    {
      "cell_type": "code",
      "metadata": {
        "id": "tP-Qr2EuXdWl"
      },
      "source": [
        "X_train = list(map(complete_path, X_train))\n",
        "X_valid = list(map(complete_path, X_valid))"
      ],
      "execution_count": 13,
      "outputs": []
    },
    {
      "cell_type": "code",
      "metadata": {
        "colab": {
          "base_uri": "https://localhost:8080/"
        },
        "id": "HHG23zl4XzDe",
        "outputId": "65a2d891-b208-4be7-a571-d9068bd3ba69"
      },
      "source": [
        "X_train[:5]"
      ],
      "execution_count": 14,
      "outputs": [
        {
          "output_type": "execute_result",
          "data": {
            "text/plain": [
              "['oxford-102-flowers/jpg/image_03860.jpg',\n",
              " 'oxford-102-flowers/jpg/image_06092.jpg',\n",
              " 'oxford-102-flowers/jpg/image_02400.jpg',\n",
              " 'oxford-102-flowers/jpg/image_02852.jpg',\n",
              " 'oxford-102-flowers/jpg/image_07710.jpg']"
            ]
          },
          "metadata": {},
          "execution_count": 14
        }
      ]
    },
    {
      "cell_type": "code",
      "metadata": {
        "colab": {
          "base_uri": "https://localhost:8080/"
        },
        "id": "nj9_dHSEX1lL",
        "outputId": "ec3c1e1b-64d4-462c-ecfc-1d0da3feffbc"
      },
      "source": [
        "y_train[:5]"
      ],
      "execution_count": 15,
      "outputs": [
        {
          "output_type": "execute_result",
          "data": {
            "text/plain": [
              "[16, 13, 42, 55, 96]"
            ]
          },
          "metadata": {},
          "execution_count": 15
        }
      ]
    },
    {
      "cell_type": "markdown",
      "metadata": {
        "id": "jcmR3sG5bAH4"
      },
      "source": [
        "### **One hot encoding the target variables**"
      ]
    },
    {
      "cell_type": "code",
      "metadata": {
        "colab": {
          "base_uri": "https://localhost:8080/"
        },
        "id": "lWHPH7fMX7CE",
        "outputId": "fec6859f-b5cc-4a23-85e7-d9e122cd357f"
      },
      "source": [
        "train_image_labels = tf.keras.utils.to_categorical(y_train)\n",
        "\n",
        "train_image_labels[:10]"
      ],
      "execution_count": 16,
      "outputs": [
        {
          "output_type": "execute_result",
          "data": {
            "text/plain": [
              "array([[0., 0., 0., ..., 0., 0., 0.],\n",
              "       [0., 0., 0., ..., 0., 0., 0.],\n",
              "       [0., 0., 0., ..., 0., 0., 0.],\n",
              "       ...,\n",
              "       [0., 0., 0., ..., 0., 0., 0.],\n",
              "       [0., 0., 0., ..., 0., 0., 0.],\n",
              "       [0., 0., 0., ..., 0., 0., 0.]], dtype=float32)"
            ]
          },
          "metadata": {},
          "execution_count": 16
        }
      ]
    },
    {
      "cell_type": "code",
      "metadata": {
        "colab": {
          "base_uri": "https://localhost:8080/"
        },
        "id": "T4OdDMYLZoWj",
        "outputId": "4875d42d-2ad1-4a45-add7-129706813737"
      },
      "source": [
        "valid_image_labels = tf.keras.utils.to_categorical(y_valid)\n",
        "\n",
        "valid_image_labels[:10]"
      ],
      "execution_count": 17,
      "outputs": [
        {
          "output_type": "execute_result",
          "data": {
            "text/plain": [
              "array([[0., 0., 0., ..., 0., 0., 0.],\n",
              "       [0., 0., 0., ..., 0., 0., 0.],\n",
              "       [0., 0., 0., ..., 0., 0., 0.],\n",
              "       ...,\n",
              "       [0., 0., 0., ..., 0., 0., 0.],\n",
              "       [0., 0., 0., ..., 0., 0., 0.],\n",
              "       [0., 0., 0., ..., 0., 0., 0.]], dtype=float32)"
            ]
          },
          "metadata": {},
          "execution_count": 17
        }
      ]
    },
    {
      "cell_type": "code",
      "metadata": {
        "id": "s7Y5jV7SbTup"
      },
      "source": [
        "# Function used for Transformation\n",
        "\n",
        "def load(image , label):\n",
        "    image = tf.io.read_file(image)\n",
        "    image = tf.io.decode_jpeg(image , channels = 3)\n",
        "    return image , label"
      ],
      "execution_count": 18,
      "outputs": []
    },
    {
      "cell_type": "code",
      "metadata": {
        "id": "7Tt96TAGfHII"
      },
      "source": [
        "# Define IMAGE SIZE and BATCH SIZE \n",
        "IMG_SIZE = 224 \n",
        "BATCH_SIZE = 32\n",
        "\n",
        "# Basic Transformation\n",
        "resize = tf.keras.Sequential([\n",
        "    tf.keras.layers.experimental.preprocessing.Resizing(IMG_SIZE, IMG_SIZE)          \n",
        "])\n",
        "\n",
        "# Data Augmentation\n",
        "data_augmentation = tf.keras.Sequential([\n",
        "    tf.keras.layers.experimental.preprocessing.RandomFlip(\"horizontal\"),\n",
        "    tf.keras.layers.experimental.preprocessing.RandomRotation(0.2),\n",
        "    tf.keras.layers.experimental.preprocessing.RandomZoom(height_factor = (-0.3, -0.2))\n",
        "])"
      ],
      "execution_count": 19,
      "outputs": []
    },
    {
      "cell_type": "code",
      "metadata": {
        "id": "6MtcFFTVfLtJ"
      },
      "source": [
        "# Function used to Create a Tensorflow Data Object\n",
        "AUTOTUNE = tf.data.experimental.AUTOTUNE\n",
        "def get_dataset(paths , labels , train = True):\n",
        "    image_paths = tf.convert_to_tensor(paths)\n",
        "    labels = tf.convert_to_tensor(labels)\n",
        "\n",
        "    image_dataset = tf.data.Dataset.from_tensor_slices(image_paths)\n",
        "    label_dataset = tf.data.Dataset.from_tensor_slices(labels)\n",
        "\n",
        "    dataset = tf.data.Dataset.zip((image_dataset , label_dataset))\n",
        "\n",
        "    dataset = dataset.map(lambda image , label : load(image , label))\n",
        "    dataset = dataset.map(lambda image, label: (resize(image), label) , num_parallel_calls=AUTOTUNE)\n",
        "    dataset = dataset.shuffle(1000)\n",
        "    dataset = dataset.batch(BATCH_SIZE)\n",
        "\n",
        "    if train:\n",
        "        dataset = dataset.map(lambda image, label: (data_augmentation(image), label) , num_parallel_calls=AUTOTUNE)\n",
        "    \n",
        "    dataset = dataset.repeat()\n",
        "    return dataset"
      ],
      "execution_count": 20,
      "outputs": []
    },
    {
      "cell_type": "code",
      "metadata": {
        "colab": {
          "base_uri": "https://localhost:8080/"
        },
        "id": "mD3uw8c1fUAh",
        "outputId": "4800fd06-9516-46bf-d2b2-cff9563b7c9f"
      },
      "source": [
        "# Creating Train Dataset object and Verifying it\n",
        "%time train_dataset = get_dataset(X_train , train_image_labels)\n",
        "\n",
        "image , label = next(iter(train_dataset))\n",
        "print(image.shape)\n",
        "print(label.shape)"
      ],
      "execution_count": 21,
      "outputs": [
        {
          "output_type": "stream",
          "name": "stdout",
          "text": [
            "CPU times: user 467 ms, sys: 7.11 ms, total: 474 ms\n",
            "Wall time: 482 ms\n",
            "(32, 224, 224, 3)\n",
            "(32, 102)\n"
          ]
        }
      ]
    },
    {
      "cell_type": "code",
      "metadata": {
        "colab": {
          "base_uri": "https://localhost:8080/"
        },
        "id": "Ov_BLAcMfjYk",
        "outputId": "6a0b76f2-ada3-4dea-db43-3ab1f8388b94"
      },
      "source": [
        "%time val_dataset = get_dataset(X_valid , valid_image_labels , train = False)\n",
        "\n",
        "image , label = next(iter(val_dataset))\n",
        "print(image.shape)\n",
        "print(label.shape)"
      ],
      "execution_count": 22,
      "outputs": [
        {
          "output_type": "stream",
          "name": "stdout",
          "text": [
            "CPU times: user 22.9 ms, sys: 961 µs, total: 23.9 ms\n",
            "Wall time: 26.9 ms\n",
            "(32, 224, 224, 3)\n",
            "(32, 102)\n"
          ]
        }
      ]
    },
    {
      "cell_type": "markdown",
      "metadata": {
        "id": "4XAgrIm9OLRy"
      },
      "source": [
        "# **Hyperparameter Tuning using Keras Tuner**"
      ]
    },
    {
      "cell_type": "code",
      "metadata": {
        "id": "jG8PekgAPFwv"
      },
      "source": [
        "# !pip install -q -U keras-tuner"
      ],
      "execution_count": 23,
      "outputs": []
    },
    {
      "cell_type": "code",
      "metadata": {
        "id": "jhDNxf2oPDGc"
      },
      "source": [
        "from keras_tuner.tuners import RandomSearch"
      ],
      "execution_count": 24,
      "outputs": []
    },
    {
      "cell_type": "code",
      "metadata": {
        "id": "EWtz-ZbsP-hr"
      },
      "source": [
        "from tensorflow.keras.models import Sequential\n",
        "from tensorflow.keras.layers import Dense, Activation, Conv2D, MaxPooling2D, Flatten, Dropout, BatchNormalization , GlobalMaxPool2D\n",
        "from tensorflow.keras.callbacks import EarlyStopping\n",
        "from tensorflow.keras import optimizers"
      ],
      "execution_count": 25,
      "outputs": []
    },
    {
      "cell_type": "code",
      "metadata": {
        "id": "lS-1mgoHOKoq"
      },
      "source": [
        "def create_model(hyperparam):\n",
        "   model = Sequential()\n",
        "   model.add(Conv2D(\n",
        "                    filters=hyperparam.Int('convolution_1',min_value=32, max_value=128, step=16), \n",
        "                      kernel_size=hyperparam.Choice('convolution_1', values = [3,6]),\n",
        "                    padding = 'same',\n",
        "                    activation='relu',input_shape=(224 , 224 , 3)\n",
        "                    ))\n",
        "   model.add(Conv2D(\n",
        "                    filters=hyperparam.Int('convolution_2', min_value=64, max_value=128, step=16),\n",
        "                    kernel_size=hyperparam.Choice('convolution_2', values = [3,6]),\n",
        "                    padding = 'valid',\n",
        "                    activation='relu'\n",
        "                    ))\n",
        "   model.add(Conv2D(\n",
        "                  filters=hyperparam.Int('convolution_3', min_value=64, max_value=128, step=16),\n",
        "                  kernel_size=hyperparam.Choice('convolution_3', values = [3,6]),\n",
        "                  padding = 'valid',\n",
        "                  activation='relu'\n",
        "                   ))\n",
        "   model.add(Flatten())\n",
        "   model.add(Dense(units = 102))\n",
        "   model.add(Activation(\"softmax\"))\n",
        "   model.compile(optimizer=optimizers.Adam(hyperparam.Choice('learning_rate', values=[1e-2, 1e-3])),\n",
        "                loss='categorical_crossentropy',\n",
        "                metrics=['accuracy'])\n",
        "   return model"
      ],
      "execution_count": 26,
      "outputs": []
    },
    {
      "cell_type": "code",
      "metadata": {
        "id": "ivZgV75LOKlZ"
      },
      "source": [
        "tuner = RandomSearch(\n",
        "    create_model,\n",
        "    objective='val_accuracy',\n",
        "    max_trials=5,\n",
        "    executions_per_trial=3,\n",
        "    directory='project',\n",
        "    project_name='CNN_Flower')"
      ],
      "execution_count": 27,
      "outputs": []
    },
    {
      "cell_type": "code",
      "metadata": {
        "colab": {
          "base_uri": "https://localhost:8080/"
        },
        "id": "PMKui_r5QRos",
        "outputId": "f5dba2f0-0cb6-4f38-ecbf-84f0d5ac14fe"
      },
      "source": [
        "tuner.search(train_dataset,\n",
        "             epochs=5,\n",
        "             validation_data= val_dataset,\n",
        "             steps_per_epoch=5)"
      ],
      "execution_count": null,
      "outputs": [
        {
          "output_type": "stream",
          "name": "stdout",
          "text": [
            "\n",
            "Search: Running Trial #1\n",
            "\n",
            "Hyperparameter    |Value             |Best Value So Far \n",
            "convolution_1     |112               |?                 \n",
            "convolution_2     |112               |?                 \n",
            "convolution_3     |80                |?                 \n",
            "learning_rate     |0.001             |?                 \n",
            "\n",
            "Epoch 1/5\n"
          ]
        }
      ]
    },
    {
      "cell_type": "markdown",
      "metadata": {
        "id": "E8LnCd46KH9O"
      },
      "source": [
        "## **Don't know why but Hyperparameter tuning did not work :(, taking infinite amount of time**"
      ]
    },
    {
      "cell_type": "code",
      "metadata": {
        "id": "XNfWySaKh07Y"
      },
      "source": [
        "# Simple CNN model\n",
        "\n",
        "# Model part \n",
        "from tensorflow.keras.models import Sequential\n",
        "from tensorflow.keras.layers import Dense, Activation, Conv2D, MaxPooling2D, Flatten, Dropout, BatchNormalization , GlobalMaxPool2D\n",
        "from tensorflow.keras.callbacks import EarlyStopping\n",
        "\n",
        "\n",
        "model = Sequential()\n",
        "\n",
        "# Block 1 \n",
        "model.add(Conv2D(input_shape=(224 , 224 , 3),  padding='same',filters=32, kernel_size=(7, 7)))\n",
        "model.add(Activation('relu'))\n",
        "model.add(BatchNormalization())\n",
        "model.add(MaxPooling2D(pool_size=(2, 2)))\n",
        "model.add(Dropout(0.2))\n",
        "\n",
        "# Block 2\n",
        "model.add(Conv2D(filters=64,  padding='valid', kernel_size=(5, 5)))\n",
        "model.add(Activation('relu'))\n",
        "model.add(BatchNormalization())\n",
        "model.add(MaxPooling2D(pool_size=(2, 2)))\n",
        "model.add(Dropout(0.2))\n",
        "\n",
        "# Block 3 \n",
        "model.add(Conv2D(filters=128, padding='valid', kernel_size=(3, 3)))\n",
        "model.add(Activation('relu'))\n",
        "model.add(BatchNormalization())\n",
        "model.add(MaxPooling2D())\n",
        "model.add(Dropout(0.2))\n",
        "\n",
        "# Block 4 \n",
        "model.add(Conv2D(filters=256, padding='valid', kernel_size=(3, 3)))\n",
        "model.add(Activation('relu'))\n",
        "model.add(BatchNormalization())\n",
        "\n",
        "model.add(Conv2D(filters=256 , kernel_size=(3, 3)))\n",
        "model.add(Activation('relu'))\n",
        "model.add(BatchNormalization())\n",
        "model.add(MaxPooling2D(pool_size=(2, 2)))\n",
        "model.add(Dropout(0.2))\n",
        "\n",
        "model.add(GlobalMaxPool2D())\n",
        "\n",
        "model.add(Dense(units=256))\n",
        "model.add(Activation('relu'))\n",
        "model.add(Dropout(0.2))\n",
        "\n",
        "model.add(Dense(units=102))\n",
        "model.add(Activation('softmax'))"
      ],
      "execution_count": null,
      "outputs": []
    },
    {
      "cell_type": "code",
      "metadata": {
        "colab": {
          "base_uri": "https://localhost:8080/"
        },
        "id": "vtKeMU4vjCdR",
        "outputId": "5f352868-f88f-46a8-e69f-cd5406375876"
      },
      "source": [
        "model.summary()"
      ],
      "execution_count": null,
      "outputs": [
        {
          "output_type": "stream",
          "name": "stdout",
          "text": [
            "Model: \"sequential_2\"\n",
            "_________________________________________________________________\n",
            "Layer (type)                 Output Shape              Param #   \n",
            "=================================================================\n",
            "conv2d (Conv2D)              (None, 224, 224, 32)      4736      \n",
            "_________________________________________________________________\n",
            "activation (Activation)      (None, 224, 224, 32)      0         \n",
            "_________________________________________________________________\n",
            "batch_normalization (BatchNo (None, 224, 224, 32)      128       \n",
            "_________________________________________________________________\n",
            "max_pooling2d (MaxPooling2D) (None, 112, 112, 32)      0         \n",
            "_________________________________________________________________\n",
            "dropout (Dropout)            (None, 112, 112, 32)      0         \n",
            "_________________________________________________________________\n",
            "conv2d_1 (Conv2D)            (None, 108, 108, 64)      51264     \n",
            "_________________________________________________________________\n",
            "activation_1 (Activation)    (None, 108, 108, 64)      0         \n",
            "_________________________________________________________________\n",
            "batch_normalization_1 (Batch (None, 108, 108, 64)      256       \n",
            "_________________________________________________________________\n",
            "max_pooling2d_1 (MaxPooling2 (None, 54, 54, 64)        0         \n",
            "_________________________________________________________________\n",
            "dropout_1 (Dropout)          (None, 54, 54, 64)        0         \n",
            "_________________________________________________________________\n",
            "conv2d_2 (Conv2D)            (None, 52, 52, 128)       73856     \n",
            "_________________________________________________________________\n",
            "activation_2 (Activation)    (None, 52, 52, 128)       0         \n",
            "_________________________________________________________________\n",
            "batch_normalization_2 (Batch (None, 52, 52, 128)       512       \n",
            "_________________________________________________________________\n",
            "max_pooling2d_2 (MaxPooling2 (None, 26, 26, 128)       0         \n",
            "_________________________________________________________________\n",
            "dropout_2 (Dropout)          (None, 26, 26, 128)       0         \n",
            "_________________________________________________________________\n",
            "conv2d_3 (Conv2D)            (None, 24, 24, 256)       295168    \n",
            "_________________________________________________________________\n",
            "activation_3 (Activation)    (None, 24, 24, 256)       0         \n",
            "_________________________________________________________________\n",
            "batch_normalization_3 (Batch (None, 24, 24, 256)       1024      \n",
            "_________________________________________________________________\n",
            "conv2d_4 (Conv2D)            (None, 22, 22, 256)       590080    \n",
            "_________________________________________________________________\n",
            "activation_4 (Activation)    (None, 22, 22, 256)       0         \n",
            "_________________________________________________________________\n",
            "batch_normalization_4 (Batch (None, 22, 22, 256)       1024      \n",
            "_________________________________________________________________\n",
            "max_pooling2d_3 (MaxPooling2 (None, 11, 11, 256)       0         \n",
            "_________________________________________________________________\n",
            "dropout_3 (Dropout)          (None, 11, 11, 256)       0         \n",
            "_________________________________________________________________\n",
            "global_max_pooling2d (Global (None, 256)               0         \n",
            "_________________________________________________________________\n",
            "dense (Dense)                (None, 256)               65792     \n",
            "_________________________________________________________________\n",
            "activation_5 (Activation)    (None, 256)               0         \n",
            "_________________________________________________________________\n",
            "dropout_4 (Dropout)          (None, 256)               0         \n",
            "_________________________________________________________________\n",
            "dense_1 (Dense)              (None, 102)               26214     \n",
            "_________________________________________________________________\n",
            "activation_6 (Activation)    (None, 102)               0         \n",
            "=================================================================\n",
            "Total params: 1,110,054\n",
            "Trainable params: 1,108,582\n",
            "Non-trainable params: 1,472\n",
            "_________________________________________________________________\n"
          ]
        }
      ]
    },
    {
      "cell_type": "code",
      "metadata": {
        "id": "Y93ySyhkjEdN"
      },
      "source": [
        "model.compile(loss = 'categorical_crossentropy', optimizer = 'adam', metrics = ['accuracy'])"
      ],
      "execution_count": null,
      "outputs": []
    },
    {
      "cell_type": "code",
      "metadata": {
        "id": "RJvrG8V4pdvi"
      },
      "source": [
        "early_stop = EarlyStopping(monitor='val_loss', patience=2)"
      ],
      "execution_count": null,
      "outputs": []
    },
    {
      "cell_type": "code",
      "metadata": {
        "colab": {
          "base_uri": "https://localhost:8080/"
        },
        "id": "qz5BbVxFjOrp",
        "outputId": "dfc2c288-d3ff-453a-a41a-3c6de5ddcbba"
      },
      "source": [
        "history = model.fit(\n",
        "    train_dataset,\n",
        "    steps_per_epoch=len(X_train)//BATCH_SIZE,\n",
        "    epochs=20,\n",
        "    validation_data=val_dataset,\n",
        "    validation_steps = len(X_valid)//BATCH_SIZE,\n",
        "    callbacks = early_stop\n",
        ")"
      ],
      "execution_count": null,
      "outputs": [
        {
          "output_type": "stream",
          "name": "stdout",
          "text": [
            "Epoch 1/20\n",
            "31/31 [==============================] - 21s 453ms/step - loss: 5.9209 - accuracy: 0.0131 - val_loss: 13.9237 - val_accuracy: 0.0151\n",
            "Epoch 2/20\n",
            "31/31 [==============================] - 18s 526ms/step - loss: 4.3754 - accuracy: 0.0263 - val_loss: 5.6002 - val_accuracy: 0.0302\n",
            "Epoch 3/20\n",
            "31/31 [==============================] - 16s 527ms/step - loss: 4.1137 - accuracy: 0.0759 - val_loss: 4.5445 - val_accuracy: 0.0393\n",
            "Epoch 4/20\n",
            "31/31 [==============================] - 16s 517ms/step - loss: 3.8289 - accuracy: 0.0941 - val_loss: 3.8962 - val_accuracy: 0.0837\n",
            "Epoch 5/20\n",
            "31/31 [==============================] - 16s 520ms/step - loss: 3.6530 - accuracy: 0.1336 - val_loss: 3.5784 - val_accuracy: 0.1653\n",
            "Epoch 6/20\n",
            "31/31 [==============================] - 16s 529ms/step - loss: 3.4300 - accuracy: 0.1498 - val_loss: 3.5731 - val_accuracy: 0.1391\n",
            "Epoch 7/20\n",
            "31/31 [==============================] - 16s 518ms/step - loss: 3.2832 - accuracy: 0.1771 - val_loss: 3.7947 - val_accuracy: 0.1008\n",
            "Epoch 8/20\n",
            "31/31 [==============================] - 16s 527ms/step - loss: 3.1615 - accuracy: 0.1953 - val_loss: 3.3418 - val_accuracy: 0.1804\n",
            "Epoch 9/20\n",
            "31/31 [==============================] - 16s 521ms/step - loss: 2.9802 - accuracy: 0.2328 - val_loss: 3.3614 - val_accuracy: 0.1714\n",
            "Epoch 10/20\n",
            "31/31 [==============================] - 16s 534ms/step - loss: 3.0704 - accuracy: 0.2034 - val_loss: 3.4534 - val_accuracy: 0.1683\n"
          ]
        }
      ]
    },
    {
      "cell_type": "code",
      "metadata": {
        "colab": {
          "base_uri": "https://localhost:8080/",
          "height": 320
        },
        "id": "cziM8nhr7MM5",
        "outputId": "4e9ed22e-8c07-43f3-84e4-7a7737b636e2"
      },
      "source": [
        "pd.DataFrame(history.history).plot(figsize = (8, 5))\n",
        "plt.grid(True)\n",
        "plt.show()"
      ],
      "execution_count": null,
      "outputs": [
        {
          "output_type": "display_data",
          "data": {
            "image/png": "[encoded data removed]",
            "text/plain": [
              "<Figure size 576x360 with 1 Axes>"
            ]
          },
          "metadata": {
            "needs_background": "light"
          }
        }
      ]
    },
    {
      "cell_type": "code",
      "metadata": {
        "colab": {
          "base_uri": "https://localhost:8080/"
        },
        "id": "zkM-gvramskq",
        "outputId": "0f548b8f-4fc9-4cc4-e510-68f4cfdfc496"
      },
      "source": [
        "# Model Evaluation\n",
        "loss, acc = model.evaluate(val_dataset, steps=50)\n",
        "\n",
        "print(\" Testing Acc : \" , acc)\n",
        "print(\" Testing Loss : \" , loss)"
      ],
      "execution_count": null,
      "outputs": [
        {
          "output_type": "stream",
          "name": "stdout",
          "text": [
            "50/50 [==============================] - 7s 103ms/step - loss: 3.4644 - accuracy: 0.1635\n",
            " Testing Acc :  0.16353383660316467\n",
            " Testing Loss :  3.4644358158111572\n"
          ]
        }
      ]
    },
    {
      "cell_type": "markdown",
      "metadata": {
        "id": "wK8Ny6tW2s-e"
      },
      "source": [
        "# **Transfer Learning using VGG16**"
      ]
    },
    {
      "cell_type": "code",
      "metadata": {
        "id": "-y3zyaSTns7V"
      },
      "source": [
        "from tensorflow.keras.applications import VGG16"
      ],
      "execution_count": null,
      "outputs": []
    },
    {
      "cell_type": "code",
      "metadata": {
        "id": "4ZTv1idfns4S"
      },
      "source": [
        "conv_base = VGG16(weights = 'imagenet', \n",
        "                  include_top = False,\n",
        "                  input_shape = (224, 224, 3))"
      ],
      "execution_count": null,
      "outputs": []
    },
    {
      "cell_type": "code",
      "metadata": {
        "colab": {
          "base_uri": "https://localhost:8080/"
        },
        "id": "HgDyF3dW33Yq",
        "outputId": "e5d6ab9d-4337-4841-9223-f706f0fa2604"
      },
      "source": [
        "conv_base.summary()"
      ],
      "execution_count": null,
      "outputs": [
        {
          "output_type": "stream",
          "name": "stdout",
          "text": [
            "Model: \"vgg16\"\n",
            "_________________________________________________________________\n",
            "Layer (type)                 Output Shape              Param #   \n",
            "=================================================================\n",
            "input_1 (InputLayer)         [(None, 224, 224, 3)]     0         \n",
            "_________________________________________________________________\n",
            "block1_conv1 (Conv2D)        (None, 224, 224, 64)      1792      \n",
            "_________________________________________________________________\n",
            "block1_conv2 (Conv2D)        (None, 224, 224, 64)      36928     \n",
            "_________________________________________________________________\n",
            "block1_pool (MaxPooling2D)   (None, 112, 112, 64)      0         \n",
            "_________________________________________________________________\n",
            "block2_conv1 (Conv2D)        (None, 112, 112, 128)     73856     \n",
            "_________________________________________________________________\n",
            "block2_conv2 (Conv2D)        (None, 112, 112, 128)     147584    \n",
            "_________________________________________________________________\n",
            "block2_pool (MaxPooling2D)   (None, 56, 56, 128)       0         \n",
            "_________________________________________________________________\n",
            "block3_conv1 (Conv2D)        (None, 56, 56, 256)       295168    \n",
            "_________________________________________________________________\n",
            "block3_conv2 (Conv2D)        (None, 56, 56, 256)       590080    \n",
            "_________________________________________________________________\n",
            "block3_conv3 (Conv2D)        (None, 56, 56, 256)       590080    \n",
            "_________________________________________________________________\n",
            "block3_pool (MaxPooling2D)   (None, 28, 28, 256)       0         \n",
            "_________________________________________________________________\n",
            "block4_conv1 (Conv2D)        (None, 28, 28, 512)       1180160   \n",
            "_________________________________________________________________\n",
            "block4_conv2 (Conv2D)        (None, 28, 28, 512)       2359808   \n",
            "_________________________________________________________________\n",
            "block4_conv3 (Conv2D)        (None, 28, 28, 512)       2359808   \n",
            "_________________________________________________________________\n",
            "block4_pool (MaxPooling2D)   (None, 14, 14, 512)       0         \n",
            "_________________________________________________________________\n",
            "block5_conv1 (Conv2D)        (None, 14, 14, 512)       2359808   \n",
            "_________________________________________________________________\n",
            "block5_conv2 (Conv2D)        (None, 14, 14, 512)       2359808   \n",
            "_________________________________________________________________\n",
            "block5_conv3 (Conv2D)        (None, 14, 14, 512)       2359808   \n",
            "_________________________________________________________________\n",
            "block5_pool (MaxPooling2D)   (None, 7, 7, 512)         0         \n",
            "=================================================================\n",
            "Total params: 14,714,688\n",
            "Trainable params: 14,714,688\n",
            "Non-trainable params: 0\n",
            "_________________________________________________________________\n"
          ]
        }
      ]
    },
    {
      "cell_type": "code",
      "metadata": {
        "id": "k8PfYmSU368B"
      },
      "source": [
        "model1 = Sequential()\n",
        "model1.add(conv_base)\n",
        "model1.add(Flatten())\n",
        "model1.add(Dense(204, activation='relu'))\n",
        "model1.add(Dense(102, activation = 'softmax'))"
      ],
      "execution_count": null,
      "outputs": []
    },
    {
      "cell_type": "code",
      "metadata": {
        "colab": {
          "base_uri": "https://localhost:8080/"
        },
        "id": "ttneNUA-48Yp",
        "outputId": "235235d4-4a63-40a9-95b0-a67daf064297"
      },
      "source": [
        "model1.summary()"
      ],
      "execution_count": null,
      "outputs": [
        {
          "output_type": "stream",
          "name": "stdout",
          "text": [
            "Model: \"sequential_3\"\n",
            "_________________________________________________________________\n",
            "Layer (type)                 Output Shape              Param #   \n",
            "=================================================================\n",
            "vgg16 (Functional)           (None, 7, 7, 512)         14714688  \n",
            "_________________________________________________________________\n",
            "flatten (Flatten)            (None, 25088)             0         \n",
            "_________________________________________________________________\n",
            "dense_2 (Dense)              (None, 204)               5118156   \n",
            "_________________________________________________________________\n",
            "dense_3 (Dense)              (None, 102)               20910     \n",
            "=================================================================\n",
            "Total params: 19,853,754\n",
            "Trainable params: 19,853,754\n",
            "Non-trainable params: 0\n",
            "_________________________________________________________________\n"
          ]
        }
      ]
    },
    {
      "cell_type": "code",
      "metadata": {
        "id": "JZb-gFNi5Bp6"
      },
      "source": [
        "conv_base.trainable = False"
      ],
      "execution_count": null,
      "outputs": []
    },
    {
      "cell_type": "code",
      "metadata": {
        "id": "cK6raySB6K_o"
      },
      "source": [
        "from tensorflow.keras.optimizers import RMSprop\n",
        "\n",
        "model1.compile(loss = 'categorical_crossentropy', optimizer = RMSprop(learning_rate = 2e-5), metrics = ['accuracy'])"
      ],
      "execution_count": null,
      "outputs": []
    },
    {
      "cell_type": "code",
      "metadata": {
        "colab": {
          "base_uri": "https://localhost:8080/"
        },
        "id": "BeXC1VTW68m2",
        "outputId": "c9a9a831-f262-4e79-9904-1076cb628e45"
      },
      "source": [
        "history = model1.fit(\n",
        "                      train_dataset,\n",
        "                      steps_per_epoch=len(X_train)//BATCH_SIZE,\n",
        "                      epochs=20,\n",
        "                      validation_data=val_dataset,\n",
        "                      validation_steps = len(X_valid)//BATCH_SIZE,\n",
        "                      callbacks = early_stop\n",
        ")"
      ],
      "execution_count": null,
      "outputs": [
        {
          "output_type": "stream",
          "name": "stdout",
          "text": [
            "Epoch 1/20\n",
            "31/31 [==============================] - 36s 750ms/step - loss: 17.5393 - accuracy: 0.0111 - val_loss: 16.2322 - val_accuracy: 0.0181\n",
            "Epoch 2/20\n",
            "31/31 [==============================] - 34s 832ms/step - loss: 11.4507 - accuracy: 0.0213 - val_loss: 11.5249 - val_accuracy: 0.0272\n",
            "Epoch 3/20\n",
            "31/31 [==============================] - 25s 825ms/step - loss: 7.9895 - accuracy: 0.0466 - val_loss: 8.6657 - val_accuracy: 0.0202\n",
            "Epoch 4/20\n",
            "31/31 [==============================] - 25s 830ms/step - loss: 6.2935 - accuracy: 0.0405 - val_loss: 6.9611 - val_accuracy: 0.0212\n",
            "Epoch 5/20\n",
            "31/31 [==============================] - 25s 822ms/step - loss: 5.4225 - accuracy: 0.0405 - val_loss: 6.0723 - val_accuracy: 0.0262\n",
            "Epoch 6/20\n",
            "31/31 [==============================] - 25s 820ms/step - loss: 4.8820 - accuracy: 0.0617 - val_loss: 5.6057 - val_accuracy: 0.0252\n",
            "Epoch 7/20\n",
            "31/31 [==============================] - 25s 822ms/step - loss: 4.5835 - accuracy: 0.0810 - val_loss: 5.4140 - val_accuracy: 0.0373\n",
            "Epoch 8/20\n",
            "31/31 [==============================] - 25s 814ms/step - loss: 4.4695 - accuracy: 0.0739 - val_loss: 5.2386 - val_accuracy: 0.0433\n",
            "Epoch 9/20\n",
            "31/31 [==============================] - 25s 811ms/step - loss: 4.3656 - accuracy: 0.0941 - val_loss: 5.1543 - val_accuracy: 0.0524\n",
            "Epoch 10/20\n",
            "31/31 [==============================] - 25s 818ms/step - loss: 4.2337 - accuracy: 0.1134 - val_loss: 5.0862 - val_accuracy: 0.0585\n",
            "Epoch 11/20\n",
            "31/31 [==============================] - 25s 813ms/step - loss: 4.1342 - accuracy: 0.1316 - val_loss: 5.0423 - val_accuracy: 0.0585\n",
            "Epoch 12/20\n",
            "31/31 [==============================] - 25s 816ms/step - loss: 3.9444 - accuracy: 0.1468 - val_loss: 5.0441 - val_accuracy: 0.0605\n",
            "Epoch 13/20\n",
            "31/31 [==============================] - 24s 795ms/step - loss: 3.9235 - accuracy: 0.1609 - val_loss: 5.0164 - val_accuracy: 0.0665\n",
            "Epoch 14/20\n",
            "31/31 [==============================] - 25s 822ms/step - loss: 3.7418 - accuracy: 0.1812 - val_loss: 4.9945 - val_accuracy: 0.0847\n",
            "Epoch 15/20\n",
            "31/31 [==============================] - 25s 812ms/step - loss: 3.7393 - accuracy: 0.1964 - val_loss: 4.9636 - val_accuracy: 0.0837\n",
            "Epoch 16/20\n",
            "31/31 [==============================] - 25s 820ms/step - loss: 3.6569 - accuracy: 0.2065 - val_loss: 5.0342 - val_accuracy: 0.0938\n",
            "Epoch 17/20\n",
            "31/31 [==============================] - 25s 815ms/step - loss: 3.5428 - accuracy: 0.2267 - val_loss: 4.9622 - val_accuracy: 0.0978\n",
            "Epoch 18/20\n",
            "31/31 [==============================] - 25s 823ms/step - loss: 3.3078 - accuracy: 0.2702 - val_loss: 4.9785 - val_accuracy: 0.1220\n",
            "Epoch 19/20\n",
            "31/31 [==============================] - 25s 820ms/step - loss: 3.3301 - accuracy: 0.2702 - val_loss: 4.9238 - val_accuracy: 0.1200\n",
            "Epoch 20/20\n",
            "31/31 [==============================] - 25s 818ms/step - loss: 3.1125 - accuracy: 0.3067 - val_loss: 5.0471 - val_accuracy: 0.1270\n"
          ]
        }
      ]
    },
    {
      "cell_type": "code",
      "metadata": {
        "colab": {
          "base_uri": "https://localhost:8080/",
          "height": 320
        },
        "id": "OTbg0Kcg7xaX",
        "outputId": "731ce456-10f7-475c-c975-6a6118c0554a"
      },
      "source": [
        "pd.DataFrame(history.history).plot(figsize = (8, 5))\n",
        "plt.grid(True)\n",
        "plt.show()"
      ],
      "execution_count": null,
      "outputs": [
        {
          "output_type": "display_data",
          "data": {
            "image/png": "[encoded data removed]",
            "text/plain": [
              "<Figure size 576x360 with 1 Axes>"
            ]
          },
          "metadata": {
            "needs_background": "light"
          }
        }
      ]
    }
  ]
}