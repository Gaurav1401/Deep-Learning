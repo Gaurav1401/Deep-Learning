{
  "nbformat": 4,
  "nbformat_minor": 0,
  "metadata": {
    "colab": {
      "name": "102 Category Flower Dataset.ipynb",
      "provenance": [],
      "authorship_tag": "ABX9TyMsAfEetYqGVNuvoU7aPox1",
      "include_colab_link": true
    },
    "kernelspec": {
      "name": "python3",
      "display_name": "Python 3"
    },
    "language_info": {
      "name": "python"
    },
    "accelerator": "GPU"
  },
  "cells": [
    {
      "cell_type": "markdown",
      "metadata": {
        "id": "view-in-github",
        "colab_type": "text"
      },
      "source": [
        "<a href=\"https://colab.research.google.com/github/Gaurav1401/Deep-Learning/blob/main/Practice/CNN/TMLC/102_Category_Flower_Dataset.ipynb\" target=\"_parent\"><img src=\"https://colab.research.google.com/assets/colab-badge.svg\" alt=\"Open In Colab\"/></a>"
      ]
    },
    {
      "cell_type": "markdown",
      "metadata": {
        "id": "29QruZa_P8Vo"
      },
      "source": [
        "# **Downloading and Unzipping the Files**"
      ]
    },
    {
      "cell_type": "code",
      "metadata": {
        "colab": {
          "base_uri": "https://localhost:8080/"
        },
        "id": "g8bdQPUAOs0d",
        "outputId": "81415dd5-71a9-46c5-e3bc-6f12507ae342"
      },
      "source": [
        "!wget \"https://s3.amazonaws.com/fast-ai-imageclas/oxford-102-flowers.tgz\""
      ],
      "execution_count": 1,
      "outputs": [
        {
          "output_type": "stream",
          "name": "stdout",
          "text": [
            "--2021-10-28 15:49:54--  https://s3.amazonaws.com/fast-ai-imageclas/oxford-102-flowers.tgz\n",
            "Resolving s3.amazonaws.com (s3.amazonaws.com)... 52.217.170.120\n",
            "Connecting to s3.amazonaws.com (s3.amazonaws.com)|52.217.170.120|:443... connected.\n",
            "HTTP request sent, awaiting response... 200 OK\n",
            "Length: 345236087 (329M) [application/x-tar]\n",
            "Saving to: ‘oxford-102-flowers.tgz’\n",
            "\n",
            "oxford-102-flowers. 100%[===================>] 329.24M  61.6MB/s    in 5.8s    \n",
            "\n",
            "2021-10-28 15:50:00 (56.4 MB/s) - ‘oxford-102-flowers.tgz’ saved [345236087/345236087]\n",
            "\n"
          ]
        }
      ]
    },
    {
      "cell_type": "code",
      "metadata": {
        "id": "7joD7V5kOxa9"
      },
      "source": [
        "# Unzipping the file\n",
        "# !tar -xzvf \"/content/oxford-102-flowers.tgz\""
      ],
      "execution_count": 48,
      "outputs": []
    },
    {
      "cell_type": "markdown",
      "metadata": {
        "id": "hr5OYEzwQLr_"
      },
      "source": [
        "# **Checking the folder content**"
      ]
    },
    {
      "cell_type": "code",
      "metadata": {
        "colab": {
          "base_uri": "https://localhost:8080/"
        },
        "id": "fuwEi6z3PADl",
        "outputId": "6cfb58dc-59b5-47c6-dc12-1ba5dbaf8c28"
      },
      "source": [
        "!ls oxford-102-flowers # list of files in the folder"
      ],
      "execution_count": 3,
      "outputs": [
        {
          "output_type": "stream",
          "name": "stdout",
          "text": [
            "jpg  test.txt  train.txt  valid.txt\n"
          ]
        }
      ]
    },
    {
      "cell_type": "code",
      "metadata": {
        "id": "dBCGcMt2QHcc"
      },
      "source": [
        "import tensorflow as tf\n",
        "import numpy as np\n",
        "import matplotlib.pyplot as plt\n",
        "import pathlib # to access files inside folders eaasily\n",
        "import os\n",
        "from tqdm import tqdm # for graph like progress bars"
      ],
      "execution_count": 4,
      "outputs": []
    },
    {
      "cell_type": "code",
      "metadata": {
        "colab": {
          "base_uri": "https://localhost:8080/"
        },
        "id": "fN8Ch0HWSY8t",
        "outputId": "84a3d052-3f39-4563-f831-5c34b20ee0e2"
      },
      "source": [
        "len(os.listdir(\"/content/oxford-102-flowers/jpg\")) # checking number of image files in the jpg folder"
      ],
      "execution_count": 5,
      "outputs": [
        {
          "output_type": "execute_result",
          "data": {
            "text/plain": [
              "8189"
            ]
          },
          "metadata": {},
          "execution_count": 5
        }
      ]
    },
    {
      "cell_type": "code",
      "metadata": {
        "colab": {
          "base_uri": "https://localhost:8080/"
        },
        "id": "gDYaJtQRTCd9",
        "outputId": "cb25fc25-5702-4cb5-e52b-0155dda95954"
      },
      "source": [
        "path = pathlib.Path(\"oxford-102-flowers\")\n",
        "all_paths = path.glob(\"*/*.jpg\")\n",
        "all_paths"
      ],
      "execution_count": 6,
      "outputs": [
        {
          "output_type": "execute_result",
          "data": {
            "text/plain": [
              "<generator object Path.glob at 0x7f784ef07b50>"
            ]
          },
          "metadata": {},
          "execution_count": 6
        }
      ]
    },
    {
      "cell_type": "code",
      "metadata": {
        "colab": {
          "base_uri": "https://localhost:8080/"
        },
        "id": "3vFIup3DTzUI",
        "outputId": "00d52ab8-c82e-4f59-9c72-647ae9efe46f"
      },
      "source": [
        "all_paths = list(all_paths)\n",
        "all_paths[:5]"
      ],
      "execution_count": 7,
      "outputs": [
        {
          "output_type": "execute_result",
          "data": {
            "text/plain": [
              "[PosixPath('oxford-102-flowers/jpg/image_07467.jpg'),\n",
              " PosixPath('oxford-102-flowers/jpg/image_04143.jpg'),\n",
              " PosixPath('oxford-102-flowers/jpg/image_04369.jpg'),\n",
              " PosixPath('oxford-102-flowers/jpg/image_00942.jpg'),\n",
              " PosixPath('oxford-102-flowers/jpg/image_06737.jpg')]"
            ]
          },
          "metadata": {},
          "execution_count": 7
        }
      ]
    },
    {
      "cell_type": "code",
      "metadata": {
        "colab": {
          "base_uri": "https://localhost:8080/"
        },
        "id": "M4Bv-aqmT7Yo",
        "outputId": "3cc16fff-0c02-47a9-defc-3b0b3df37ca4"
      },
      "source": [
        "all_paths = list(map(lambda x : str(x), all_paths))\n",
        "all_paths[:5]"
      ],
      "execution_count": 8,
      "outputs": [
        {
          "output_type": "execute_result",
          "data": {
            "text/plain": [
              "['oxford-102-flowers/jpg/image_07467.jpg',\n",
              " 'oxford-102-flowers/jpg/image_04143.jpg',\n",
              " 'oxford-102-flowers/jpg/image_04369.jpg',\n",
              " 'oxford-102-flowers/jpg/image_00942.jpg',\n",
              " 'oxford-102-flowers/jpg/image_06737.jpg']"
            ]
          },
          "metadata": {},
          "execution_count": 8
        }
      ]
    },
    {
      "cell_type": "markdown",
      "metadata": {
        "id": "ouVqRFgTVwmR"
      },
      "source": [
        "**Reading the text files**"
      ]
    },
    {
      "cell_type": "code",
      "metadata": {
        "id": "ryDMKPHSUTEt"
      },
      "source": [
        "def Read_Two_Column_File(file_name):\n",
        "    with open(file_name, 'r') as data:\n",
        "        x = []\n",
        "        y = []\n",
        "        for line in data:\n",
        "            p = line.split()\n",
        "            x.append(p[0])\n",
        "            y.append(int(p[1]))\n",
        "\n",
        "    return x, y"
      ],
      "execution_count": 9,
      "outputs": []
    },
    {
      "cell_type": "code",
      "metadata": {
        "id": "eKRTrvmYVtQ5"
      },
      "source": [
        "X_train, y_train = Read_Two_Column_File('/content/oxford-102-flowers/train.txt')\n",
        "X_valid, y_valid = Read_Two_Column_File(\"/content/oxford-102-flowers/valid.txt\")"
      ],
      "execution_count": 10,
      "outputs": []
    },
    {
      "cell_type": "code",
      "metadata": {
        "colab": {
          "base_uri": "https://localhost:8080/"
        },
        "id": "XpkSYgBFWHLT",
        "outputId": "9472a24c-7588-4840-f7d7-6bc289715f90"
      },
      "source": [
        "X_train[:5]"
      ],
      "execution_count": 11,
      "outputs": [
        {
          "output_type": "execute_result",
          "data": {
            "text/plain": [
              "['jpg/image_03860.jpg',\n",
              " 'jpg/image_06092.jpg',\n",
              " 'jpg/image_02400.jpg',\n",
              " 'jpg/image_02852.jpg',\n",
              " 'jpg/image_07710.jpg']"
            ]
          },
          "metadata": {},
          "execution_count": 11
        }
      ]
    },
    {
      "cell_type": "code",
      "metadata": {
        "id": "UNVbp7goWPy7"
      },
      "source": [
        "def complete_path(image_path):\n",
        "  return \"oxford-102-flowers/\" + image_path"
      ],
      "execution_count": 12,
      "outputs": []
    },
    {
      "cell_type": "markdown",
      "metadata": {
        "id": "30kasSxPa5Uh"
      },
      "source": [
        "**Making the image path complete in the list**"
      ]
    },
    {
      "cell_type": "code",
      "metadata": {
        "id": "tP-Qr2EuXdWl"
      },
      "source": [
        "X_train = list(map(complete_path, X_train))\n",
        "X_valid = list(map(complete_path, X_valid))"
      ],
      "execution_count": 13,
      "outputs": []
    },
    {
      "cell_type": "code",
      "metadata": {
        "colab": {
          "base_uri": "https://localhost:8080/"
        },
        "id": "HHG23zl4XzDe",
        "outputId": "878a5a54-3876-4c3a-e436-23812498af33"
      },
      "source": [
        "X_train[:5]"
      ],
      "execution_count": 14,
      "outputs": [
        {
          "output_type": "execute_result",
          "data": {
            "text/plain": [
              "['oxford-102-flowers/jpg/image_03860.jpg',\n",
              " 'oxford-102-flowers/jpg/image_06092.jpg',\n",
              " 'oxford-102-flowers/jpg/image_02400.jpg',\n",
              " 'oxford-102-flowers/jpg/image_02852.jpg',\n",
              " 'oxford-102-flowers/jpg/image_07710.jpg']"
            ]
          },
          "metadata": {},
          "execution_count": 14
        }
      ]
    },
    {
      "cell_type": "code",
      "metadata": {
        "colab": {
          "base_uri": "https://localhost:8080/"
        },
        "id": "nj9_dHSEX1lL",
        "outputId": "70b80d67-230a-45aa-9484-4facc6c71d48"
      },
      "source": [
        "y_train[:5]"
      ],
      "execution_count": 15,
      "outputs": [
        {
          "output_type": "execute_result",
          "data": {
            "text/plain": [
              "[16, 13, 42, 55, 96]"
            ]
          },
          "metadata": {},
          "execution_count": 15
        }
      ]
    },
    {
      "cell_type": "markdown",
      "metadata": {
        "id": "jcmR3sG5bAH4"
      },
      "source": [
        "### **One hot encoding the target variables**"
      ]
    },
    {
      "cell_type": "code",
      "metadata": {
        "colab": {
          "base_uri": "https://localhost:8080/"
        },
        "id": "lWHPH7fMX7CE",
        "outputId": "43dac229-d948-4486-a356-8020940dec2d"
      },
      "source": [
        "train_image_labels = tf.keras.utils.to_categorical(y_train)\n",
        "\n",
        "train_image_labels[:10]"
      ],
      "execution_count": 16,
      "outputs": [
        {
          "output_type": "execute_result",
          "data": {
            "text/plain": [
              "array([[0., 0., 0., ..., 0., 0., 0.],\n",
              "       [0., 0., 0., ..., 0., 0., 0.],\n",
              "       [0., 0., 0., ..., 0., 0., 0.],\n",
              "       ...,\n",
              "       [0., 0., 0., ..., 0., 0., 0.],\n",
              "       [0., 0., 0., ..., 0., 0., 0.],\n",
              "       [0., 0., 0., ..., 0., 0., 0.]], dtype=float32)"
            ]
          },
          "metadata": {},
          "execution_count": 16
        }
      ]
    },
    {
      "cell_type": "code",
      "metadata": {
        "colab": {
          "base_uri": "https://localhost:8080/"
        },
        "id": "T4OdDMYLZoWj",
        "outputId": "a8c4fc14-8782-4548-873f-dc5cf88dbfcf"
      },
      "source": [
        "valid_image_labels = tf.keras.utils.to_categorical(y_valid)\n",
        "\n",
        "valid_image_labels[:10]"
      ],
      "execution_count": 17,
      "outputs": [
        {
          "output_type": "execute_result",
          "data": {
            "text/plain": [
              "array([[0., 0., 0., ..., 0., 0., 0.],\n",
              "       [0., 0., 0., ..., 0., 0., 0.],\n",
              "       [0., 0., 0., ..., 0., 0., 0.],\n",
              "       ...,\n",
              "       [0., 0., 0., ..., 0., 0., 0.],\n",
              "       [0., 0., 0., ..., 0., 0., 0.],\n",
              "       [0., 0., 0., ..., 0., 0., 0.]], dtype=float32)"
            ]
          },
          "metadata": {},
          "execution_count": 17
        }
      ]
    },
    {
      "cell_type": "code",
      "metadata": {
        "id": "s7Y5jV7SbTup"
      },
      "source": [
        "# Function used for Transformation\n",
        "\n",
        "def load(image , label):\n",
        "    image = tf.io.read_file(image)\n",
        "    image = tf.io.decode_jpeg(image , channels = 3)\n",
        "    return image , label"
      ],
      "execution_count": 18,
      "outputs": []
    },
    {
      "cell_type": "code",
      "metadata": {
        "id": "7Tt96TAGfHII"
      },
      "source": [
        "# Define IMAGE SIZE and BATCH SIZE \n",
        "IMG_SIZE = 224 \n",
        "BATCH_SIZE = 32\n",
        "\n",
        "# Basic Transformation\n",
        "resize = tf.keras.Sequential([\n",
        "    tf.keras.layers.experimental.preprocessing.Resizing(IMG_SIZE, IMG_SIZE)          \n",
        "])\n",
        "\n",
        "# Data Augmentation\n",
        "data_augmentation = tf.keras.Sequential([\n",
        "    tf.keras.layers.experimental.preprocessing.RandomFlip(\"horizontal\"),\n",
        "    tf.keras.layers.experimental.preprocessing.RandomRotation(0.2),\n",
        "    tf.keras.layers.experimental.preprocessing.RandomZoom(height_factor = (-0.3, -0.2))\n",
        "])"
      ],
      "execution_count": 19,
      "outputs": []
    },
    {
      "cell_type": "code",
      "metadata": {
        "id": "6MtcFFTVfLtJ"
      },
      "source": [
        "# Function used to Create a Tensorflow Data Object\n",
        "AUTOTUNE = tf.data.experimental.AUTOTUNE\n",
        "def get_dataset(paths , labels , train = True):\n",
        "    image_paths = tf.convert_to_tensor(paths)\n",
        "    labels = tf.convert_to_tensor(labels)\n",
        "\n",
        "    image_dataset = tf.data.Dataset.from_tensor_slices(image_paths)\n",
        "    label_dataset = tf.data.Dataset.from_tensor_slices(labels)\n",
        "\n",
        "    dataset = tf.data.Dataset.zip((image_dataset , label_dataset))\n",
        "\n",
        "    dataset = dataset.map(lambda image , label : load(image , label))\n",
        "    dataset = dataset.map(lambda image, label: (resize(image), label) , num_parallel_calls=AUTOTUNE)\n",
        "    dataset = dataset.shuffle(1000)\n",
        "    dataset = dataset.batch(BATCH_SIZE)\n",
        "\n",
        "    if train:\n",
        "        dataset = dataset.map(lambda image, label: (data_augmentation(image), label) , num_parallel_calls=AUTOTUNE)\n",
        "    \n",
        "    dataset = dataset.repeat()\n",
        "    return dataset"
      ],
      "execution_count": 20,
      "outputs": []
    },
    {
      "cell_type": "code",
      "metadata": {
        "colab": {
          "base_uri": "https://localhost:8080/"
        },
        "id": "mD3uw8c1fUAh",
        "outputId": "53d5f550-c25a-4dba-bb70-c194acbabfd7"
      },
      "source": [
        "# Creating Train Dataset object and Verifying it\n",
        "%time train_dataset = get_dataset(X_train , train_image_labels)\n",
        "\n",
        "image , label = next(iter(train_dataset))\n",
        "print(image.shape)\n",
        "print(label.shape)"
      ],
      "execution_count": 21,
      "outputs": [
        {
          "output_type": "stream",
          "name": "stdout",
          "text": [
            "CPU times: user 524 ms, sys: 14 ms, total: 538 ms\n",
            "Wall time: 566 ms\n",
            "(32, 224, 224, 3)\n",
            "(32, 102)\n"
          ]
        }
      ]
    },
    {
      "cell_type": "code",
      "metadata": {
        "colab": {
          "base_uri": "https://localhost:8080/"
        },
        "id": "Ov_BLAcMfjYk",
        "outputId": "c4d58f71-9473-4e61-b258-b180cbdba74d"
      },
      "source": [
        "%time val_dataset = get_dataset(X_valid , valid_image_labels , train = False)\n",
        "\n",
        "image , label = next(iter(val_dataset))\n",
        "print(image.shape)\n",
        "print(label.shape)"
      ],
      "execution_count": 22,
      "outputs": [
        {
          "output_type": "stream",
          "name": "stdout",
          "text": [
            "CPU times: user 22.9 ms, sys: 3.69 ms, total: 26.6 ms\n",
            "Wall time: 29 ms\n",
            "(32, 224, 224, 3)\n",
            "(32, 102)\n"
          ]
        }
      ]
    },
    {
      "cell_type": "code",
      "metadata": {
        "id": "XNfWySaKh07Y"
      },
      "source": [
        "# Model part \n",
        "from tensorflow.keras.models import Sequential\n",
        "from tensorflow.keras.layers import Dense, Activation, Conv2D, MaxPooling2D, Flatten, Dropout, BatchNormalization , GlobalMaxPool2D\n",
        "from tensorflow.keras.callbacks import EarlyStopping\n",
        "\n",
        "\n",
        "model = Sequential()\n",
        "\n",
        "# Block 1 \n",
        "model.add(Conv2D(input_shape=(224 , 224 , 3),  padding='same',filters=32, kernel_size=(7, 7)))\n",
        "model.add(Activation('relu'))\n",
        "model.add(BatchNormalization())\n",
        "model.add(MaxPooling2D(pool_size=(2, 2)))\n",
        "model.add(Dropout(0.2))\n",
        "\n",
        "# Block 2\n",
        "model.add(Conv2D(filters=64,  padding='valid', kernel_size=(5, 5)))\n",
        "model.add(Activation('relu'))\n",
        "model.add(BatchNormalization())\n",
        "model.add(MaxPooling2D(pool_size=(2, 2)))\n",
        "model.add(Dropout(0.2))\n",
        "\n",
        "# Block 3 \n",
        "model.add(Conv2D(filters=128, padding='valid', kernel_size=(3, 3)))\n",
        "model.add(Activation('relu'))\n",
        "model.add(BatchNormalization())\n",
        "model.add(MaxPooling2D())\n",
        "model.add(Dropout(0.2))\n",
        "\n",
        "# Block 4 \n",
        "model.add(Conv2D(filters=256, padding='valid', kernel_size=(3, 3)))\n",
        "model.add(Activation('relu'))\n",
        "model.add(BatchNormalization())\n",
        "\n",
        "model.add(Conv2D(filters=256 , kernel_size=(3, 3)))\n",
        "model.add(Activation('relu'))\n",
        "model.add(BatchNormalization())\n",
        "model.add(MaxPooling2D(pool_size=(2, 2)))\n",
        "model.add(Dropout(0.2))\n",
        "\n",
        "model.add(GlobalMaxPool2D())\n",
        "\n",
        "model.add(Dense(units=256))\n",
        "model.add(Activation('relu'))\n",
        "model.add(Dropout(0.2))\n",
        "\n",
        "model.add(Dense(units=102))\n",
        "model.add(Activation('softmax'))"
      ],
      "execution_count": 36,
      "outputs": []
    },
    {
      "cell_type": "code",
      "metadata": {
        "colab": {
          "base_uri": "https://localhost:8080/"
        },
        "id": "vtKeMU4vjCdR",
        "outputId": "8edd8b95-b695-4629-a94b-77a8afe9df17"
      },
      "source": [
        "model.summary()"
      ],
      "execution_count": 37,
      "outputs": [
        {
          "output_type": "stream",
          "name": "stdout",
          "text": [
            "Model: \"sequential_4\"\n",
            "_________________________________________________________________\n",
            "Layer (type)                 Output Shape              Param #   \n",
            "=================================================================\n",
            "conv2d_10 (Conv2D)           (None, 224, 224, 32)      4736      \n",
            "_________________________________________________________________\n",
            "activation_14 (Activation)   (None, 224, 224, 32)      0         \n",
            "_________________________________________________________________\n",
            "batch_normalization_10 (Batc (None, 224, 224, 32)      128       \n",
            "_________________________________________________________________\n",
            "max_pooling2d_8 (MaxPooling2 (None, 112, 112, 32)      0         \n",
            "_________________________________________________________________\n",
            "dropout_10 (Dropout)         (None, 112, 112, 32)      0         \n",
            "_________________________________________________________________\n",
            "conv2d_11 (Conv2D)           (None, 108, 108, 64)      51264     \n",
            "_________________________________________________________________\n",
            "activation_15 (Activation)   (None, 108, 108, 64)      0         \n",
            "_________________________________________________________________\n",
            "batch_normalization_11 (Batc (None, 108, 108, 64)      256       \n",
            "_________________________________________________________________\n",
            "max_pooling2d_9 (MaxPooling2 (None, 54, 54, 64)        0         \n",
            "_________________________________________________________________\n",
            "dropout_11 (Dropout)         (None, 54, 54, 64)        0         \n",
            "_________________________________________________________________\n",
            "conv2d_12 (Conv2D)           (None, 52, 52, 128)       73856     \n",
            "_________________________________________________________________\n",
            "activation_16 (Activation)   (None, 52, 52, 128)       0         \n",
            "_________________________________________________________________\n",
            "batch_normalization_12 (Batc (None, 52, 52, 128)       512       \n",
            "_________________________________________________________________\n",
            "max_pooling2d_10 (MaxPooling (None, 26, 26, 128)       0         \n",
            "_________________________________________________________________\n",
            "dropout_12 (Dropout)         (None, 26, 26, 128)       0         \n",
            "_________________________________________________________________\n",
            "conv2d_13 (Conv2D)           (None, 24, 24, 256)       295168    \n",
            "_________________________________________________________________\n",
            "activation_17 (Activation)   (None, 24, 24, 256)       0         \n",
            "_________________________________________________________________\n",
            "batch_normalization_13 (Batc (None, 24, 24, 256)       1024      \n",
            "_________________________________________________________________\n",
            "conv2d_14 (Conv2D)           (None, 22, 22, 256)       590080    \n",
            "_________________________________________________________________\n",
            "activation_18 (Activation)   (None, 22, 22, 256)       0         \n",
            "_________________________________________________________________\n",
            "batch_normalization_14 (Batc (None, 22, 22, 256)       1024      \n",
            "_________________________________________________________________\n",
            "max_pooling2d_11 (MaxPooling (None, 11, 11, 256)       0         \n",
            "_________________________________________________________________\n",
            "dropout_13 (Dropout)         (None, 11, 11, 256)       0         \n",
            "_________________________________________________________________\n",
            "global_max_pooling2d_2 (Glob (None, 256)               0         \n",
            "_________________________________________________________________\n",
            "dense_4 (Dense)              (None, 256)               65792     \n",
            "_________________________________________________________________\n",
            "activation_19 (Activation)   (None, 256)               0         \n",
            "_________________________________________________________________\n",
            "dropout_14 (Dropout)         (None, 256)               0         \n",
            "_________________________________________________________________\n",
            "dense_5 (Dense)              (None, 102)               26214     \n",
            "_________________________________________________________________\n",
            "activation_20 (Activation)   (None, 102)               0         \n",
            "=================================================================\n",
            "Total params: 1,110,054\n",
            "Trainable params: 1,108,582\n",
            "Non-trainable params: 1,472\n",
            "_________________________________________________________________\n"
          ]
        }
      ]
    },
    {
      "cell_type": "code",
      "metadata": {
        "id": "Y93ySyhkjEdN"
      },
      "source": [
        "model.compile(loss = 'categorical_crossentropy', optimizer = 'adam', metrics = ['accuracy'])"
      ],
      "execution_count": 40,
      "outputs": []
    },
    {
      "cell_type": "code",
      "metadata": {
        "id": "RJvrG8V4pdvi"
      },
      "source": [
        "early_stop = EarlyStopping(monitor='val_loss', patience=2)"
      ],
      "execution_count": 41,
      "outputs": []
    },
    {
      "cell_type": "code",
      "metadata": {
        "colab": {
          "base_uri": "https://localhost:8080/"
        },
        "id": "qz5BbVxFjOrp",
        "outputId": "31b911a0-1f5b-428a-e026-36ea7da41b93"
      },
      "source": [
        "history = model.fit(\n",
        "    train_dataset,\n",
        "    steps_per_epoch=len(X_train)//BATCH_SIZE,\n",
        "    epochs=20,\n",
        "    validation_data=val_dataset,\n",
        "    validation_steps = len(X_valid)//BATCH_SIZE,\n",
        "    callbacks = early_stop\n",
        ")"
      ],
      "execution_count": 42,
      "outputs": [
        {
          "output_type": "stream",
          "name": "stdout",
          "text": [
            "Epoch 1/20\n",
            "31/31 [==============================] - 19s 476ms/step - loss: 6.1688 - accuracy: 0.0192 - val_loss: 21.7370 - val_accuracy: 0.0171\n",
            "Epoch 2/20\n",
            "31/31 [==============================] - 16s 544ms/step - loss: 4.3125 - accuracy: 0.0526 - val_loss: 6.3691 - val_accuracy: 0.0262\n",
            "Epoch 3/20\n",
            "31/31 [==============================] - 17s 550ms/step - loss: 4.0276 - accuracy: 0.0749 - val_loss: 4.2988 - val_accuracy: 0.0423\n",
            "Epoch 4/20\n",
            "31/31 [==============================] - 16s 535ms/step - loss: 3.8517 - accuracy: 0.0840 - val_loss: 4.3089 - val_accuracy: 0.0575\n",
            "Epoch 5/20\n",
            "31/31 [==============================] - 16s 538ms/step - loss: 3.6796 - accuracy: 0.1093 - val_loss: 3.7111 - val_accuracy: 0.1079\n",
            "Epoch 6/20\n",
            "31/31 [==============================] - 16s 542ms/step - loss: 3.5681 - accuracy: 0.1437 - val_loss: 3.7456 - val_accuracy: 0.1179\n",
            "Epoch 7/20\n",
            "31/31 [==============================] - 16s 540ms/step - loss: 3.3857 - accuracy: 0.1721 - val_loss: 3.7693 - val_accuracy: 0.1099\n"
          ]
        }
      ]
    },
    {
      "cell_type": "code",
      "metadata": {
        "colab": {
          "base_uri": "https://localhost:8080/"
        },
        "id": "zkM-gvramskq",
        "outputId": "56c4ec4d-d275-4827-f3b8-54cc02080c19"
      },
      "source": [
        "# Model Evaluation\n",
        "loss, acc = model.evaluate(val_dataset, steps=50)\n",
        "\n",
        "print(\" Testing Acc : \" , acc)\n",
        "print(\" Testing Loss : \" , loss)"
      ],
      "execution_count": 47,
      "outputs": [
        {
          "output_type": "stream",
          "name": "stdout",
          "text": [
            "50/50 [==============================] - 7s 104ms/step - loss: 3.7725 - accuracy: 0.1109\n",
            " Testing Acc :  0.11090225726366043\n",
            " Testing Loss :  3.772536277770996\n"
          ]
        }
      ]
    },
    {
      "cell_type": "code",
      "metadata": {
        "id": "-y3zyaSTns7V"
      },
      "source": [
        ""
      ],
      "execution_count": null,
      "outputs": []
    },
    {
      "cell_type": "code",
      "metadata": {
        "id": "4ZTv1idfns4S"
      },
      "source": [
        ""
      ],
      "execution_count": null,
      "outputs": []
    }
  ]
}