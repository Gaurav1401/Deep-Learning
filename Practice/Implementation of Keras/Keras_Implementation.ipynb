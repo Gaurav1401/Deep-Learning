{
  "nbformat": 4,
  "nbformat_minor": 0,
  "metadata": {
    "colab": {
      "name": "Keras Implementation.ipynb",
      "provenance": [],
      "collapsed_sections": [],
      "authorship_tag": "ABX9TyM7EOae++GBVvhaHEATyOQN",
      "include_colab_link": true
    },
    "kernelspec": {
      "name": "python3",
      "display_name": "Python 3"
    },
    "language_info": {
      "name": "python"
    }
  },
  "cells": [
    {
      "cell_type": "markdown",
      "metadata": {
        "id": "view-in-github",
        "colab_type": "text"
      },
      "source": [
        "<a href=\"https://colab.research.google.com/github/Gaurav1401/Deep-Learning/blob/main/Practice/Implementation%20of%20Keras/Keras_Implementation.ipynb\" target=\"_parent\"><img src=\"https://colab.research.google.com/assets/colab-badge.svg\" alt=\"Open In Colab\"/></a>"
      ]
    },
    {
      "cell_type": "markdown",
      "metadata": {
        "id": "zIDAFn-Xmh_n"
      },
      "source": [
        "# **Workflow to use Keras**"
      ]
    },
    {
      "cell_type": "code",
      "metadata": {
        "id": "OrpFMUqSj40t"
      },
      "source": [
        "import numpy as np\n",
        "import pandas as pd\n",
        "import seaborn as sns"
      ],
      "execution_count": 1,
      "outputs": []
    },
    {
      "cell_type": "code",
      "metadata": {
        "id": "Xa7eIx4TmpyQ"
      },
      "source": [
        "df = pd.read_csv('fake_reg.csv')"
      ],
      "execution_count": 2,
      "outputs": []
    },
    {
      "cell_type": "code",
      "metadata": {
        "colab": {
          "base_uri": "https://localhost:8080/",
          "height": 204
        },
        "id": "-l1YLyzlmucx",
        "outputId": "121f3427-31e3-4cb1-9c7d-9ff2e922f161"
      },
      "source": [
        "df.head()"
      ],
      "execution_count": 3,
      "outputs": [
        {
          "output_type": "execute_result",
          "data": {
            "text/html": [
              "<div>\n",
              "<style scoped>\n",
              "    .dataframe tbody tr th:only-of-type {\n",
              "        vertical-align: middle;\n",
              "    }\n",
              "\n",
              "    .dataframe tbody tr th {\n",
              "        vertical-align: top;\n",
              "    }\n",
              "\n",
              "    .dataframe thead th {\n",
              "        text-align: right;\n",
              "    }\n",
              "</style>\n",
              "<table border=\"1\" class=\"dataframe\">\n",
              "  <thead>\n",
              "    <tr style=\"text-align: right;\">\n",
              "      <th></th>\n",
              "      <th>price</th>\n",
              "      <th>feature1</th>\n",
              "      <th>feature2</th>\n",
              "    </tr>\n",
              "  </thead>\n",
              "  <tbody>\n",
              "    <tr>\n",
              "      <th>0</th>\n",
              "      <td>461.527929</td>\n",
              "      <td>999.787558</td>\n",
              "      <td>999.766096</td>\n",
              "    </tr>\n",
              "    <tr>\n",
              "      <th>1</th>\n",
              "      <td>548.130011</td>\n",
              "      <td>998.861615</td>\n",
              "      <td>1001.042403</td>\n",
              "    </tr>\n",
              "    <tr>\n",
              "      <th>2</th>\n",
              "      <td>410.297162</td>\n",
              "      <td>1000.070267</td>\n",
              "      <td>998.844015</td>\n",
              "    </tr>\n",
              "    <tr>\n",
              "      <th>3</th>\n",
              "      <td>540.382220</td>\n",
              "      <td>999.952251</td>\n",
              "      <td>1000.440940</td>\n",
              "    </tr>\n",
              "    <tr>\n",
              "      <th>4</th>\n",
              "      <td>546.024553</td>\n",
              "      <td>1000.446011</td>\n",
              "      <td>1000.338531</td>\n",
              "    </tr>\n",
              "  </tbody>\n",
              "</table>\n",
              "</div>"
            ],
            "text/plain": [
              "        price     feature1     feature2\n",
              "0  461.527929   999.787558   999.766096\n",
              "1  548.130011   998.861615  1001.042403\n",
              "2  410.297162  1000.070267   998.844015\n",
              "3  540.382220   999.952251  1000.440940\n",
              "4  546.024553  1000.446011  1000.338531"
            ]
          },
          "metadata": {
            "tags": []
          },
          "execution_count": 3
        }
      ]
    },
    {
      "cell_type": "code",
      "metadata": {
        "colab": {
          "base_uri": "https://localhost:8080/",
          "height": 567
        },
        "id": "EN5jFhWBmyOw",
        "outputId": "5d88f5b1-c3d7-4a95-a674-c8e73567ffa7"
      },
      "source": [
        "sns.pairplot(df)"
      ],
      "execution_count": 4,
      "outputs": [
        {
          "output_type": "execute_result",
          "data": {
            "text/plain": [
              "<seaborn.axisgrid.PairGrid at 0x7fdd49fd45d0>"
            ]
          },
          "metadata": {
            "tags": []
          },
          "execution_count": 4
        },
        {
          "output_type": "display_data",
          "data": {
            "image/png": "[encoded data removed]",
            "text/plain": [
              "<Figure size 540x540 with 12 Axes>"
            ]
          },
          "metadata": {
            "tags": [],
            "needs_background": "light"
          }
        }
      ]
    },
    {
      "cell_type": "code",
      "metadata": {
        "id": "lEwbwskzm0zd"
      },
      "source": [
        "from sklearn.model_selection import train_test_split"
      ],
      "execution_count": 5,
      "outputs": []
    },
    {
      "cell_type": "code",
      "metadata": {
        "id": "-3fRT-U7nUAp"
      },
      "source": [
        "X = df[['feature1', 'feature2']]\n",
        "y = df['price']"
      ],
      "execution_count": 58,
      "outputs": []
    },
    {
      "cell_type": "code",
      "metadata": {
        "id": "USmuVhX_npNt"
      },
      "source": [
        "X_train, X_test, y_train, y_test = train_test_split(X, y, test_size = 0.3, random_state = 42)"
      ],
      "execution_count": 59,
      "outputs": []
    },
    {
      "cell_type": "code",
      "metadata": {
        "colab": {
          "base_uri": "https://localhost:8080/"
        },
        "id": "3VlatJCfxADA",
        "outputId": "7bff718e-15aa-4b31-f8d6-54ac52a07155"
      },
      "source": [
        "y_train.shape, y_test.shape"
      ],
      "execution_count": 60,
      "outputs": [
        {
          "output_type": "execute_result",
          "data": {
            "text/plain": [
              "((700,), (300,))"
            ]
          },
          "metadata": {
            "tags": []
          },
          "execution_count": 60
        }
      ]
    },
    {
      "cell_type": "code",
      "metadata": {
        "id": "S1ZxDlcYuTu3"
      },
      "source": [
        "from sklearn.preprocessing import MinMaxScaler"
      ],
      "execution_count": 61,
      "outputs": []
    },
    {
      "cell_type": "code",
      "metadata": {
        "id": "wzIZpnDtu0KF"
      },
      "source": [
        "scaler = MinMaxScaler()"
      ],
      "execution_count": 62,
      "outputs": []
    },
    {
      "cell_type": "code",
      "metadata": {
        "colab": {
          "base_uri": "https://localhost:8080/"
        },
        "id": "ZcVv69GhvC51",
        "outputId": "6042bf9c-7de2-49ad-8ff9-6e88e9bd70b5"
      },
      "source": [
        "scaler.fit(X_train)"
      ],
      "execution_count": 63,
      "outputs": [
        {
          "output_type": "execute_result",
          "data": {
            "text/plain": [
              "MinMaxScaler(copy=True, feature_range=(0, 1))"
            ]
          },
          "metadata": {
            "tags": []
          },
          "execution_count": 63
        }
      ]
    },
    {
      "cell_type": "code",
      "metadata": {
        "id": "ZrOaHBX_vmhX"
      },
      "source": [
        "X_train = scaler.transform(X_train)\n",
        "X_test = scaler.transform(X_test)"
      ],
      "execution_count": 64,
      "outputs": []
    },
    {
      "cell_type": "code",
      "metadata": {
        "colab": {
          "base_uri": "https://localhost:8080/"
        },
        "id": "OFHOSliZvy-D",
        "outputId": "06971b3f-9fe1-4eca-c0d9-1aff90260576"
      },
      "source": [
        "X_train"
      ],
      "execution_count": 65,
      "outputs": [
        {
          "output_type": "execute_result",
          "data": {
            "text/plain": [
              "array([[0.74046017, 0.32583248],\n",
              "       [0.43166001, 0.2555088 ],\n",
              "       [0.18468554, 0.70500664],\n",
              "       ...,\n",
              "       [0.54913363, 0.79933822],\n",
              "       [0.2834197 , 0.38818708],\n",
              "       [0.56282703, 0.42371827]])"
            ]
          },
          "metadata": {
            "tags": []
          },
          "execution_count": 65
        }
      ]
    },
    {
      "cell_type": "code",
      "metadata": {
        "id": "s7PSp9_Av6Wh"
      },
      "source": [
        "from tensorflow.keras.models import Sequential\n",
        "from tensorflow.keras.layers import Dense"
      ],
      "execution_count": 66,
      "outputs": []
    },
    {
      "cell_type": "markdown",
      "metadata": {
        "id": "R1LCotwazuJP"
      },
      "source": [
        "**One way to create a Neural Network model is**"
      ]
    },
    {
      "cell_type": "code",
      "metadata": {
        "id": "U8Q0_5KixsMV"
      },
      "source": [
        "# model = Sequential([Dense(4, activation='relu'),\n",
        "#                     Dense(2, activation ='relu'),\n",
        "#                     Dense(1)])"
      ],
      "execution_count": 67,
      "outputs": []
    },
    {
      "cell_type": "markdown",
      "metadata": {
        "id": "hwR8EYuuz0Xh"
      },
      "source": [
        "**A better way to make neural network model**"
      ]
    },
    {
      "cell_type": "code",
      "metadata": {
        "id": "oVyRJMlpziuc"
      },
      "source": [
        "model = Sequential()\n",
        "\n",
        "model.add(Dense(4, activation='relu'))\n",
        "model.add(Dense(4, activation='relu'))\n",
        "model.add(Dense(4, activation='relu'))\n",
        "\n",
        "model.add(Dense(1))\n",
        "\n",
        "model.compile(optimizer='rmsprop', loss = 'mse')\n",
        "# Since, it is a regression problem, so using mse as loss function"
      ],
      "execution_count": 68,
      "outputs": []
    },
    {
      "cell_type": "code",
      "metadata": {
        "colab": {
          "base_uri": "https://localhost:8080/"
        },
        "id": "5blGzNpS0FQK",
        "outputId": "71021817-69c8-4e83-c7cf-b4a009db99cf"
      },
      "source": [
        "model.fit(X_train, y_train, epochs = 250)"
      ],
      "execution_count": 69,
      "outputs": [
        {
          "output_type": "stream",
          "text": [
            "Epoch 1/250\n",
            "22/22 [==============================] - 1s 1ms/step - loss: 256562.6250\n",
            "Epoch 2/250\n",
            "22/22 [==============================] - 0s 1ms/step - loss: 256457.6719\n",
            "Epoch 3/250\n",
            "22/22 [==============================] - 0s 1ms/step - loss: 256347.3438\n",
            "Epoch 4/250\n",
            "22/22 [==============================] - 0s 1ms/step - loss: 256222.6719\n",
            "Epoch 5/250\n",
            "22/22 [==============================] - 0s 1ms/step - loss: 256083.7500\n",
            "Epoch 6/250\n",
            "22/22 [==============================] - 0s 2ms/step - loss: 255928.4375\n",
            "Epoch 7/250\n",
            "22/22 [==============================] - 0s 1ms/step - loss: 255755.7500\n",
            "Epoch 8/250\n",
            "22/22 [==============================] - 0s 1ms/step - loss: 255565.2188\n",
            "Epoch 9/250\n",
            "22/22 [==============================] - 0s 1ms/step - loss: 255356.1875\n",
            "Epoch 10/250\n",
            "22/22 [==============================] - 0s 1ms/step - loss: 255127.9062\n",
            "Epoch 11/250\n",
            "22/22 [==============================] - 0s 1ms/step - loss: 254877.0781\n",
            "Epoch 12/250\n",
            "22/22 [==============================] - 0s 2ms/step - loss: 254606.1250\n",
            "Epoch 13/250\n",
            "22/22 [==============================] - 0s 2ms/step - loss: 254311.0000\n",
            "Epoch 14/250\n",
            "22/22 [==============================] - 0s 1ms/step - loss: 253990.1250\n",
            "Epoch 15/250\n",
            "22/22 [==============================] - 0s 2ms/step - loss: 253642.6250\n",
            "Epoch 16/250\n",
            "22/22 [==============================] - 0s 1ms/step - loss: 253269.9375\n",
            "Epoch 17/250\n",
            "22/22 [==============================] - 0s 1ms/step - loss: 252867.5156\n",
            "Epoch 18/250\n",
            "22/22 [==============================] - 0s 1ms/step - loss: 252435.8438\n",
            "Epoch 19/250\n",
            "22/22 [==============================] - 0s 1ms/step - loss: 251972.2500\n",
            "Epoch 20/250\n",
            "22/22 [==============================] - 0s 1ms/step - loss: 251472.9844\n",
            "Epoch 21/250\n",
            "22/22 [==============================] - 0s 1ms/step - loss: 250942.8281\n",
            "Epoch 22/250\n",
            "22/22 [==============================] - 0s 1ms/step - loss: 250376.1562\n",
            "Epoch 23/250\n",
            "22/22 [==============================] - 0s 2ms/step - loss: 249768.1094\n",
            "Epoch 24/250\n",
            "22/22 [==============================] - 0s 1ms/step - loss: 249124.1094\n",
            "Epoch 25/250\n",
            "22/22 [==============================] - 0s 2ms/step - loss: 248443.2031\n",
            "Epoch 26/250\n",
            "22/22 [==============================] - 0s 2ms/step - loss: 247714.5156\n",
            "Epoch 27/250\n",
            "22/22 [==============================] - 0s 1ms/step - loss: 246945.4688\n",
            "Epoch 28/250\n",
            "22/22 [==============================] - 0s 1ms/step - loss: 246128.5938\n",
            "Epoch 29/250\n",
            "22/22 [==============================] - 0s 2ms/step - loss: 245266.1094\n",
            "Epoch 30/250\n",
            "22/22 [==============================] - 0s 1ms/step - loss: 244355.7031\n",
            "Epoch 31/250\n",
            "22/22 [==============================] - 0s 1ms/step - loss: 243399.9375\n",
            "Epoch 32/250\n",
            "22/22 [==============================] - 0s 2ms/step - loss: 242384.7969\n",
            "Epoch 33/250\n",
            "22/22 [==============================] - 0s 1ms/step - loss: 241317.1719\n",
            "Epoch 34/250\n",
            "22/22 [==============================] - 0s 1ms/step - loss: 240203.0781\n",
            "Epoch 35/250\n",
            "22/22 [==============================] - 0s 1ms/step - loss: 239027.3906\n",
            "Epoch 36/250\n",
            "22/22 [==============================] - 0s 1ms/step - loss: 237790.3750\n",
            "Epoch 37/250\n",
            "22/22 [==============================] - 0s 1ms/step - loss: 236496.8750\n",
            "Epoch 38/250\n",
            "22/22 [==============================] - 0s 1ms/step - loss: 235141.8125\n",
            "Epoch 39/250\n",
            "22/22 [==============================] - 0s 2ms/step - loss: 233717.8438\n",
            "Epoch 40/250\n",
            "22/22 [==============================] - 0s 1ms/step - loss: 232236.0469\n",
            "Epoch 41/250\n",
            "22/22 [==============================] - 0s 1ms/step - loss: 230693.5312\n",
            "Epoch 42/250\n",
            "22/22 [==============================] - 0s 2ms/step - loss: 229072.0469\n",
            "Epoch 43/250\n",
            "22/22 [==============================] - 0s 2ms/step - loss: 227386.6250\n",
            "Epoch 44/250\n",
            "22/22 [==============================] - 0s 1ms/step - loss: 225640.6094\n",
            "Epoch 45/250\n",
            "22/22 [==============================] - 0s 1ms/step - loss: 223816.1875\n",
            "Epoch 46/250\n",
            "22/22 [==============================] - 0s 1ms/step - loss: 221917.3750\n",
            "Epoch 47/250\n",
            "22/22 [==============================] - 0s 1ms/step - loss: 219939.4219\n",
            "Epoch 48/250\n",
            "22/22 [==============================] - 0s 2ms/step - loss: 217899.6562\n",
            "Epoch 49/250\n",
            "22/22 [==============================] - 0s 2ms/step - loss: 215780.6875\n",
            "Epoch 50/250\n",
            "22/22 [==============================] - 0s 2ms/step - loss: 213579.5000\n",
            "Epoch 51/250\n",
            "22/22 [==============================] - 0s 2ms/step - loss: 211300.5000\n",
            "Epoch 52/250\n",
            "22/22 [==============================] - 0s 1ms/step - loss: 208948.0156\n",
            "Epoch 53/250\n",
            "22/22 [==============================] - 0s 1ms/step - loss: 206521.4219\n",
            "Epoch 54/250\n",
            "22/22 [==============================] - 0s 1ms/step - loss: 203997.5312\n",
            "Epoch 55/250\n",
            "22/22 [==============================] - 0s 2ms/step - loss: 201399.1562\n",
            "Epoch 56/250\n",
            "22/22 [==============================] - 0s 1ms/step - loss: 198715.5938\n",
            "Epoch 57/250\n",
            "22/22 [==============================] - 0s 2ms/step - loss: 195949.7656\n",
            "Epoch 58/250\n",
            "22/22 [==============================] - 0s 2ms/step - loss: 193107.7656\n",
            "Epoch 59/250\n",
            "22/22 [==============================] - 0s 2ms/step - loss: 190182.1719\n",
            "Epoch 60/250\n",
            "22/22 [==============================] - 0s 1ms/step - loss: 187188.4531\n",
            "Epoch 61/250\n",
            "22/22 [==============================] - 0s 1ms/step - loss: 184080.4531\n",
            "Epoch 62/250\n",
            "22/22 [==============================] - 0s 2ms/step - loss: 180906.4688\n",
            "Epoch 63/250\n",
            "22/22 [==============================] - 0s 2ms/step - loss: 177644.2656\n",
            "Epoch 64/250\n",
            "22/22 [==============================] - 0s 2ms/step - loss: 174311.3438\n",
            "Epoch 65/250\n",
            "22/22 [==============================] - 0s 1ms/step - loss: 170904.1719\n",
            "Epoch 66/250\n",
            "22/22 [==============================] - 0s 1ms/step - loss: 167410.4531\n",
            "Epoch 67/250\n",
            "22/22 [==============================] - 0s 1ms/step - loss: 163835.0781\n",
            "Epoch 68/250\n",
            "22/22 [==============================] - 0s 1ms/step - loss: 160171.1719\n",
            "Epoch 69/250\n",
            "22/22 [==============================] - 0s 1ms/step - loss: 156452.2031\n",
            "Epoch 70/250\n",
            "22/22 [==============================] - 0s 1ms/step - loss: 152665.3594\n",
            "Epoch 71/250\n",
            "22/22 [==============================] - 0s 1ms/step - loss: 148785.5469\n",
            "Epoch 72/250\n",
            "22/22 [==============================] - 0s 1ms/step - loss: 144830.8750\n",
            "Epoch 73/250\n",
            "22/22 [==============================] - 0s 1ms/step - loss: 140823.5625\n",
            "Epoch 74/250\n",
            "22/22 [==============================] - 0s 1ms/step - loss: 136763.5781\n",
            "Epoch 75/250\n",
            "22/22 [==============================] - 0s 1ms/step - loss: 132606.7031\n",
            "Epoch 76/250\n",
            "22/22 [==============================] - 0s 2ms/step - loss: 128421.5000\n",
            "Epoch 77/250\n",
            "22/22 [==============================] - 0s 1ms/step - loss: 124180.8438\n",
            "Epoch 78/250\n",
            "22/22 [==============================] - 0s 1ms/step - loss: 119886.6250\n",
            "Epoch 79/250\n",
            "22/22 [==============================] - 0s 2ms/step - loss: 115550.6406\n",
            "Epoch 80/250\n",
            "22/22 [==============================] - 0s 1ms/step - loss: 111160.1172\n",
            "Epoch 81/250\n",
            "22/22 [==============================] - 0s 1ms/step - loss: 106758.3047\n",
            "Epoch 82/250\n",
            "22/22 [==============================] - 0s 1ms/step - loss: 102321.4062\n",
            "Epoch 83/250\n",
            "22/22 [==============================] - 0s 2ms/step - loss: 97851.6094\n",
            "Epoch 84/250\n",
            "22/22 [==============================] - 0s 1ms/step - loss: 93367.9922\n",
            "Epoch 85/250\n",
            "22/22 [==============================] - 0s 1ms/step - loss: 88858.3438\n",
            "Epoch 86/250\n",
            "22/22 [==============================] - 0s 1ms/step - loss: 84363.3828\n",
            "Epoch 87/250\n",
            "22/22 [==============================] - 0s 1ms/step - loss: 79878.7031\n",
            "Epoch 88/250\n",
            "22/22 [==============================] - 0s 2ms/step - loss: 75404.6250\n",
            "Epoch 89/250\n",
            "22/22 [==============================] - 0s 2ms/step - loss: 70944.4453\n",
            "Epoch 90/250\n",
            "22/22 [==============================] - 0s 2ms/step - loss: 66493.3203\n",
            "Epoch 91/250\n",
            "22/22 [==============================] - 0s 2ms/step - loss: 62123.3125\n",
            "Epoch 92/250\n",
            "22/22 [==============================] - 0s 1ms/step - loss: 57791.3789\n",
            "Epoch 93/250\n",
            "22/22 [==============================] - 0s 2ms/step - loss: 53506.3984\n",
            "Epoch 94/250\n",
            "22/22 [==============================] - 0s 2ms/step - loss: 49292.7891\n",
            "Epoch 95/250\n",
            "22/22 [==============================] - 0s 1ms/step - loss: 45153.9961\n",
            "Epoch 96/250\n",
            "22/22 [==============================] - 0s 1ms/step - loss: 41134.6641\n",
            "Epoch 97/250\n",
            "22/22 [==============================] - 0s 1ms/step - loss: 37215.7930\n",
            "Epoch 98/250\n",
            "22/22 [==============================] - 0s 1ms/step - loss: 33402.0312\n",
            "Epoch 99/250\n",
            "22/22 [==============================] - 0s 1ms/step - loss: 29721.3008\n",
            "Epoch 100/250\n",
            "22/22 [==============================] - 0s 1ms/step - loss: 26245.3379\n",
            "Epoch 101/250\n",
            "22/22 [==============================] - 0s 1ms/step - loss: 22913.5684\n",
            "Epoch 102/250\n",
            "22/22 [==============================] - 0s 2ms/step - loss: 19732.7734\n",
            "Epoch 103/250\n",
            "22/22 [==============================] - 0s 2ms/step - loss: 16769.1113\n",
            "Epoch 104/250\n",
            "22/22 [==============================] - 0s 1ms/step - loss: 14040.6318\n",
            "Epoch 105/250\n",
            "22/22 [==============================] - 0s 2ms/step - loss: 11539.2178\n",
            "Epoch 106/250\n",
            "22/22 [==============================] - 0s 1ms/step - loss: 9269.8369\n",
            "Epoch 107/250\n",
            "22/22 [==============================] - 0s 1ms/step - loss: 7267.0107\n",
            "Epoch 108/250\n",
            "22/22 [==============================] - 0s 1ms/step - loss: 5551.5933\n",
            "Epoch 109/250\n",
            "22/22 [==============================] - 0s 1ms/step - loss: 4131.0239\n",
            "Epoch 110/250\n",
            "22/22 [==============================] - 0s 2ms/step - loss: 3021.3718\n",
            "Epoch 111/250\n",
            "22/22 [==============================] - 0s 1ms/step - loss: 2242.4763\n",
            "Epoch 112/250\n",
            "22/22 [==============================] - 0s 2ms/step - loss: 1762.5671\n",
            "Epoch 113/250\n",
            "22/22 [==============================] - 0s 1ms/step - loss: 1552.0640\n",
            "Epoch 114/250\n",
            "22/22 [==============================] - 0s 1ms/step - loss: 1488.9366\n",
            "Epoch 115/250\n",
            "22/22 [==============================] - 0s 2ms/step - loss: 1463.5321\n",
            "Epoch 116/250\n",
            "22/22 [==============================] - 0s 1ms/step - loss: 1438.8340\n",
            "Epoch 117/250\n",
            "22/22 [==============================] - 0s 1ms/step - loss: 1418.0768\n",
            "Epoch 118/250\n",
            "22/22 [==============================] - 0s 1ms/step - loss: 1398.8953\n",
            "Epoch 119/250\n",
            "22/22 [==============================] - 0s 1ms/step - loss: 1378.8081\n",
            "Epoch 120/250\n",
            "22/22 [==============================] - 0s 1ms/step - loss: 1355.4515\n",
            "Epoch 121/250\n",
            "22/22 [==============================] - 0s 1ms/step - loss: 1336.6062\n",
            "Epoch 122/250\n",
            "22/22 [==============================] - 0s 2ms/step - loss: 1317.5802\n",
            "Epoch 123/250\n",
            "22/22 [==============================] - 0s 1ms/step - loss: 1297.3748\n",
            "Epoch 124/250\n",
            "22/22 [==============================] - 0s 2ms/step - loss: 1273.6973\n",
            "Epoch 125/250\n",
            "22/22 [==============================] - 0s 1ms/step - loss: 1252.7495\n",
            "Epoch 126/250\n",
            "22/22 [==============================] - 0s 1ms/step - loss: 1228.8234\n",
            "Epoch 127/250\n",
            "22/22 [==============================] - 0s 1ms/step - loss: 1206.5740\n",
            "Epoch 128/250\n",
            "22/22 [==============================] - 0s 2ms/step - loss: 1186.5348\n",
            "Epoch 129/250\n",
            "22/22 [==============================] - 0s 1ms/step - loss: 1166.0598\n",
            "Epoch 130/250\n",
            "22/22 [==============================] - 0s 2ms/step - loss: 1147.4286\n",
            "Epoch 131/250\n",
            "22/22 [==============================] - 0s 2ms/step - loss: 1125.9012\n",
            "Epoch 132/250\n",
            "22/22 [==============================] - 0s 1ms/step - loss: 1102.9885\n",
            "Epoch 133/250\n",
            "22/22 [==============================] - 0s 1ms/step - loss: 1084.5406\n",
            "Epoch 134/250\n",
            "22/22 [==============================] - 0s 1ms/step - loss: 1066.6398\n",
            "Epoch 135/250\n",
            "22/22 [==============================] - 0s 2ms/step - loss: 1047.1481\n",
            "Epoch 136/250\n",
            "22/22 [==============================] - 0s 1ms/step - loss: 1029.3595\n",
            "Epoch 137/250\n",
            "22/22 [==============================] - 0s 1ms/step - loss: 1009.8762\n",
            "Epoch 138/250\n",
            "22/22 [==============================] - 0s 1ms/step - loss: 993.5540\n",
            "Epoch 139/250\n",
            "22/22 [==============================] - 0s 2ms/step - loss: 974.7577\n",
            "Epoch 140/250\n",
            "22/22 [==============================] - 0s 1ms/step - loss: 956.8154\n",
            "Epoch 141/250\n",
            "22/22 [==============================] - 0s 2ms/step - loss: 939.9399\n",
            "Epoch 142/250\n",
            "22/22 [==============================] - 0s 1ms/step - loss: 920.0924\n",
            "Epoch 143/250\n",
            "22/22 [==============================] - 0s 1ms/step - loss: 901.6288\n",
            "Epoch 144/250\n",
            "22/22 [==============================] - 0s 2ms/step - loss: 881.7807\n",
            "Epoch 145/250\n",
            "22/22 [==============================] - 0s 2ms/step - loss: 865.7727\n",
            "Epoch 146/250\n",
            "22/22 [==============================] - 0s 2ms/step - loss: 847.7762\n",
            "Epoch 147/250\n",
            "22/22 [==============================] - 0s 2ms/step - loss: 831.0986\n",
            "Epoch 148/250\n",
            "22/22 [==============================] - 0s 2ms/step - loss: 812.1705\n",
            "Epoch 149/250\n",
            "22/22 [==============================] - 0s 1ms/step - loss: 798.1831\n",
            "Epoch 150/250\n",
            "22/22 [==============================] - 0s 2ms/step - loss: 779.5892\n",
            "Epoch 151/250\n",
            "22/22 [==============================] - 0s 2ms/step - loss: 762.8721\n",
            "Epoch 152/250\n",
            "22/22 [==============================] - 0s 1ms/step - loss: 746.1467\n",
            "Epoch 153/250\n",
            "22/22 [==============================] - 0s 2ms/step - loss: 730.1869\n",
            "Epoch 154/250\n",
            "22/22 [==============================] - 0s 1ms/step - loss: 711.8658\n",
            "Epoch 155/250\n",
            "22/22 [==============================] - 0s 2ms/step - loss: 697.3438\n",
            "Epoch 156/250\n",
            "22/22 [==============================] - 0s 1ms/step - loss: 681.1766\n",
            "Epoch 157/250\n",
            "22/22 [==============================] - 0s 1ms/step - loss: 665.6838\n",
            "Epoch 158/250\n",
            "22/22 [==============================] - 0s 1ms/step - loss: 651.4918\n",
            "Epoch 159/250\n",
            "22/22 [==============================] - 0s 1ms/step - loss: 634.8957\n",
            "Epoch 160/250\n",
            "22/22 [==============================] - 0s 2ms/step - loss: 621.3557\n",
            "Epoch 161/250\n",
            "22/22 [==============================] - 0s 2ms/step - loss: 606.5494\n",
            "Epoch 162/250\n",
            "22/22 [==============================] - 0s 1ms/step - loss: 591.9668\n",
            "Epoch 163/250\n",
            "22/22 [==============================] - 0s 2ms/step - loss: 577.8769\n",
            "Epoch 164/250\n",
            "22/22 [==============================] - 0s 1ms/step - loss: 562.5756\n",
            "Epoch 165/250\n",
            "22/22 [==============================] - 0s 1ms/step - loss: 547.2592\n",
            "Epoch 166/250\n",
            "22/22 [==============================] - 0s 1ms/step - loss: 532.6219\n",
            "Epoch 167/250\n",
            "22/22 [==============================] - 0s 1ms/step - loss: 518.2834\n",
            "Epoch 168/250\n",
            "22/22 [==============================] - 0s 1ms/step - loss: 501.8356\n",
            "Epoch 169/250\n",
            "22/22 [==============================] - 0s 1ms/step - loss: 487.5660\n",
            "Epoch 170/250\n",
            "22/22 [==============================] - 0s 2ms/step - loss: 474.8365\n",
            "Epoch 171/250\n",
            "22/22 [==============================] - 0s 2ms/step - loss: 459.4838\n",
            "Epoch 172/250\n",
            "22/22 [==============================] - 0s 2ms/step - loss: 445.7026\n",
            "Epoch 173/250\n",
            "22/22 [==============================] - 0s 1ms/step - loss: 432.0152\n",
            "Epoch 174/250\n",
            "22/22 [==============================] - 0s 1ms/step - loss: 419.5577\n",
            "Epoch 175/250\n",
            "22/22 [==============================] - 0s 2ms/step - loss: 406.5975\n",
            "Epoch 176/250\n",
            "22/22 [==============================] - 0s 2ms/step - loss: 394.9633\n",
            "Epoch 177/250\n",
            "22/22 [==============================] - 0s 2ms/step - loss: 382.4462\n",
            "Epoch 178/250\n",
            "22/22 [==============================] - 0s 2ms/step - loss: 370.9640\n",
            "Epoch 179/250\n",
            "22/22 [==============================] - 0s 1ms/step - loss: 359.4443\n",
            "Epoch 180/250\n",
            "22/22 [==============================] - 0s 1ms/step - loss: 348.0607\n",
            "Epoch 181/250\n",
            "22/22 [==============================] - 0s 1ms/step - loss: 335.3912\n",
            "Epoch 182/250\n",
            "22/22 [==============================] - 0s 2ms/step - loss: 324.5582\n",
            "Epoch 183/250\n",
            "22/22 [==============================] - 0s 1ms/step - loss: 312.9395\n",
            "Epoch 184/250\n",
            "22/22 [==============================] - 0s 1ms/step - loss: 303.0034\n",
            "Epoch 185/250\n",
            "22/22 [==============================] - 0s 2ms/step - loss: 291.7277\n",
            "Epoch 186/250\n",
            "22/22 [==============================] - 0s 2ms/step - loss: 283.2036\n",
            "Epoch 187/250\n",
            "22/22 [==============================] - 0s 2ms/step - loss: 273.6267\n",
            "Epoch 188/250\n",
            "22/22 [==============================] - 0s 1ms/step - loss: 262.7119\n",
            "Epoch 189/250\n",
            "22/22 [==============================] - 0s 2ms/step - loss: 253.3618\n",
            "Epoch 190/250\n",
            "22/22 [==============================] - 0s 2ms/step - loss: 244.9465\n",
            "Epoch 191/250\n",
            "22/22 [==============================] - 0s 2ms/step - loss: 235.1075\n",
            "Epoch 192/250\n",
            "22/22 [==============================] - 0s 2ms/step - loss: 226.6353\n",
            "Epoch 193/250\n",
            "22/22 [==============================] - 0s 2ms/step - loss: 216.6364\n",
            "Epoch 194/250\n",
            "22/22 [==============================] - 0s 2ms/step - loss: 208.6808\n",
            "Epoch 195/250\n",
            "22/22 [==============================] - 0s 1ms/step - loss: 200.9596\n",
            "Epoch 196/250\n",
            "22/22 [==============================] - 0s 2ms/step - loss: 192.9600\n",
            "Epoch 197/250\n",
            "22/22 [==============================] - 0s 1ms/step - loss: 184.8337\n",
            "Epoch 198/250\n",
            "22/22 [==============================] - 0s 2ms/step - loss: 177.0509\n",
            "Epoch 199/250\n",
            "22/22 [==============================] - 0s 2ms/step - loss: 169.2705\n",
            "Epoch 200/250\n",
            "22/22 [==============================] - 0s 2ms/step - loss: 162.3768\n",
            "Epoch 201/250\n",
            "22/22 [==============================] - 0s 2ms/step - loss: 154.3636\n",
            "Epoch 202/250\n",
            "22/22 [==============================] - 0s 2ms/step - loss: 148.4524\n",
            "Epoch 203/250\n",
            "22/22 [==============================] - 0s 2ms/step - loss: 142.9788\n",
            "Epoch 204/250\n",
            "22/22 [==============================] - 0s 1ms/step - loss: 136.5864\n",
            "Epoch 205/250\n",
            "22/22 [==============================] - 0s 2ms/step - loss: 129.7096\n",
            "Epoch 206/250\n",
            "22/22 [==============================] - 0s 2ms/step - loss: 122.6442\n",
            "Epoch 207/250\n",
            "22/22 [==============================] - 0s 2ms/step - loss: 117.9691\n",
            "Epoch 208/250\n",
            "22/22 [==============================] - 0s 1ms/step - loss: 111.5495\n",
            "Epoch 209/250\n",
            "22/22 [==============================] - 0s 1ms/step - loss: 106.0457\n",
            "Epoch 210/250\n",
            "22/22 [==============================] - 0s 2ms/step - loss: 100.9837\n",
            "Epoch 211/250\n",
            "22/22 [==============================] - 0s 2ms/step - loss: 95.6858\n",
            "Epoch 212/250\n",
            "22/22 [==============================] - 0s 1ms/step - loss: 90.6174\n",
            "Epoch 213/250\n",
            "22/22 [==============================] - 0s 2ms/step - loss: 85.8627\n",
            "Epoch 214/250\n",
            "22/22 [==============================] - 0s 2ms/step - loss: 81.1546\n",
            "Epoch 215/250\n",
            "22/22 [==============================] - 0s 2ms/step - loss: 76.7830\n",
            "Epoch 216/250\n",
            "22/22 [==============================] - 0s 2ms/step - loss: 73.3482\n",
            "Epoch 217/250\n",
            "22/22 [==============================] - 0s 2ms/step - loss: 69.8313\n",
            "Epoch 218/250\n",
            "22/22 [==============================] - 0s 2ms/step - loss: 66.1938\n",
            "Epoch 219/250\n",
            "22/22 [==============================] - 0s 2ms/step - loss: 62.4195\n",
            "Epoch 220/250\n",
            "22/22 [==============================] - 0s 1ms/step - loss: 59.5127\n",
            "Epoch 221/250\n",
            "22/22 [==============================] - 0s 2ms/step - loss: 56.2386\n",
            "Epoch 222/250\n",
            "22/22 [==============================] - 0s 2ms/step - loss: 53.7019\n",
            "Epoch 223/250\n",
            "22/22 [==============================] - 0s 2ms/step - loss: 50.9566\n",
            "Epoch 224/250\n",
            "22/22 [==============================] - 0s 1ms/step - loss: 47.9972\n",
            "Epoch 225/250\n",
            "22/22 [==============================] - 0s 2ms/step - loss: 45.8210\n",
            "Epoch 226/250\n",
            "22/22 [==============================] - 0s 1ms/step - loss: 43.8569\n",
            "Epoch 227/250\n",
            "22/22 [==============================] - 0s 2ms/step - loss: 41.6448\n",
            "Epoch 228/250\n",
            "22/22 [==============================] - 0s 1ms/step - loss: 39.5759\n",
            "Epoch 229/250\n",
            "22/22 [==============================] - 0s 1ms/step - loss: 38.0120\n",
            "Epoch 230/250\n",
            "22/22 [==============================] - 0s 1ms/step - loss: 36.4494\n",
            "Epoch 231/250\n",
            "22/22 [==============================] - 0s 2ms/step - loss: 35.1508\n",
            "Epoch 232/250\n",
            "22/22 [==============================] - 0s 1ms/step - loss: 33.5182\n",
            "Epoch 233/250\n",
            "22/22 [==============================] - 0s 2ms/step - loss: 32.5251\n",
            "Epoch 234/250\n",
            "22/22 [==============================] - 0s 2ms/step - loss: 31.5272\n",
            "Epoch 235/250\n",
            "22/22 [==============================] - 0s 2ms/step - loss: 30.4524\n",
            "Epoch 236/250\n",
            "22/22 [==============================] - 0s 1ms/step - loss: 29.7506\n",
            "Epoch 237/250\n",
            "22/22 [==============================] - 0s 2ms/step - loss: 28.9351\n",
            "Epoch 238/250\n",
            "22/22 [==============================] - 0s 1ms/step - loss: 28.4977\n",
            "Epoch 239/250\n",
            "22/22 [==============================] - 0s 2ms/step - loss: 27.9786\n",
            "Epoch 240/250\n",
            "22/22 [==============================] - 0s 2ms/step - loss: 27.5182\n",
            "Epoch 241/250\n",
            "22/22 [==============================] - 0s 2ms/step - loss: 26.6073\n",
            "Epoch 242/250\n",
            "22/22 [==============================] - 0s 2ms/step - loss: 27.0262\n",
            "Epoch 243/250\n",
            "22/22 [==============================] - 0s 1ms/step - loss: 26.5521\n",
            "Epoch 244/250\n",
            "22/22 [==============================] - 0s 1ms/step - loss: 26.1066\n",
            "Epoch 245/250\n",
            "22/22 [==============================] - 0s 2ms/step - loss: 25.7783\n",
            "Epoch 246/250\n",
            "22/22 [==============================] - 0s 2ms/step - loss: 25.6592\n",
            "Epoch 247/250\n",
            "22/22 [==============================] - 0s 2ms/step - loss: 25.1472\n",
            "Epoch 248/250\n",
            "22/22 [==============================] - 0s 2ms/step - loss: 25.2517\n",
            "Epoch 249/250\n",
            "22/22 [==============================] - 0s 1ms/step - loss: 24.9883\n",
            "Epoch 250/250\n",
            "22/22 [==============================] - 0s 2ms/step - loss: 24.8856\n"
          ],
          "name": "stdout"
        },
        {
          "output_type": "execute_result",
          "data": {
            "text/plain": [
              "<tensorflow.python.keras.callbacks.History at 0x7fdcdf7fce10>"
            ]
          },
          "metadata": {
            "tags": []
          },
          "execution_count": 69
        }
      ]
    },
    {
      "cell_type": "markdown",
      "metadata": {
        "id": "AIbJaNke2X6h"
      },
      "source": [
        "**PLotting the trend of loss with epochs**"
      ]
    },
    {
      "cell_type": "code",
      "metadata": {
        "id": "t4ddHC9W2TA5"
      },
      "source": [
        "loss_df = pd.DataFrame(model.history.history)"
      ],
      "execution_count": 70,
      "outputs": []
    },
    {
      "cell_type": "code",
      "metadata": {
        "colab": {
          "base_uri": "https://localhost:8080/",
          "height": 282
        },
        "id": "eEvAPCab2f5O",
        "outputId": "c512389c-e2fa-4c7c-c0b3-664d24f9065b"
      },
      "source": [
        "loss_df.plot()"
      ],
      "execution_count": 71,
      "outputs": [
        {
          "output_type": "execute_result",
          "data": {
            "text/plain": [
              "<matplotlib.axes._subplots.AxesSubplot at 0x7fdcdf6c3e10>"
            ]
          },
          "metadata": {
            "tags": []
          },
          "execution_count": 71
        },
        {
          "output_type": "display_data",
          "data": {
            "image/png": "[encoded data removed]",
            "text/plain": [
              "<Figure size 432x288 with 1 Axes>"
            ]
          },
          "metadata": {
            "tags": [],
            "needs_background": "light"
          }
        }
      ]
    },
    {
      "cell_type": "markdown",
      "metadata": {
        "id": "nbyYixtA2sEb"
      },
      "source": [
        "**After the particular number of epochs the loss becomes constant**"
      ]
    },
    {
      "cell_type": "markdown",
      "metadata": {
        "id": "XpfgMaMd4Tgr"
      },
      "source": [
        "### **Evaluating the model**"
      ]
    },
    {
      "cell_type": "code",
      "metadata": {
        "colab": {
          "base_uri": "https://localhost:8080/"
        },
        "id": "hfrGoh7H2oU1",
        "outputId": "e34aeb1c-9952-4132-9752-82c895e6ac56"
      },
      "source": [
        "model.evaluate(X_test, y_test, verbose = 0)"
      ],
      "execution_count": 72,
      "outputs": [
        {
          "output_type": "execute_result",
          "data": {
            "text/plain": [
              "25.706890106201172"
            ]
          },
          "metadata": {
            "tags": []
          },
          "execution_count": 72
        }
      ]
    },
    {
      "cell_type": "code",
      "metadata": {
        "colab": {
          "base_uri": "https://localhost:8080/"
        },
        "id": "OOoiLzLayOOG",
        "outputId": "fd19e11e-02f8-4f6e-f576-cca79acfef31"
      },
      "source": [
        "model.evaluate(X_train, y_train, verbose = 0)"
      ],
      "execution_count": 81,
      "outputs": [
        {
          "output_type": "execute_result",
          "data": {
            "text/plain": [
              "24.86236572265625"
            ]
          },
          "metadata": {
            "tags": []
          },
          "execution_count": 81
        }
      ]
    },
    {
      "cell_type": "code",
      "metadata": {
        "id": "_QcXA5Re4bMM"
      },
      "source": [
        "test_predictions = model.predict(X_test)"
      ],
      "execution_count": 73,
      "outputs": []
    },
    {
      "cell_type": "code",
      "metadata": {
        "id": "_Z0OqwuR9MGi"
      },
      "source": [
        "test_predictions = pd.Series(test_predictions.reshape(300,))"
      ],
      "execution_count": 74,
      "outputs": []
    },
    {
      "cell_type": "code",
      "metadata": {
        "colab": {
          "base_uri": "https://localhost:8080/"
        },
        "id": "4EapMtns9Oy7",
        "outputId": "40d13391-4cdc-4a37-892b-7912af7117a5"
      },
      "source": [
        "test_predictions"
      ],
      "execution_count": 86,
      "outputs": [
        {
          "output_type": "execute_result",
          "data": {
            "text/plain": [
              "0      405.832275\n",
              "1      622.313721\n",
              "2      590.983582\n",
              "3      571.819885\n",
              "4      368.244995\n",
              "          ...    \n",
              "295    528.929565\n",
              "296    516.243530\n",
              "297    608.450745\n",
              "298    417.039948\n",
              "299    411.668915\n",
              "Length: 300, dtype: float32"
            ]
          },
          "metadata": {
            "tags": []
          },
          "execution_count": 86
        }
      ]
    },
    {
      "cell_type": "code",
      "metadata": {
        "id": "f4V0NTFh9ady"
      },
      "source": [
        "pred_df = pd.DataFrame(y_test)\n",
        "pred_df.columns = ['Test True Y']"
      ],
      "execution_count": 87,
      "outputs": []
    },
    {
      "cell_type": "code",
      "metadata": {
        "id": "cVroQpV4v8o6"
      },
      "source": [
        "pred_df = pred_df.reset_index()\n",
        "pred_df.drop('index', axis = 'columns', inplace = True)"
      ],
      "execution_count": 90,
      "outputs": []
    },
    {
      "cell_type": "code",
      "metadata": {
        "colab": {
          "base_uri": "https://localhost:8080/",
          "height": 204
        },
        "id": "Ilz01yyizcjT",
        "outputId": "c6617d97-c740-4de1-9410-0d5510b80808"
      },
      "source": [
        "pred_df.head()"
      ],
      "execution_count": 91,
      "outputs": [
        {
          "output_type": "execute_result",
          "data": {
            "text/html": [
              "<div>\n",
              "<style scoped>\n",
              "    .dataframe tbody tr th:only-of-type {\n",
              "        vertical-align: middle;\n",
              "    }\n",
              "\n",
              "    .dataframe tbody tr th {\n",
              "        vertical-align: top;\n",
              "    }\n",
              "\n",
              "    .dataframe thead th {\n",
              "        text-align: right;\n",
              "    }\n",
              "</style>\n",
              "<table border=\"1\" class=\"dataframe\">\n",
              "  <thead>\n",
              "    <tr style=\"text-align: right;\">\n",
              "      <th></th>\n",
              "      <th>Test True Y</th>\n",
              "    </tr>\n",
              "  </thead>\n",
              "  <tbody>\n",
              "    <tr>\n",
              "      <th>0</th>\n",
              "      <td>402.296319</td>\n",
              "    </tr>\n",
              "    <tr>\n",
              "      <th>1</th>\n",
              "      <td>624.156198</td>\n",
              "    </tr>\n",
              "    <tr>\n",
              "      <th>2</th>\n",
              "      <td>582.455066</td>\n",
              "    </tr>\n",
              "    <tr>\n",
              "      <th>3</th>\n",
              "      <td>578.588606</td>\n",
              "    </tr>\n",
              "    <tr>\n",
              "      <th>4</th>\n",
              "      <td>371.224104</td>\n",
              "    </tr>\n",
              "  </tbody>\n",
              "</table>\n",
              "</div>"
            ],
            "text/plain": [
              "   Test True Y\n",
              "0   402.296319\n",
              "1   624.156198\n",
              "2   582.455066\n",
              "3   578.588606\n",
              "4   371.224104"
            ]
          },
          "metadata": {
            "tags": []
          },
          "execution_count": 91
        }
      ]
    },
    {
      "cell_type": "code",
      "metadata": {
        "id": "d2DvRFGg9qE6"
      },
      "source": [
        "pred_df = pd.concat([pred_df, test_predictions], axis = 'columns')"
      ],
      "execution_count": 92,
      "outputs": []
    },
    {
      "cell_type": "code",
      "metadata": {
        "colab": {
          "base_uri": "https://localhost:8080/",
          "height": 204
        },
        "id": "Guvo6lxbvzwC",
        "outputId": "43ab8426-9292-469d-ea27-7e9189419e85"
      },
      "source": [
        "pred_df.head()"
      ],
      "execution_count": 93,
      "outputs": [
        {
          "output_type": "execute_result",
          "data": {
            "text/html": [
              "<div>\n",
              "<style scoped>\n",
              "    .dataframe tbody tr th:only-of-type {\n",
              "        vertical-align: middle;\n",
              "    }\n",
              "\n",
              "    .dataframe tbody tr th {\n",
              "        vertical-align: top;\n",
              "    }\n",
              "\n",
              "    .dataframe thead th {\n",
              "        text-align: right;\n",
              "    }\n",
              "</style>\n",
              "<table border=\"1\" class=\"dataframe\">\n",
              "  <thead>\n",
              "    <tr style=\"text-align: right;\">\n",
              "      <th></th>\n",
              "      <th>Test True Y</th>\n",
              "      <th>0</th>\n",
              "    </tr>\n",
              "  </thead>\n",
              "  <tbody>\n",
              "    <tr>\n",
              "      <th>0</th>\n",
              "      <td>402.296319</td>\n",
              "      <td>405.832275</td>\n",
              "    </tr>\n",
              "    <tr>\n",
              "      <th>1</th>\n",
              "      <td>624.156198</td>\n",
              "      <td>622.313721</td>\n",
              "    </tr>\n",
              "    <tr>\n",
              "      <th>2</th>\n",
              "      <td>582.455066</td>\n",
              "      <td>590.983582</td>\n",
              "    </tr>\n",
              "    <tr>\n",
              "      <th>3</th>\n",
              "      <td>578.588606</td>\n",
              "      <td>571.819885</td>\n",
              "    </tr>\n",
              "    <tr>\n",
              "      <th>4</th>\n",
              "      <td>371.224104</td>\n",
              "      <td>368.244995</td>\n",
              "    </tr>\n",
              "  </tbody>\n",
              "</table>\n",
              "</div>"
            ],
            "text/plain": [
              "   Test True Y           0\n",
              "0   402.296319  405.832275\n",
              "1   624.156198  622.313721\n",
              "2   582.455066  590.983582\n",
              "3   578.588606  571.819885\n",
              "4   371.224104  368.244995"
            ]
          },
          "metadata": {
            "tags": []
          },
          "execution_count": 93
        }
      ]
    },
    {
      "cell_type": "code",
      "metadata": {
        "id": "dLHMF7t-v2mm"
      },
      "source": [
        "pred_df.columns = ['Test True Y', 'Model Predictions']"
      ],
      "execution_count": 94,
      "outputs": []
    },
    {
      "cell_type": "code",
      "metadata": {
        "colab": {
          "base_uri": "https://localhost:8080/",
          "height": 204
        },
        "id": "FSyYXdblzrqJ",
        "outputId": "e7250e92-17d1-4ed1-f538-47e9e93d4d84"
      },
      "source": [
        "pred_df.head()"
      ],
      "execution_count": 95,
      "outputs": [
        {
          "output_type": "execute_result",
          "data": {
            "text/html": [
              "<div>\n",
              "<style scoped>\n",
              "    .dataframe tbody tr th:only-of-type {\n",
              "        vertical-align: middle;\n",
              "    }\n",
              "\n",
              "    .dataframe tbody tr th {\n",
              "        vertical-align: top;\n",
              "    }\n",
              "\n",
              "    .dataframe thead th {\n",
              "        text-align: right;\n",
              "    }\n",
              "</style>\n",
              "<table border=\"1\" class=\"dataframe\">\n",
              "  <thead>\n",
              "    <tr style=\"text-align: right;\">\n",
              "      <th></th>\n",
              "      <th>Test True Y</th>\n",
              "      <th>Model Predictions</th>\n",
              "    </tr>\n",
              "  </thead>\n",
              "  <tbody>\n",
              "    <tr>\n",
              "      <th>0</th>\n",
              "      <td>402.296319</td>\n",
              "      <td>405.832275</td>\n",
              "    </tr>\n",
              "    <tr>\n",
              "      <th>1</th>\n",
              "      <td>624.156198</td>\n",
              "      <td>622.313721</td>\n",
              "    </tr>\n",
              "    <tr>\n",
              "      <th>2</th>\n",
              "      <td>582.455066</td>\n",
              "      <td>590.983582</td>\n",
              "    </tr>\n",
              "    <tr>\n",
              "      <th>3</th>\n",
              "      <td>578.588606</td>\n",
              "      <td>571.819885</td>\n",
              "    </tr>\n",
              "    <tr>\n",
              "      <th>4</th>\n",
              "      <td>371.224104</td>\n",
              "      <td>368.244995</td>\n",
              "    </tr>\n",
              "  </tbody>\n",
              "</table>\n",
              "</div>"
            ],
            "text/plain": [
              "   Test True Y  Model Predictions\n",
              "0   402.296319         405.832275\n",
              "1   624.156198         622.313721\n",
              "2   582.455066         590.983582\n",
              "3   578.588606         571.819885\n",
              "4   371.224104         368.244995"
            ]
          },
          "metadata": {
            "tags": []
          },
          "execution_count": 95
        }
      ]
    },
    {
      "cell_type": "code",
      "metadata": {
        "colab": {
          "base_uri": "https://localhost:8080/",
          "height": 296
        },
        "id": "Xe1006aTzudS",
        "outputId": "b6a906c1-d13e-4a06-b862-ce101f61daae"
      },
      "source": [
        "sns.scatterplot(x = 'Test True Y', y = 'Model Predictions', data = pred_df)"
      ],
      "execution_count": 96,
      "outputs": [
        {
          "output_type": "execute_result",
          "data": {
            "text/plain": [
              "<matplotlib.axes._subplots.AxesSubplot at 0x7fdcdedf9190>"
            ]
          },
          "metadata": {
            "tags": []
          },
          "execution_count": 96
        },
        {
          "output_type": "display_data",
          "data": {
            "image/png": "[encoded data removed]",
            "text/plain": [
              "<Figure size 432x288 with 1 Axes>"
            ]
          },
          "metadata": {
            "tags": [],
            "needs_background": "light"
          }
        }
      ]
    },
    {
      "cell_type": "markdown",
      "metadata": {
        "id": "TLllrC5G3I2W"
      },
      "source": [
        "**Let's try to evaluate the model based on other metrics**"
      ]
    },
    {
      "cell_type": "code",
      "metadata": {
        "id": "8R7APWnW2hKK"
      },
      "source": [
        "from sklearn.metrics import mean_absolute_error, mean_squared_error"
      ],
      "execution_count": 97,
      "outputs": []
    },
    {
      "cell_type": "code",
      "metadata": {
        "colab": {
          "base_uri": "https://localhost:8080/"
        },
        "id": "AW1KDrWh3fNY",
        "outputId": "5e68773b-d202-41f2-bc35-2c80baf9c52b"
      },
      "source": [
        "mean_absolute_error(pred_df['Test True Y'], pred_df['Model Predictions'])"
      ],
      "execution_count": 99,
      "outputs": [
        {
          "output_type": "execute_result",
          "data": {
            "text/plain": [
              "4.103357500528065"
            ]
          },
          "metadata": {
            "tags": []
          },
          "execution_count": 99
        }
      ]
    },
    {
      "cell_type": "code",
      "metadata": {
        "colab": {
          "base_uri": "https://localhost:8080/",
          "height": 297
        },
        "id": "VLS3nF3F4fsT",
        "outputId": "c5dd0660-4c00-446f-bd5a-afac8b474431"
      },
      "source": [
        "df.describe()"
      ],
      "execution_count": 100,
      "outputs": [
        {
          "output_type": "execute_result",
          "data": {
            "text/html": [
              "<div>\n",
              "<style scoped>\n",
              "    .dataframe tbody tr th:only-of-type {\n",
              "        vertical-align: middle;\n",
              "    }\n",
              "\n",
              "    .dataframe tbody tr th {\n",
              "        vertical-align: top;\n",
              "    }\n",
              "\n",
              "    .dataframe thead th {\n",
              "        text-align: right;\n",
              "    }\n",
              "</style>\n",
              "<table border=\"1\" class=\"dataframe\">\n",
              "  <thead>\n",
              "    <tr style=\"text-align: right;\">\n",
              "      <th></th>\n",
              "      <th>price</th>\n",
              "      <th>feature1</th>\n",
              "      <th>feature2</th>\n",
              "    </tr>\n",
              "  </thead>\n",
              "  <tbody>\n",
              "    <tr>\n",
              "      <th>count</th>\n",
              "      <td>1000.000000</td>\n",
              "      <td>1000.000000</td>\n",
              "      <td>1000.000000</td>\n",
              "    </tr>\n",
              "    <tr>\n",
              "      <th>mean</th>\n",
              "      <td>498.673029</td>\n",
              "      <td>1000.014171</td>\n",
              "      <td>999.979847</td>\n",
              "    </tr>\n",
              "    <tr>\n",
              "      <th>std</th>\n",
              "      <td>93.785431</td>\n",
              "      <td>0.974018</td>\n",
              "      <td>0.948330</td>\n",
              "    </tr>\n",
              "    <tr>\n",
              "      <th>min</th>\n",
              "      <td>223.346793</td>\n",
              "      <td>997.058347</td>\n",
              "      <td>996.995651</td>\n",
              "    </tr>\n",
              "    <tr>\n",
              "      <th>25%</th>\n",
              "      <td>433.025732</td>\n",
              "      <td>999.332068</td>\n",
              "      <td>999.316106</td>\n",
              "    </tr>\n",
              "    <tr>\n",
              "      <th>50%</th>\n",
              "      <td>502.382117</td>\n",
              "      <td>1000.009915</td>\n",
              "      <td>1000.002243</td>\n",
              "    </tr>\n",
              "    <tr>\n",
              "      <th>75%</th>\n",
              "      <td>564.921588</td>\n",
              "      <td>1000.637580</td>\n",
              "      <td>1000.645380</td>\n",
              "    </tr>\n",
              "    <tr>\n",
              "      <th>max</th>\n",
              "      <td>774.407854</td>\n",
              "      <td>1003.207934</td>\n",
              "      <td>1002.666308</td>\n",
              "    </tr>\n",
              "  </tbody>\n",
              "</table>\n",
              "</div>"
            ],
            "text/plain": [
              "             price     feature1     feature2\n",
              "count  1000.000000  1000.000000  1000.000000\n",
              "mean    498.673029  1000.014171   999.979847\n",
              "std      93.785431     0.974018     0.948330\n",
              "min     223.346793   997.058347   996.995651\n",
              "25%     433.025732   999.332068   999.316106\n",
              "50%     502.382117  1000.009915  1000.002243\n",
              "75%     564.921588  1000.637580  1000.645380\n",
              "max     774.407854  1003.207934  1002.666308"
            ]
          },
          "metadata": {
            "tags": []
          },
          "execution_count": 100
        }
      ]
    },
    {
      "cell_type": "markdown",
      "metadata": {
        "id": "76kvncM28dCU"
      },
      "source": [
        "**So, here we can see that standard deviation is 93 and the mean absolute error is 4.1, it means our model is performing really great.**"
      ]
    },
    {
      "cell_type": "code",
      "metadata": {
        "colab": {
          "base_uri": "https://localhost:8080/"
        },
        "id": "OD8ug4at8aMV",
        "outputId": "edfbc29e-24a4-40ab-9501-f5a29ee13640"
      },
      "source": [
        "mean_squared_error(pred_df['Test True Y'], pred_df['Model Predictions'])"
      ],
      "execution_count": 101,
      "outputs": [
        {
          "output_type": "execute_result",
          "data": {
            "text/plain": [
              "25.706894038158705"
            ]
          },
          "metadata": {
            "tags": []
          },
          "execution_count": 101
        }
      ]
    },
    {
      "cell_type": "code",
      "metadata": {
        "colab": {
          "base_uri": "https://localhost:8080/"
        },
        "id": "J5rshvxI88ng",
        "outputId": "1c469cbf-86ea-4108-a36b-91411d64db27"
      },
      "source": [
        "mean_squared_error(pred_df['Test True Y'], pred_df['Model Predictions'])**0.5 # RMSE"
      ],
      "execution_count": 103,
      "outputs": [
        {
          "output_type": "execute_result",
          "data": {
            "text/plain": [
              "5.070196646892377"
            ]
          },
          "metadata": {
            "tags": []
          },
          "execution_count": 103
        }
      ]
    },
    {
      "cell_type": "markdown",
      "metadata": {
        "id": "roK06cQd_DvJ"
      },
      "source": [
        "## **Saving and Loading model**"
      ]
    },
    {
      "cell_type": "code",
      "metadata": {
        "id": "_D26DS_L9KJH"
      },
      "source": [
        "from tensorflow.keras.models import load_model"
      ],
      "execution_count": 104,
      "outputs": []
    },
    {
      "cell_type": "code",
      "metadata": {
        "id": "qFvG1Emk9np2"
      },
      "source": [
        "model.save('my_gem_model.h5')"
      ],
      "execution_count": 105,
      "outputs": []
    },
    {
      "cell_type": "code",
      "metadata": {
        "id": "yatAae4i--1K"
      },
      "source": [
        "later_model = load_model('my_gem_model.h5')"
      ],
      "execution_count": 106,
      "outputs": []
    },
    {
      "cell_type": "code",
      "metadata": {
        "colab": {
          "base_uri": "https://localhost:8080/"
        },
        "id": "CMS_r4-W_WOn",
        "outputId": "1a7693ce-791f-4046-de11-f1f55fa105c8"
      },
      "source": [
        "later_model"
      ],
      "execution_count": 107,
      "outputs": [
        {
          "output_type": "execute_result",
          "data": {
            "text/plain": [
              "<tensorflow.python.keras.engine.sequential.Sequential at 0x7fdcdda5e310>"
            ]
          },
          "metadata": {
            "tags": []
          },
          "execution_count": 107
        }
      ]
    },
    {
      "cell_type": "markdown",
      "metadata": {
        "id": "NfC-0c20_pJB"
      },
      "source": [
        "**It will just work as my original model**"
      ]
    }
  ]
}