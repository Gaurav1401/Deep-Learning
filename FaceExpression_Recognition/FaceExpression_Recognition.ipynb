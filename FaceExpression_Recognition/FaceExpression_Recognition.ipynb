{
  "nbformat": 4,
  "nbformat_minor": 0,
  "metadata": {
    "colab": {
      "name": "FaceExpression_Recognition.ipynb",
      "provenance": [],
      "authorship_tag": "ABX9TyPDeGdgkVLuLDQ3Gb26O0JC",
      "include_colab_link": true
    },
    "kernelspec": {
      "name": "python3",
      "display_name": "Python 3"
    },
    "language_info": {
      "name": "python"
    },
    "accelerator": "GPU"
  },
  "cells": [
    {
      "cell_type": "markdown",
      "metadata": {
        "id": "view-in-github",
        "colab_type": "text"
      },
      "source": [
        "<a href=\"https://colab.research.google.com/github/Gaurav1401/Deep-Learning/blob/main/FaceExpression_Recognition/FaceExpression_Recognition.ipynb\" target=\"_parent\"><img src=\"https://colab.research.google.com/assets/colab-badge.svg\" alt=\"Open In Colab\"/></a>"
      ]
    },
    {
      "cell_type": "code",
      "execution_count": 7,
      "metadata": {
        "colab": {
          "base_uri": "https://localhost:8080/"
        },
        "id": "FbynsBkyVKZn",
        "outputId": "597497b7-9870-42c3-bf3f-be576a013097"
      },
      "outputs": [
        {
          "output_type": "stream",
          "name": "stdout",
          "text": [
            "--2021-12-30 21:20:21--  https://www.dropbox.com/s/si11cws2pyho1bp/archive.zip\n",
            "Resolving www.dropbox.com (www.dropbox.com)... 162.125.85.18, 2620:100:6035:18::a27d:5512\n",
            "Connecting to www.dropbox.com (www.dropbox.com)|162.125.85.18|:443... connected.\n",
            "HTTP request sent, awaiting response... 301 Moved Permanently\n",
            "Location: /s/raw/si11cws2pyho1bp/archive.zip [following]\n",
            "--2021-12-30 21:20:21--  https://www.dropbox.com/s/raw/si11cws2pyho1bp/archive.zip\n",
            "Reusing existing connection to www.dropbox.com:443.\n",
            "HTTP request sent, awaiting response... 302 Found\n",
            "Location: https://uc8b788304987818086f54363542.dl.dropboxusercontent.com/cd/0/inline/Bc3VlQwrvPWXYfWGcAAyatqA1o6bwgvvRsxfkW7ZaiWdF_oxCssuYoCpB44Zoue92lVXNS7IsAFPSDRpNVy50QAH78QbP81f3QR_u9f_tgfbKpQAHr227iFqTnMA4zzvJui3mlMti34bMfTYzX0HAD1f/file# [following]\n",
            "--2021-12-30 21:20:21--  https://uc8b788304987818086f54363542.dl.dropboxusercontent.com/cd/0/inline/Bc3VlQwrvPWXYfWGcAAyatqA1o6bwgvvRsxfkW7ZaiWdF_oxCssuYoCpB44Zoue92lVXNS7IsAFPSDRpNVy50QAH78QbP81f3QR_u9f_tgfbKpQAHr227iFqTnMA4zzvJui3mlMti34bMfTYzX0HAD1f/file\n",
            "Resolving uc8b788304987818086f54363542.dl.dropboxusercontent.com (uc8b788304987818086f54363542.dl.dropboxusercontent.com)... 162.125.85.15, 2620:100:6031:15::a27d:510f\n",
            "Connecting to uc8b788304987818086f54363542.dl.dropboxusercontent.com (uc8b788304987818086f54363542.dl.dropboxusercontent.com)|162.125.85.15|:443... connected.\n",
            "HTTP request sent, awaiting response... 302 Found\n",
            "Location: /cd/0/inline2/Bc0GgGtKkSOFnx1TwtMwTYLWABYXKa3Jc6Kc78_38r8ZEnTxN1igU_jtLPbf_FF5nHhcms_oguyK6053u8sneVpCyeMYdr9O0m9Lb5zGshLiZhin49585qN3A5kv6AdNUPYbXfSP8OSXBjD9vY35BgR7ftm5elkSQj-n7DkNR4fednC61fqNvn32euOBM5gnmgRxeYGoKetbo5LQ5dgB71b0ylUlFrg6SbZ3AvE2rdlmrmeRSvq2wKrbxi9e0xJfMIn8Arugiyxe4CNGg3jWYBsg6_nUvnBypufjuYkh4_et9El2r1r1UIRy1wfFsQO2Cp7CzkY6R7td5PFe_82o6TYtdLNDjQKXa_YgPXg9qv0hMf2g7r56-CYw4Y7fFaIdNcc/file [following]\n",
            "--2021-12-30 21:20:22--  https://uc8b788304987818086f54363542.dl.dropboxusercontent.com/cd/0/inline2/Bc0GgGtKkSOFnx1TwtMwTYLWABYXKa3Jc6Kc78_38r8ZEnTxN1igU_jtLPbf_FF5nHhcms_oguyK6053u8sneVpCyeMYdr9O0m9Lb5zGshLiZhin49585qN3A5kv6AdNUPYbXfSP8OSXBjD9vY35BgR7ftm5elkSQj-n7DkNR4fednC61fqNvn32euOBM5gnmgRxeYGoKetbo5LQ5dgB71b0ylUlFrg6SbZ3AvE2rdlmrmeRSvq2wKrbxi9e0xJfMIn8Arugiyxe4CNGg3jWYBsg6_nUvnBypufjuYkh4_et9El2r1r1UIRy1wfFsQO2Cp7CzkY6R7td5PFe_82o6TYtdLNDjQKXa_YgPXg9qv0hMf2g7r56-CYw4Y7fFaIdNcc/file\n",
            "Reusing existing connection to uc8b788304987818086f54363542.dl.dropboxusercontent.com:443.\n",
            "HTTP request sent, awaiting response... 200 OK\n",
            "Length: 63252113 (60M) [application/zip]\n",
            "Saving to: ‘archive.zip’\n",
            "\n",
            "archive.zip         100%[===================>]  60.32M  14.8MB/s    in 4.1s    \n",
            "\n",
            "2021-12-30 21:20:27 (14.8 MB/s) - ‘archive.zip’ saved [63252113/63252113]\n",
            "\n"
          ]
        }
      ],
      "source": [
        "# !wget https://www.dropbox.com/s/si11cws2pyho1bp/archive.zip"
      ]
    },
    {
      "cell_type": "code",
      "source": [
        "# !unzip -q \"/content/archive.zip\""
      ],
      "metadata": {
        "id": "dvN3cqL0Vytn"
      },
      "execution_count": 8,
      "outputs": []
    },
    {
      "cell_type": "code",
      "source": [
        "import numpy as np\n",
        "import pandas as pd\n",
        "import tensorflow as tf\n",
        "import matplotlib.pyplot as plt\n",
        "import glob\n",
        "from pathlib import Path # To play with file paths\n",
        "from sklearn.preprocessing import LabelEncoder\n",
        "from sklearn.model_selection import train_test_split\n",
        "import warnings as wg\n",
        "wg.filterwarnings(\"ignore\")"
      ],
      "metadata": {
        "id": "6ZcCyv0UV8iG"
      },
      "execution_count": 9,
      "outputs": []
    },
    {
      "cell_type": "code",
      "source": [
        "train_path = Path(\"/content/train\")\n",
        "test_path = Path(\"/content/test\")"
      ],
      "metadata": {
        "id": "r93sJYPIWzTT"
      },
      "execution_count": 10,
      "outputs": []
    },
    {
      "cell_type": "code",
      "source": [
        "list(train_path.glob(\"*/*\"))[:5] # return image paths in form of Path Object"
      ],
      "metadata": {
        "colab": {
          "base_uri": "https://localhost:8080/"
        },
        "id": "QaOSyQKle6Pz",
        "outputId": "68a19884-f00b-46c8-f5ae-fc9481f5e909"
      },
      "execution_count": 11,
      "outputs": [
        {
          "output_type": "execute_result",
          "data": {
            "text/plain": [
              "[PosixPath('/content/train/happy/Training_10240470.jpg'),\n",
              " PosixPath('/content/train/happy/Training_46719576.jpg'),\n",
              " PosixPath('/content/train/happy/Training_13542808.jpg'),\n",
              " PosixPath('/content/train/happy/Training_26049115.jpg'),\n",
              " PosixPath('/content/train/happy/Training_23419201.jpg')]"
            ]
          },
          "metadata": {},
          "execution_count": 11
        }
      ]
    },
    {
      "cell_type": "code",
      "source": [
        "str(list(train_path.glob(\"*/*\"))[0]) # Each object need to be converted to string"
      ],
      "metadata": {
        "colab": {
          "base_uri": "https://localhost:8080/",
          "height": 35
        },
        "id": "T3vNLZtKfdER",
        "outputId": "6be8acf1-ea2c-427d-903f-4d740f76d127"
      },
      "execution_count": 12,
      "outputs": [
        {
          "output_type": "execute_result",
          "data": {
            "application/vnd.google.colaboratory.intrinsic+json": {
              "type": "string"
            },
            "text/plain": [
              "'/content/train/happy/Training_10240470.jpg'"
            ]
          },
          "metadata": {},
          "execution_count": 12
        }
      ]
    },
    {
      "cell_type": "code",
      "source": [
        "train_image_paths = list(train_path.glob(\"*/*\"))\n",
        "train_image_paths = list(map(lambda x: str(x), train_image_paths)) \n",
        "# Getting all paths in the form of string using map function\n",
        "\n",
        "train_image_paths[:5]"
      ],
      "metadata": {
        "colab": {
          "base_uri": "https://localhost:8080/"
        },
        "id": "9T81CkOUXLUQ",
        "outputId": "0cff488a-382b-4078-ebfc-02dd9e5f13dc"
      },
      "execution_count": 13,
      "outputs": [
        {
          "output_type": "execute_result",
          "data": {
            "text/plain": [
              "['/content/train/happy/Training_10240470.jpg',\n",
              " '/content/train/happy/Training_46719576.jpg',\n",
              " '/content/train/happy/Training_13542808.jpg',\n",
              " '/content/train/happy/Training_26049115.jpg',\n",
              " '/content/train/happy/Training_23419201.jpg']"
            ]
          },
          "metadata": {},
          "execution_count": 13
        }
      ]
    },
    {
      "cell_type": "code",
      "source": [
        "'/content/train/neutral/Training_29136162.jpg'.split(\"/\")[-2] # Getting image label from file path"
      ],
      "metadata": {
        "colab": {
          "base_uri": "https://localhost:8080/",
          "height": 35
        },
        "id": "OYjEQoSXl1Z3",
        "outputId": "6bbd7b79-b655-44b5-81e4-f67b58871799"
      },
      "execution_count": 14,
      "outputs": [
        {
          "output_type": "execute_result",
          "data": {
            "application/vnd.google.colaboratory.intrinsic+json": {
              "type": "string"
            },
            "text/plain": [
              "'neutral'"
            ]
          },
          "metadata": {},
          "execution_count": 14
        }
      ]
    },
    {
      "cell_type": "code",
      "source": [
        "# Getting image labels for all images using map\n",
        "train_labels = list(map(lambda x: x.split(\"/\")[-2], train_image_paths)) "
      ],
      "metadata": {
        "id": "bejD3kuDl1VU"
      },
      "execution_count": 15,
      "outputs": []
    },
    {
      "cell_type": "code",
      "source": [
        "len(train_labels), len(train_image_paths)"
      ],
      "metadata": {
        "colab": {
          "base_uri": "https://localhost:8080/"
        },
        "id": "-Uvtb_Mwl1P2",
        "outputId": "f5f1f8e5-942b-4a92-9d08-2fd87ff471c5"
      },
      "execution_count": 16,
      "outputs": [
        {
          "output_type": "execute_result",
          "data": {
            "text/plain": [
              "(28709, 28709)"
            ]
          },
          "metadata": {},
          "execution_count": 16
        }
      ]
    },
    {
      "cell_type": "code",
      "source": [
        "# Convert all the string labels into numbers\n",
        "le = LabelEncoder()\n",
        "train_image_labels = le.fit_transform(train_labels)\n",
        "\n",
        "train_image_labels[:5]"
      ],
      "metadata": {
        "colab": {
          "base_uri": "https://localhost:8080/"
        },
        "id": "A6E4o2Oul1K_",
        "outputId": "f0a6c855-c2ff-43d5-9b65-5c7a73ceaaf4"
      },
      "execution_count": 17,
      "outputs": [
        {
          "output_type": "execute_result",
          "data": {
            "text/plain": [
              "array([3, 3, 3, 3, 3])"
            ]
          },
          "metadata": {},
          "execution_count": 17
        }
      ]
    },
    {
      "cell_type": "code",
      "source": [
        "# The numeric labels should be treated as categorical instead of continuous values\n",
        "train_image_labels = tf.keras.utils.to_categorical(train_image_labels)"
      ],
      "metadata": {
        "id": "xJLbgsrpl1HC"
      },
      "execution_count": 18,
      "outputs": []
    },
    {
      "cell_type": "code",
      "source": [
        "train_paths, val_paths, train_labels, val_labels = train_test_split(train_image_paths,\n",
        "                                                                    train_image_labels,\n",
        "                                                                    test_size = 0.2)"
      ],
      "metadata": {
        "id": "n3rMTYCFl1Dl"
      },
      "execution_count": 19,
      "outputs": []
    },
    {
      "cell_type": "code",
      "source": [
        "len(train_paths), len(val_paths)"
      ],
      "metadata": {
        "colab": {
          "base_uri": "https://localhost:8080/"
        },
        "id": "B5ExOrtPp4jA",
        "outputId": "e10269fb-23f4-40c9-ed69-811ccfdc1dc1"
      },
      "execution_count": 20,
      "outputs": [
        {
          "output_type": "execute_result",
          "data": {
            "text/plain": [
              "(22967, 5742)"
            ]
          },
          "metadata": {},
          "execution_count": 20
        }
      ]
    },
    {
      "cell_type": "code",
      "source": [
        "image = tf.io.read_file(train_paths[10])\n",
        "image = tf.image.decode_jpeg(image, channels = 3)"
      ],
      "metadata": {
        "id": "vtVQAW7J3uQs"
      },
      "execution_count": 21,
      "outputs": []
    },
    {
      "cell_type": "code",
      "source": [
        "np.max(tf.image.decode_jpeg(tf.io.read_file(train_paths[100])))"
      ],
      "metadata": {
        "colab": {
          "base_uri": "https://localhost:8080/"
        },
        "id": "8_dbF6hj6EeU",
        "outputId": "186f3d70-753d-43e2-b4a3-19cf278c2f6c"
      },
      "execution_count": 22,
      "outputs": [
        {
          "output_type": "execute_result",
          "data": {
            "text/plain": [
              "255"
            ]
          },
          "metadata": {},
          "execution_count": 22
        }
      ]
    },
    {
      "cell_type": "code",
      "source": [
        "image.shape"
      ],
      "metadata": {
        "colab": {
          "base_uri": "https://localhost:8080/"
        },
        "id": "SwyItrpO39MP",
        "outputId": "ad579d0c-8d5b-49bd-c189-8e75b9956c05"
      },
      "execution_count": 23,
      "outputs": [
        {
          "output_type": "execute_result",
          "data": {
            "text/plain": [
              "TensorShape([48, 48, 3])"
            ]
          },
          "metadata": {},
          "execution_count": 23
        }
      ]
    },
    {
      "cell_type": "code",
      "source": [
        "plt.imshow(image)"
      ],
      "metadata": {
        "colab": {
          "base_uri": "https://localhost:8080/",
          "height": 284
        },
        "id": "Cgrrh39n3450",
        "outputId": "35b67d88-1325-4270-d4b7-782126fd9034"
      },
      "execution_count": 24,
      "outputs": [
        {
          "output_type": "execute_result",
          "data": {
            "text/plain": [
              "<matplotlib.image.AxesImage at 0x7f5e88862fd0>"
            ]
          },
          "metadata": {},
          "execution_count": 24
        },
        {
          "output_type": "display_data",
          "data": {
            "image/png": "[encoded data removed]",
            "text/plain": [
              "<Figure size 432x288 with 1 Axes>"
            ]
          },
          "metadata": {
            "needs_background": "light"
          }
        }
      ]
    },
    {
      "cell_type": "code",
      "source": [
        "np.max(image), np.min(image) # Need to resize and rescale the image"
      ],
      "metadata": {
        "colab": {
          "base_uri": "https://localhost:8080/"
        },
        "id": "GWAhz7HX5mPT",
        "outputId": "33f88624-be7e-4f42-ef6e-a045af10bf04"
      },
      "execution_count": 25,
      "outputs": [
        {
          "output_type": "execute_result",
          "data": {
            "text/plain": [
              "(238, 0)"
            ]
          },
          "metadata": {},
          "execution_count": 25
        }
      ]
    },
    {
      "cell_type": "markdown",
      "source": [
        "**Refer to [this](https://www.tensorflow.org/api_docs/python/tf/io/read_file) link to know more about this function**"
      ],
      "metadata": {
        "id": "XTtKdC9z1eWK"
      }
    },
    {
      "cell_type": "code",
      "source": [
        "# Function to load each image in form of tensorflow object\n",
        "def load_tensor_image(img_path, label):\n",
        "    image = tf.io.read_file(img_path)\n",
        "    # decoded_img = tf.image.rgb_to_grayscale(tf.image.decode_png(image))\n",
        "    decoded_img = tf.image.decode_jpeg(image, channels = 3)\n",
        "    # final_img = tf.image.resize(decoded_img, [512, 512], method = \"nearest\")\n",
        "    \n",
        "    return decoded_img, label"
      ],
      "metadata": {
        "id": "tUefmHIuk_Ea"
      },
      "execution_count": 26,
      "outputs": []
    },
    {
      "cell_type": "markdown",
      "source": [
        "**Data Augmentation using tf.keras.sequential:- [Click here](https://www.tensorflow.org/tutorials/images/data_augmentation)**"
      ],
      "metadata": {
        "id": "C6_i4Xys6VCh"
      }
    },
    {
      "cell_type": "code",
      "source": [
        "IMG_SIZE = 96\n",
        "\n",
        "\n",
        "resize_and_rescale = tf.keras.Sequential([\n",
        "  tf.keras.layers.Resizing(IMG_SIZE, IMG_SIZE),\n",
        "  tf.keras.layers.Rescaling(1./255)\n",
        "])\n",
        "\n",
        "data_augmentation = tf.keras.Sequential([\n",
        "  tf.keras.layers.RandomFlip(\"horizontal\"),\n",
        "  tf.keras.layers.RandomRotation(0.2),\n",
        "])"
      ],
      "metadata": {
        "id": "mYV1LWqPzl9q"
      },
      "execution_count": 27,
      "outputs": []
    },
    {
      "cell_type": "code",
      "source": [
        "AUTOTUNE = tf.data.AUTOTUNE\n",
        "BATCH_SIZE = 32\n",
        "def get_dataset(images, labels, train = False):\n",
        "    image_paths = tf.convert_to_tensor(images)\n",
        "    labels = tf.convert_to_tensor(labels)\n",
        "    \n",
        "    image_dataset = tf.data.Dataset.from_tensor_slices(image_paths)\n",
        "    label_dataset = tf.data.Dataset.from_tensor_slices(labels)\n",
        "    \n",
        "    \n",
        "    dataset = tf.data.Dataset.zip((image_dataset, label_dataset))\n",
        "    \n",
        "    dataset = dataset.map(lambda image, label: load_tensor_image(image, label))\n",
        "    dataset = dataset.map(lambda image, label: (resize_and_rescale(image), label), \n",
        "              num_parallel_calls=AUTOTUNE)\n",
        "    dataset = dataset.shuffle(1000)\n",
        "    dataset = dataset.batch(BATCH_SIZE)\n",
        "    \n",
        "    if train:\n",
        "      dataset = dataset.map(lambda image, label: (data_augmentation(image), label), \n",
        "                num_parallel_calls=AUTOTUNE)\n",
        "      \n",
        "    dataset = dataset.repeat()\n",
        "    return dataset"
      ],
      "metadata": {
        "id": "M1d7-j-K8RRH"
      },
      "execution_count": 28,
      "outputs": []
    },
    {
      "cell_type": "code",
      "source": [
        "train_dataset = get_dataset(train_paths, train_labels, train = True)"
      ],
      "metadata": {
        "id": "LZwAnlXG-7DC"
      },
      "execution_count": 29,
      "outputs": []
    },
    {
      "cell_type": "code",
      "source": [
        "image, label = next(iter(train_dataset))\n",
        "print(image.shape)\n",
        "print(label.shape)"
      ],
      "metadata": {
        "colab": {
          "base_uri": "https://localhost:8080/"
        },
        "id": "9mEg3ynJ_dBX",
        "outputId": "0b21642a-6904-4874-fb1c-21ae93808fad"
      },
      "execution_count": 30,
      "outputs": [
        {
          "output_type": "stream",
          "name": "stdout",
          "text": [
            "(32, 96, 96, 3)\n",
            "(32, 7)\n"
          ]
        }
      ]
    },
    {
      "cell_type": "code",
      "source": [
        "val_dataset = get_dataset(train_paths, train_labels) # No Augmentation"
      ],
      "metadata": {
        "id": "7DZwahx3_lcJ"
      },
      "execution_count": 31,
      "outputs": []
    },
    {
      "cell_type": "code",
      "source": [
        "image, label = next(iter(val_dataset))\n",
        "print(image.shape)\n",
        "print(label.shape)"
      ],
      "metadata": {
        "colab": {
          "base_uri": "https://localhost:8080/"
        },
        "id": "RMNSgnl-_y31",
        "outputId": "df852aff-6364-4d2f-e584-186a29934cc0"
      },
      "execution_count": 32,
      "outputs": [
        {
          "output_type": "stream",
          "name": "stdout",
          "text": [
            "(32, 96, 96, 3)\n",
            "(32, 7)\n"
          ]
        }
      ]
    },
    {
      "cell_type": "markdown",
      "source": [
        "## **Using Transfer Learning For predictions**"
      ],
      "metadata": {
        "id": "tf1v7TeoG56n"
      }
    },
    {
      "cell_type": "code",
      "source": [
        "backbone = tf.keras.applications.efficientnet.EfficientNetB2(\n",
        "           include_top=False, weights='imagenet',\n",
        "           input_shape=(96,96,3)\n",
        "           )"
      ],
      "metadata": {
        "colab": {
          "base_uri": "https://localhost:8080/"
        },
        "id": "n_APCxGL_1bD",
        "outputId": "b3a2f8fa-8268-4148-b1ff-c0b765e5d988"
      },
      "execution_count": 33,
      "outputs": [
        {
          "output_type": "stream",
          "name": "stdout",
          "text": [
            "Downloading data from https://storage.googleapis.com/keras-applications/efficientnetb2_notop.h5\n",
            "31793152/31790344 [==============================] - 0s 0us/step\n",
            "31801344/31790344 [==============================] - 0s 0us/step\n"
          ]
        }
      ]
    },
    {
      "cell_type": "code",
      "source": [
        "model = tf.keras.Sequential([\n",
        "                backbone,\n",
        "                tf.keras.layers.GlobalAveragePooling2D(),\n",
        "                tf.keras.layers.Dense(128, activation = \"relu\"),\n",
        "                tf.keras.layers.Dense(7, activation = \"softmax\")\n",
        "])\n",
        "\n",
        "model.summary()"
      ],
      "metadata": {
        "colab": {
          "base_uri": "https://localhost:8080/"
        },
        "id": "oUCZB7CtH7ez",
        "outputId": "6ccf046b-1ef0-436f-deaf-ceec992f5f31"
      },
      "execution_count": 34,
      "outputs": [
        {
          "output_type": "stream",
          "name": "stdout",
          "text": [
            "Model: \"sequential_2\"\n",
            "_________________________________________________________________\n",
            " Layer (type)                Output Shape              Param #   \n",
            "=================================================================\n",
            " efficientnetb2 (Functional)  (None, 3, 3, 1408)       7768569   \n",
            "                                                                 \n",
            " global_average_pooling2d (G  (None, 1408)             0         \n",
            " lobalAveragePooling2D)                                          \n",
            "                                                                 \n",
            " dense (Dense)               (None, 128)               180352    \n",
            "                                                                 \n",
            " dense_1 (Dense)             (None, 7)                 903       \n",
            "                                                                 \n",
            "=================================================================\n",
            "Total params: 7,949,824\n",
            "Trainable params: 7,882,249\n",
            "Non-trainable params: 67,575\n",
            "_________________________________________________________________\n"
          ]
        }
      ]
    },
    {
      "cell_type": "code",
      "source": [
        "model.layers"
      ],
      "metadata": {
        "colab": {
          "base_uri": "https://localhost:8080/"
        },
        "id": "S5yfU3eeIuOC",
        "outputId": "19abc2af-4687-47e8-b6c2-9215f429ca7b"
      },
      "execution_count": 35,
      "outputs": [
        {
          "output_type": "execute_result",
          "data": {
            "text/plain": [
              "[<keras.engine.functional.Functional at 0x7f5e887f0450>,\n",
              " <keras.layers.pooling.GlobalAveragePooling2D at 0x7f5e801c0fd0>,\n",
              " <keras.layers.core.dense.Dense at 0x7f5e801c0750>,\n",
              " <keras.layers.core.dense.Dense at 0x7f5e8890c050>]"
            ]
          },
          "metadata": {},
          "execution_count": 35
        }
      ]
    },
    {
      "cell_type": "code",
      "source": [
        "model.layers[0].trainable = False"
      ],
      "metadata": {
        "id": "KTqIJodFI695"
      },
      "execution_count": 36,
      "outputs": []
    },
    {
      "cell_type": "code",
      "source": [
        "# Defining our callbacks\n",
        "checkpoint = tf.keras.callbacks.ModelCheckpoint(\"best_weights.h5\", verbose = 1, save_best_only = True, save_weights_only=True)\n",
        "early_stop = tf.keras.callbacks.EarlyStopping(patience = 3)"
      ],
      "metadata": {
        "id": "GhgO-qGuJAwG"
      },
      "execution_count": 37,
      "outputs": []
    },
    {
      "cell_type": "code",
      "source": [
        "base_learning_rate = 0.0001\n",
        "model.compile(optimizer=tf.keras.optimizers.Adam(learning_rate=base_learning_rate),\n",
        "              loss= \"categorical_crossentropy\",\n",
        "              metrics=['accuracy'])"
      ],
      "metadata": {
        "id": "H4WYJ-TBM7K3"
      },
      "execution_count": 38,
      "outputs": []
    },
    {
      "cell_type": "code",
      "source": [
        "history = model.fit(train_dataset,\n",
        "                    steps_per_epoch = len(train_image_paths)//BATCH_SIZE,\n",
        "                    epochs = 10,\n",
        "                    callbacks = [checkpoint, early_stop],\n",
        "                    validation_data = val_dataset,\n",
        "                    validation_steps = len(val_paths)//BATCH_SIZE)"
      ],
      "metadata": {
        "colab": {
          "base_uri": "https://localhost:8080/"
        },
        "id": "JUfTG67_K2cI",
        "outputId": "a07d2dd0-caed-4843-b2e6-95c9f1005e21"
      },
      "execution_count": 39,
      "outputs": [
        {
          "output_type": "stream",
          "name": "stdout",
          "text": [
            "Epoch 1/10\n",
            "897/897 [==============================] - ETA: 0s - loss: 1.8195 - accuracy: 0.2469\n",
            "Epoch 00001: val_loss improved from inf to 1.83174, saving model to best_weights.h5\n",
            "897/897 [==============================] - 93s 84ms/step - loss: 1.8195 - accuracy: 0.2469 - val_loss: 1.8317 - val_accuracy: 0.2497\n",
            "Epoch 2/10\n",
            "897/897 [==============================] - ETA: 0s - loss: 1.8150 - accuracy: 0.2508\n",
            "Epoch 00002: val_loss improved from 1.83174 to 1.82773, saving model to best_weights.h5\n",
            "897/897 [==============================] - 80s 89ms/step - loss: 1.8150 - accuracy: 0.2508 - val_loss: 1.8277 - val_accuracy: 0.2523\n",
            "Epoch 3/10\n",
            "897/897 [==============================] - ETA: 0s - loss: 1.8139 - accuracy: 0.2508\n",
            "Epoch 00003: val_loss improved from 1.82773 to 1.81524, saving model to best_weights.h5\n",
            "897/897 [==============================] - 76s 85ms/step - loss: 1.8139 - accuracy: 0.2508 - val_loss: 1.8152 - val_accuracy: 0.2521\n",
            "Epoch 4/10\n",
            "897/897 [==============================] - ETA: 0s - loss: 1.8127 - accuracy: 0.2492\n",
            "Epoch 00004: val_loss did not improve from 1.81524\n",
            "897/897 [==============================] - 73s 81ms/step - loss: 1.8127 - accuracy: 0.2492 - val_loss: 1.8166 - val_accuracy: 0.2524\n",
            "Epoch 5/10\n",
            "897/897 [==============================] - ETA: 0s - loss: 1.8143 - accuracy: 0.2513\n",
            "Epoch 00005: val_loss did not improve from 1.81524\n",
            "897/897 [==============================] - 82s 92ms/step - loss: 1.8143 - accuracy: 0.2513 - val_loss: 1.8165 - val_accuracy: 0.2528\n",
            "Epoch 6/10\n",
            "897/897 [==============================] - ETA: 0s - loss: 1.8133 - accuracy: 0.2512\n",
            "Epoch 00006: val_loss did not improve from 1.81524\n",
            "897/897 [==============================] - 73s 82ms/step - loss: 1.8133 - accuracy: 0.2512 - val_loss: 1.8171 - val_accuracy: 0.2537\n"
          ]
        }
      ]
    }
  ]
}