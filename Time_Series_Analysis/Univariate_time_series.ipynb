{
  "nbformat": 4,
  "nbformat_minor": 0,
  "metadata": {
    "colab": {
      "name": "Univariate_time_series.ipynb",
      "provenance": [],
      "authorship_tag": "ABX9TyPUv0rTDOKQ9xlJOyMEzGd/",
      "include_colab_link": true
    },
    "kernelspec": {
      "name": "python3",
      "display_name": "Python 3"
    },
    "language_info": {
      "name": "python"
    },
    "accelerator": "GPU"
  },
  "cells": [
    {
      "cell_type": "markdown",
      "metadata": {
        "id": "view-in-github",
        "colab_type": "text"
      },
      "source": [
        "<a href=\"https://colab.research.google.com/github/Gaurav1401/Deep-Learning/blob/main/Time_Series_Analysis/Univariate_time_series.ipynb\" target=\"_parent\"><img src=\"https://colab.research.google.com/assets/colab-badge.svg\" alt=\"Open In Colab\"/></a>"
      ]
    },
    {
      "cell_type": "code",
      "execution_count": 1,
      "metadata": {
        "id": "99fK0Yn_1ACS"
      },
      "outputs": [],
      "source": [
        "import numpy as np\n",
        "import pandas as pd\n",
        "import matplotlib.pyplot as plt\n",
        "import tensorflow as tf\n",
        "from tensorflow.keras.models import Sequential\n",
        "from tensorflow.keras.layers import Dense , Dropout , LSTM , Bidirectional\n",
        "from sklearn.preprocessing import MinMaxScaler\n"
      ]
    },
    {
      "cell_type": "code",
      "source": [
        "df = pd.read_csv(\"sample.csv\",index_col=\"Year\")"
      ],
      "metadata": {
        "id": "tMDtn7Yv1HSB"
      },
      "execution_count": 2,
      "outputs": []
    },
    {
      "cell_type": "code",
      "source": [
        "df.head()"
      ],
      "metadata": {
        "colab": {
          "base_uri": "https://localhost:8080/",
          "height": 238
        },
        "id": "PabHKnHu1J8G",
        "outputId": "36f46bf8-6dee-4791-e808-72b5ff7f9734"
      },
      "execution_count": 3,
      "outputs": [
        {
          "output_type": "execute_result",
          "data": {
            "text/html": [
              "\n",
              "  <div id=\"df-ec908242-fb82-4645-9eed-0e14f32afdc9\">\n",
              "    <div class=\"colab-df-container\">\n",
              "      <div>\n",
              "<style scoped>\n",
              "    .dataframe tbody tr th:only-of-type {\n",
              "        vertical-align: middle;\n",
              "    }\n",
              "\n",
              "    .dataframe tbody tr th {\n",
              "        vertical-align: top;\n",
              "    }\n",
              "\n",
              "    .dataframe thead th {\n",
              "        text-align: right;\n",
              "    }\n",
              "</style>\n",
              "<table border=\"1\" class=\"dataframe\">\n",
              "  <thead>\n",
              "    <tr style=\"text-align: right;\">\n",
              "      <th></th>\n",
              "      <th>Number</th>\n",
              "    </tr>\n",
              "    <tr>\n",
              "      <th>Year</th>\n",
              "      <th></th>\n",
              "    </tr>\n",
              "  </thead>\n",
              "  <tbody>\n",
              "    <tr>\n",
              "      <th>1985</th>\n",
              "      <td>2,309</td>\n",
              "    </tr>\n",
              "    <tr>\n",
              "      <th>1986</th>\n",
              "      <td>3,447</td>\n",
              "    </tr>\n",
              "    <tr>\n",
              "      <th>1987</th>\n",
              "      <td>3,708</td>\n",
              "    </tr>\n",
              "    <tr>\n",
              "      <th>1988</th>\n",
              "      <td>4,443</td>\n",
              "    </tr>\n",
              "    <tr>\n",
              "      <th>1989</th>\n",
              "      <td>5,840</td>\n",
              "    </tr>\n",
              "  </tbody>\n",
              "</table>\n",
              "</div>\n",
              "      <button class=\"colab-df-convert\" onclick=\"convertToInteractive('df-ec908242-fb82-4645-9eed-0e14f32afdc9')\"\n",
              "              title=\"Convert this dataframe to an interactive table.\"\n",
              "              style=\"display:none;\">\n",
              "        \n",
              "  <svg xmlns=\"http://www.w3.org/2000/svg\" height=\"24px\"viewBox=\"0 0 24 24\"\n",
              "       width=\"24px\">\n",
              "    <path d=\"M0 0h24v24H0V0z\" fill=\"none\"/>\n",
              "    <path d=\"M18.56 5.44l.94 2.06.94-2.06 2.06-.94-2.06-.94-.94-2.06-.94 2.06-2.06.94zm-11 1L8.5 8.5l.94-2.06 2.06-.94-2.06-.94L8.5 2.5l-.94 2.06-2.06.94zm10 10l.94 2.06.94-2.06 2.06-.94-2.06-.94-.94-2.06-.94 2.06-2.06.94z\"/><path d=\"M17.41 7.96l-1.37-1.37c-.4-.4-.92-.59-1.43-.59-.52 0-1.04.2-1.43.59L10.3 9.45l-7.72 7.72c-.78.78-.78 2.05 0 2.83L4 21.41c.39.39.9.59 1.41.59.51 0 1.02-.2 1.41-.59l7.78-7.78 2.81-2.81c.8-.78.8-2.07 0-2.86zM5.41 20L4 18.59l7.72-7.72 1.47 1.35L5.41 20z\"/>\n",
              "  </svg>\n",
              "      </button>\n",
              "      \n",
              "  <style>\n",
              "    .colab-df-container {\n",
              "      display:flex;\n",
              "      flex-wrap:wrap;\n",
              "      gap: 12px;\n",
              "    }\n",
              "\n",
              "    .colab-df-convert {\n",
              "      background-color: #E8F0FE;\n",
              "      border: none;\n",
              "      border-radius: 50%;\n",
              "      cursor: pointer;\n",
              "      display: none;\n",
              "      fill: #1967D2;\n",
              "      height: 32px;\n",
              "      padding: 0 0 0 0;\n",
              "      width: 32px;\n",
              "    }\n",
              "\n",
              "    .colab-df-convert:hover {\n",
              "      background-color: #E2EBFA;\n",
              "      box-shadow: 0px 1px 2px rgba(60, 64, 67, 0.3), 0px 1px 3px 1px rgba(60, 64, 67, 0.15);\n",
              "      fill: #174EA6;\n",
              "    }\n",
              "\n",
              "    [theme=dark] .colab-df-convert {\n",
              "      background-color: #3B4455;\n",
              "      fill: #D2E3FC;\n",
              "    }\n",
              "\n",
              "    [theme=dark] .colab-df-convert:hover {\n",
              "      background-color: #434B5C;\n",
              "      box-shadow: 0px 1px 3px 1px rgba(0, 0, 0, 0.15);\n",
              "      filter: drop-shadow(0px 1px 2px rgba(0, 0, 0, 0.3));\n",
              "      fill: #FFFFFF;\n",
              "    }\n",
              "  </style>\n",
              "\n",
              "      <script>\n",
              "        const buttonEl =\n",
              "          document.querySelector('#df-ec908242-fb82-4645-9eed-0e14f32afdc9 button.colab-df-convert');\n",
              "        buttonEl.style.display =\n",
              "          google.colab.kernel.accessAllowed ? 'block' : 'none';\n",
              "\n",
              "        async function convertToInteractive(key) {\n",
              "          const element = document.querySelector('#df-ec908242-fb82-4645-9eed-0e14f32afdc9');\n",
              "          const dataTable =\n",
              "            await google.colab.kernel.invokeFunction('convertToInteractive',\n",
              "                                                     [key], {});\n",
              "          if (!dataTable) return;\n",
              "\n",
              "          const docLinkHtml = 'Like what you see? Visit the ' +\n",
              "            '<a target=\"_blank\" href=https://colab.research.google.com/notebooks/data_table.ipynb>data table notebook</a>'\n",
              "            + ' to learn more about interactive tables.';\n",
              "          element.innerHTML = '';\n",
              "          dataTable['output_type'] = 'display_data';\n",
              "          await google.colab.output.renderOutput(dataTable, element);\n",
              "          const docLink = document.createElement('div');\n",
              "          docLink.innerHTML = docLinkHtml;\n",
              "          element.appendChild(docLink);\n",
              "        }\n",
              "      </script>\n",
              "    </div>\n",
              "  </div>\n",
              "  "
            ],
            "text/plain": [
              "     Number\n",
              "Year       \n",
              "1985  2,309\n",
              "1986  3,447\n",
              "1987  3,708\n",
              "1988  4,443\n",
              "1989  5,840"
            ]
          },
          "metadata": {},
          "execution_count": 3
        }
      ]
    },
    {
      "cell_type": "code",
      "source": [
        "df.tail()"
      ],
      "metadata": {
        "colab": {
          "base_uri": "https://localhost:8080/",
          "height": 238
        },
        "id": "dOzL7hYTZGwm",
        "outputId": "b3b9c709-bdc6-43a8-dc1d-2f419b23bd8a"
      },
      "execution_count": 4,
      "outputs": [
        {
          "output_type": "execute_result",
          "data": {
            "text/html": [
              "\n",
              "  <div id=\"df-3c962226-444f-49a3-a1e7-f7ab29be1a45\">\n",
              "    <div class=\"colab-df-container\">\n",
              "      <div>\n",
              "<style scoped>\n",
              "    .dataframe tbody tr th:only-of-type {\n",
              "        vertical-align: middle;\n",
              "    }\n",
              "\n",
              "    .dataframe tbody tr th {\n",
              "        vertical-align: top;\n",
              "    }\n",
              "\n",
              "    .dataframe thead th {\n",
              "        text-align: right;\n",
              "    }\n",
              "</style>\n",
              "<table border=\"1\" class=\"dataframe\">\n",
              "  <thead>\n",
              "    <tr style=\"text-align: right;\">\n",
              "      <th></th>\n",
              "      <th>Number</th>\n",
              "    </tr>\n",
              "    <tr>\n",
              "      <th>Year</th>\n",
              "      <th></th>\n",
              "    </tr>\n",
              "  </thead>\n",
              "  <tbody>\n",
              "    <tr>\n",
              "      <th>2017</th>\n",
              "      <td>15,558</td>\n",
              "    </tr>\n",
              "    <tr>\n",
              "      <th>2018</th>\n",
              "      <td>14,936</td>\n",
              "    </tr>\n",
              "    <tr>\n",
              "      <th>2019</th>\n",
              "      <td>17,759</td>\n",
              "    </tr>\n",
              "    <tr>\n",
              "      <th>2020</th>\n",
              "      <td>15,271</td>\n",
              "    </tr>\n",
              "    <tr>\n",
              "      <th>2021</th>\n",
              "      <td>6425</td>\n",
              "    </tr>\n",
              "  </tbody>\n",
              "</table>\n",
              "</div>\n",
              "      <button class=\"colab-df-convert\" onclick=\"convertToInteractive('df-3c962226-444f-49a3-a1e7-f7ab29be1a45')\"\n",
              "              title=\"Convert this dataframe to an interactive table.\"\n",
              "              style=\"display:none;\">\n",
              "        \n",
              "  <svg xmlns=\"http://www.w3.org/2000/svg\" height=\"24px\"viewBox=\"0 0 24 24\"\n",
              "       width=\"24px\">\n",
              "    <path d=\"M0 0h24v24H0V0z\" fill=\"none\"/>\n",
              "    <path d=\"M18.56 5.44l.94 2.06.94-2.06 2.06-.94-2.06-.94-.94-2.06-.94 2.06-2.06.94zm-11 1L8.5 8.5l.94-2.06 2.06-.94-2.06-.94L8.5 2.5l-.94 2.06-2.06.94zm10 10l.94 2.06.94-2.06 2.06-.94-2.06-.94-.94-2.06-.94 2.06-2.06.94z\"/><path d=\"M17.41 7.96l-1.37-1.37c-.4-.4-.92-.59-1.43-.59-.52 0-1.04.2-1.43.59L10.3 9.45l-7.72 7.72c-.78.78-.78 2.05 0 2.83L4 21.41c.39.39.9.59 1.41.59.51 0 1.02-.2 1.41-.59l7.78-7.78 2.81-2.81c.8-.78.8-2.07 0-2.86zM5.41 20L4 18.59l7.72-7.72 1.47 1.35L5.41 20z\"/>\n",
              "  </svg>\n",
              "      </button>\n",
              "      \n",
              "  <style>\n",
              "    .colab-df-container {\n",
              "      display:flex;\n",
              "      flex-wrap:wrap;\n",
              "      gap: 12px;\n",
              "    }\n",
              "\n",
              "    .colab-df-convert {\n",
              "      background-color: #E8F0FE;\n",
              "      border: none;\n",
              "      border-radius: 50%;\n",
              "      cursor: pointer;\n",
              "      display: none;\n",
              "      fill: #1967D2;\n",
              "      height: 32px;\n",
              "      padding: 0 0 0 0;\n",
              "      width: 32px;\n",
              "    }\n",
              "\n",
              "    .colab-df-convert:hover {\n",
              "      background-color: #E2EBFA;\n",
              "      box-shadow: 0px 1px 2px rgba(60, 64, 67, 0.3), 0px 1px 3px 1px rgba(60, 64, 67, 0.15);\n",
              "      fill: #174EA6;\n",
              "    }\n",
              "\n",
              "    [theme=dark] .colab-df-convert {\n",
              "      background-color: #3B4455;\n",
              "      fill: #D2E3FC;\n",
              "    }\n",
              "\n",
              "    [theme=dark] .colab-df-convert:hover {\n",
              "      background-color: #434B5C;\n",
              "      box-shadow: 0px 1px 3px 1px rgba(0, 0, 0, 0.15);\n",
              "      filter: drop-shadow(0px 1px 2px rgba(0, 0, 0, 0.3));\n",
              "      fill: #FFFFFF;\n",
              "    }\n",
              "  </style>\n",
              "\n",
              "      <script>\n",
              "        const buttonEl =\n",
              "          document.querySelector('#df-3c962226-444f-49a3-a1e7-f7ab29be1a45 button.colab-df-convert');\n",
              "        buttonEl.style.display =\n",
              "          google.colab.kernel.accessAllowed ? 'block' : 'none';\n",
              "\n",
              "        async function convertToInteractive(key) {\n",
              "          const element = document.querySelector('#df-3c962226-444f-49a3-a1e7-f7ab29be1a45');\n",
              "          const dataTable =\n",
              "            await google.colab.kernel.invokeFunction('convertToInteractive',\n",
              "                                                     [key], {});\n",
              "          if (!dataTable) return;\n",
              "\n",
              "          const docLinkHtml = 'Like what you see? Visit the ' +\n",
              "            '<a target=\"_blank\" href=https://colab.research.google.com/notebooks/data_table.ipynb>data table notebook</a>'\n",
              "            + ' to learn more about interactive tables.';\n",
              "          element.innerHTML = '';\n",
              "          dataTable['output_type'] = 'display_data';\n",
              "          await google.colab.output.renderOutput(dataTable, element);\n",
              "          const docLink = document.createElement('div');\n",
              "          docLink.innerHTML = docLinkHtml;\n",
              "          element.appendChild(docLink);\n",
              "        }\n",
              "      </script>\n",
              "    </div>\n",
              "  </div>\n",
              "  "
            ],
            "text/plain": [
              "      Number\n",
              "Year        \n",
              "2017  15,558\n",
              "2018  14,936\n",
              "2019  17,759\n",
              "2020  15,271\n",
              "2021    6425"
            ]
          },
          "metadata": {},
          "execution_count": 4
        }
      ]
    },
    {
      "cell_type": "code",
      "source": [
        "future = np.array([2022, 2023, 2024, 2025, 2026])"
      ],
      "metadata": {
        "id": "MxO-Fx0QZIo_"
      },
      "execution_count": 5,
      "outputs": []
    },
    {
      "cell_type": "code",
      "source": [
        "df.shape"
      ],
      "metadata": {
        "colab": {
          "base_uri": "https://localhost:8080/"
        },
        "id": "bWjAXxzv1LBN",
        "outputId": "9b1fedc4-319f-4913-aeef-bdb2892bbb29"
      },
      "execution_count": 6,
      "outputs": [
        {
          "output_type": "execute_result",
          "data": {
            "text/plain": [
              "(37, 1)"
            ]
          },
          "metadata": {},
          "execution_count": 6
        }
      ]
    },
    {
      "cell_type": "code",
      "source": [
        "df.info()"
      ],
      "metadata": {
        "id": "B17Dxps01j-0",
        "colab": {
          "base_uri": "https://localhost:8080/"
        },
        "outputId": "f8f6fee1-2357-4e5a-9468-e32505ca5149"
      },
      "execution_count": 7,
      "outputs": [
        {
          "output_type": "stream",
          "name": "stdout",
          "text": [
            "<class 'pandas.core.frame.DataFrame'>\n",
            "Int64Index: 37 entries, 1985 to 2021\n",
            "Data columns (total 1 columns):\n",
            " #   Column  Non-Null Count  Dtype \n",
            "---  ------  --------------  ----- \n",
            " 0   Number  37 non-null     object\n",
            "dtypes: object(1)\n",
            "memory usage: 592.0+ bytes\n"
          ]
        }
      ]
    },
    {
      "cell_type": "code",
      "source": [
        "df[\"Number\"] = df[\"Number\"].str.replace(\",\",\"\")"
      ],
      "metadata": {
        "id": "9a_q2om0jjAk"
      },
      "execution_count": 8,
      "outputs": []
    },
    {
      "cell_type": "code",
      "source": [
        "df[\"Number\"] = df[\"Number\"].astype(\"int64\")"
      ],
      "metadata": {
        "id": "CYnwvdvZiSOz"
      },
      "execution_count": 9,
      "outputs": []
    },
    {
      "cell_type": "code",
      "source": [
        "df.plot()"
      ],
      "metadata": {
        "colab": {
          "base_uri": "https://localhost:8080/",
          "height": 296
        },
        "id": "Zpd0RhSFjSGi",
        "outputId": "f0833238-1b73-4720-e0a5-10a0152a6979"
      },
      "execution_count": 10,
      "outputs": [
        {
          "output_type": "execute_result",
          "data": {
            "text/plain": [
              "<matplotlib.axes._subplots.AxesSubplot at 0x7f70d4538b10>"
            ]
          },
          "metadata": {},
          "execution_count": 10
        },
        {
          "output_type": "display_data",
          "data": {
            "image/png": "[encoded data removed]",
            "text/plain": [
              "<Figure size 432x288 with 1 Axes>"
            ]
          },
          "metadata": {
            "needs_background": "light"
          }
        }
      ]
    },
    {
      "cell_type": "code",
      "source": [
        "df.diff().diff().plot()"
      ],
      "metadata": {
        "id": "y1N0Gpx8jxhX",
        "colab": {
          "base_uri": "https://localhost:8080/",
          "height": 296
        },
        "outputId": "8e45e08b-490e-42d5-98dc-86102a6a0195"
      },
      "execution_count": 11,
      "outputs": [
        {
          "output_type": "execute_result",
          "data": {
            "text/plain": [
              "<matplotlib.axes._subplots.AxesSubplot at 0x7f70d443f6d0>"
            ]
          },
          "metadata": {},
          "execution_count": 11
        },
        {
          "output_type": "display_data",
          "data": {
            "image/png": "[encoded data removed]",
            "text/plain": [
              "<Figure size 432x288 with 1 Axes>"
            ]
          },
          "metadata": {
            "needs_background": "light"
          }
        }
      ]
    },
    {
      "cell_type": "code",
      "source": [
        "from statsmodels.graphics.tsaplots import plot_acf\n",
        "from statsmodels.graphics.tsaplots import plot_pacf"
      ],
      "metadata": {
        "id": "owfzFIH4AiGo",
        "colab": {
          "base_uri": "https://localhost:8080/"
        },
        "outputId": "06093c77-8336-460f-8398-77fa5871683f"
      },
      "execution_count": 12,
      "outputs": [
        {
          "output_type": "stream",
          "name": "stderr",
          "text": [
            "/usr/local/lib/python3.7/dist-packages/statsmodels/tools/_testing.py:19: FutureWarning: pandas.util.testing is deprecated. Use the functions in the public API at pandas.testing instead.\n",
            "  import pandas.util.testing as tm\n"
          ]
        }
      ]
    },
    {
      "cell_type": "code",
      "source": [
        "plot_acf(df);"
      ],
      "metadata": {
        "id": "eqvROs1UAiCD",
        "colab": {
          "base_uri": "https://localhost:8080/",
          "height": 281
        },
        "outputId": "49231823-0dd0-4ee6-e04d-fa6698515e88"
      },
      "execution_count": 13,
      "outputs": [
        {
          "output_type": "display_data",
          "data": {
            "image/png": "[encoded data removed]",
            "text/plain": [
              "<Figure size 432x288 with 1 Axes>"
            ]
          },
          "metadata": {
            "needs_background": "light"
          }
        }
      ]
    },
    {
      "cell_type": "code",
      "source": [
        "plot_pacf(df);"
      ],
      "metadata": {
        "id": "fEQ4JCLdAh9B",
        "colab": {
          "base_uri": "https://localhost:8080/",
          "height": 281
        },
        "outputId": "f334e49d-db9a-4e95-8c37-2d58c9f83ebb"
      },
      "execution_count": 14,
      "outputs": [
        {
          "output_type": "display_data",
          "data": {
            "image/png": "[encoded data removed]",
            "text/plain": [
              "<Figure size 432x288 with 1 Axes>"
            ]
          },
          "metadata": {
            "needs_background": "light"
          }
        }
      ]
    },
    {
      "cell_type": "markdown",
      "source": [
        "# train_test_split"
      ],
      "metadata": {
        "id": "887IEuFqumwS"
      }
    },
    {
      "cell_type": "code",
      "source": [
        "df.shape, 37-5"
      ],
      "metadata": {
        "colab": {
          "base_uri": "https://localhost:8080/"
        },
        "id": "QtDpk6fbuxFK",
        "outputId": "1c4badaf-a3ae-4760-94c3-5b5688bef447"
      },
      "execution_count": 15,
      "outputs": [
        {
          "output_type": "execute_result",
          "data": {
            "text/plain": [
              "((37, 1), 32)"
            ]
          },
          "metadata": {},
          "execution_count": 15
        }
      ]
    },
    {
      "cell_type": "code",
      "source": [
        "train = df.iloc[:27]\n",
        "test = df.iloc[27:]"
      ],
      "metadata": {
        "id": "mxCewFMJumZ6"
      },
      "execution_count": 16,
      "outputs": []
    },
    {
      "cell_type": "code",
      "source": [
        "test.shape"
      ],
      "metadata": {
        "colab": {
          "base_uri": "https://localhost:8080/"
        },
        "id": "_BQO7ShFXwpE",
        "outputId": "e25e87e4-f20c-4ec3-be74-8e07e23c5603"
      },
      "execution_count": 17,
      "outputs": [
        {
          "output_type": "execute_result",
          "data": {
            "text/plain": [
              "(10, 1)"
            ]
          },
          "metadata": {},
          "execution_count": 17
        }
      ]
    },
    {
      "cell_type": "markdown",
      "source": [
        "# Feature Scaling"
      ],
      "metadata": {
        "id": "4vG0_xNmudAg"
      }
    },
    {
      "cell_type": "code",
      "source": [
        "scaler = MinMaxScaler()"
      ],
      "metadata": {
        "id": "SMvfOt8xaDjC"
      },
      "execution_count": 18,
      "outputs": []
    },
    {
      "cell_type": "code",
      "source": [
        "scaler.fit(train)"
      ],
      "metadata": {
        "colab": {
          "base_uri": "https://localhost:8080/"
        },
        "id": "gR6xaBHcuXpc",
        "outputId": "1d747ebf-ac25-4b03-d8c6-847e8affe35f"
      },
      "execution_count": 19,
      "outputs": [
        {
          "output_type": "execute_result",
          "data": {
            "text/plain": [
              "MinMaxScaler()"
            ]
          },
          "metadata": {},
          "execution_count": 19
        }
      ]
    },
    {
      "cell_type": "code",
      "source": [
        "scaled_train = scaler.transform(train)\n",
        "scaled_test = scaler.transform(test)"
      ],
      "metadata": {
        "id": "cPp2DlfOuXmC"
      },
      "execution_count": 20,
      "outputs": []
    },
    {
      "cell_type": "markdown",
      "source": [
        "# Model Creation"
      ],
      "metadata": {
        "id": "_Yh6ZOr8vvCt"
      }
    },
    {
      "cell_type": "code",
      "source": [
        "from keras.preprocessing.sequence import TimeseriesGenerator"
      ],
      "metadata": {
        "id": "olzcTJ40uXi6"
      },
      "execution_count": 21,
      "outputs": []
    },
    {
      "cell_type": "code",
      "source": [
        "n_input = 5\n",
        "n_features = 1\n",
        "train_generator = TimeseriesGenerator(scaled_train, scaled_train, length=n_input, batch_size=1)\n",
        "val_generator = TimeseriesGenerator(scaled_test, scaled_test, length=n_input, batch_size=1)"
      ],
      "metadata": {
        "id": "sXoScyKfuXgS"
      },
      "execution_count": 22,
      "outputs": []
    },
    {
      "cell_type": "code",
      "source": [
        "len(train_generator), len(val_generator)"
      ],
      "metadata": {
        "colab": {
          "base_uri": "https://localhost:8080/"
        },
        "id": "2kZ5Y7OlIn2W",
        "outputId": "a238a547-49b0-4138-a398-27d80f57fb9c"
      },
      "execution_count": 23,
      "outputs": [
        {
          "output_type": "execute_result",
          "data": {
            "text/plain": [
              "(22, 5)"
            ]
          },
          "metadata": {},
          "execution_count": 23
        }
      ]
    },
    {
      "cell_type": "code",
      "source": [
        "def mape(actual, pred): \n",
        "    # actual, pred = np.array(actual), np.array(pred)\n",
        "    return np.mean(np.abs((actual - pred) / actual)) * 100"
      ],
      "metadata": {
        "id": "-CIAQYgW4O3P"
      },
      "execution_count": 24,
      "outputs": []
    },
    {
      "cell_type": "code",
      "source": [
        "checkpoint = tf.keras.callbacks.ModelCheckpoint(\"best_vanillaLSTM.h5\", verbose = 1, save_best_only = True, save_weights_only=True)\n",
        "reduce_lr = tf.keras.callbacks.ReduceLROnPlateau(monitor='val_loss', factor=0.5,patience=5, min_lr=0.00001,verbose = 1, min_delta=0.001)"
      ],
      "metadata": {
        "id": "K48n_HFS4-TH"
      },
      "execution_count": 29,
      "outputs": []
    },
    {
      "cell_type": "markdown",
      "source": [
        "# Vanilla LSTM"
      ],
      "metadata": {
        "id": "u_OWSxSx4qmX"
      }
    },
    {
      "cell_type": "code",
      "source": [
        "model = Sequential()\n",
        "model.add(LSTM(100, activation='relu', input_shape=(n_input, n_features)))\n",
        "model.add(Dense(1))\n",
        "model.compile(optimizer='adam', loss=\"mse\")"
      ],
      "metadata": {
        "colab": {
          "base_uri": "https://localhost:8080/"
        },
        "id": "FxyFuUPIuXaD",
        "outputId": "a961d772-607c-4cf0-c369-6bd8eefbfd53"
      },
      "execution_count": 30,
      "outputs": [
        {
          "output_type": "stream",
          "name": "stdout",
          "text": [
            "WARNING:tensorflow:Layer lstm_1 will not use cuDNN kernels since it doesn't meet the criteria. It will use a generic GPU kernel as fallback when running on GPU.\n"
          ]
        }
      ]
    },
    {
      "cell_type": "code",
      "source": [
        "model.fit_generator(train_generator,\n",
        "                    epochs=50,\n",
        "                    validation_data = val_generator,\n",
        "                    callbacks=[reduce_lr , checkpoint])"
      ],
      "metadata": {
        "colab": {
          "base_uri": "https://localhost:8080/"
        },
        "id": "VWzEtVwSv7Sd",
        "outputId": "1a16aca3-f239-4384-9608-a3df7b457325"
      },
      "execution_count": 31,
      "outputs": [
        {
          "output_type": "stream",
          "name": "stdout",
          "text": [
            "Epoch 1/50\n"
          ]
        },
        {
          "output_type": "stream",
          "name": "stderr",
          "text": [
            "/usr/local/lib/python3.7/dist-packages/ipykernel_launcher.py:4: UserWarning: `Model.fit_generator` is deprecated and will be removed in a future version. Please use `Model.fit`, which supports generators.\n",
            "  after removing the cwd from sys.path.\n"
          ]
        },
        {
          "output_type": "stream",
          "name": "stdout",
          "text": [
            "22/22 [==============================] - ETA: 0s - loss: 0.3937\n",
            "Epoch 00001: val_loss improved from inf to 0.62540, saving model to best_vanillaLSTM.h5\n",
            "22/22 [==============================] - 1s 21ms/step - loss: 0.3937 - val_loss: 0.6254 - lr: 0.0010\n",
            "Epoch 2/50\n",
            "21/22 [===========================>..] - ETA: 0s - loss: 0.1952\n",
            "Epoch 00002: val_loss improved from 0.62540 to 0.23616, saving model to best_vanillaLSTM.h5\n",
            "22/22 [==============================] - 0s 13ms/step - loss: 0.1866 - val_loss: 0.2362 - lr: 0.0010\n",
            "Epoch 3/50\n",
            "20/22 [==========================>...] - ETA: 0s - loss: 0.0611\n",
            "Epoch 00003: val_loss improved from 0.23616 to 0.13757, saving model to best_vanillaLSTM.h5\n",
            "22/22 [==============================] - 0s 14ms/step - loss: 0.0566 - val_loss: 0.1376 - lr: 0.0010\n",
            "Epoch 4/50\n",
            "21/22 [===========================>..] - ETA: 0s - loss: 0.0406\n",
            "Epoch 00004: val_loss did not improve from 0.13757\n",
            "22/22 [==============================] - 0s 13ms/step - loss: 0.0388 - val_loss: 0.1466 - lr: 0.0010\n",
            "Epoch 5/50\n",
            "20/22 [==========================>...] - ETA: 0s - loss: 0.0361\n",
            "Epoch 00005: val_loss improved from 0.13757 to 0.13732, saving model to best_vanillaLSTM.h5\n",
            "22/22 [==============================] - 0s 13ms/step - loss: 0.0380 - val_loss: 0.1373 - lr: 0.0010\n",
            "Epoch 6/50\n",
            "21/22 [===========================>..] - ETA: 0s - loss: 0.0417\n",
            "Epoch 00006: val_loss did not improve from 0.13732\n",
            "22/22 [==============================] - 0s 13ms/step - loss: 0.0400 - val_loss: 0.1391 - lr: 0.0010\n",
            "Epoch 7/50\n",
            "21/22 [===========================>..] - ETA: 0s - loss: 0.0350\n",
            "Epoch 00007: val_loss did not improve from 0.13732\n",
            "22/22 [==============================] - 0s 13ms/step - loss: 0.0408 - val_loss: 0.1445 - lr: 0.0010\n",
            "Epoch 8/50\n",
            "22/22 [==============================] - ETA: 0s - loss: 0.0358\n",
            "Epoch 00008: val_loss improved from 0.13732 to 0.13252, saving model to best_vanillaLSTM.h5\n",
            "22/22 [==============================] - 0s 13ms/step - loss: 0.0358 - val_loss: 0.1325 - lr: 0.0010\n",
            "Epoch 9/50\n",
            "21/22 [===========================>..] - ETA: 0s - loss: 0.0377\n",
            "Epoch 00009: val_loss did not improve from 0.13252\n",
            "22/22 [==============================] - 0s 13ms/step - loss: 0.0362 - val_loss: 0.1364 - lr: 0.0010\n",
            "Epoch 10/50\n",
            "21/22 [===========================>..] - ETA: 0s - loss: 0.0374\n",
            "Epoch 00010: val_loss improved from 0.13252 to 0.13103, saving model to best_vanillaLSTM.h5\n",
            "22/22 [==============================] - 0s 13ms/step - loss: 0.0358 - val_loss: 0.1310 - lr: 0.0010\n",
            "Epoch 11/50\n",
            "17/22 [======================>.......] - ETA: 0s - loss: 0.0314\n",
            "Epoch 00011: val_loss did not improve from 0.13103\n",
            "22/22 [==============================] - 0s 12ms/step - loss: 0.0343 - val_loss: 0.1419 - lr: 0.0010\n",
            "Epoch 12/50\n",
            "21/22 [===========================>..] - ETA: 0s - loss: 0.0365\n",
            "Epoch 00012: val_loss improved from 0.13103 to 0.13048, saving model to best_vanillaLSTM.h5\n",
            "22/22 [==============================] - 0s 13ms/step - loss: 0.0358 - val_loss: 0.1305 - lr: 0.0010\n",
            "Epoch 13/50\n",
            "20/22 [==========================>...] - ETA: 0s - loss: 0.0319\n",
            "Epoch 00013: val_loss did not improve from 0.13048\n",
            "22/22 [==============================] - 0s 13ms/step - loss: 0.0331 - val_loss: 0.1355 - lr: 0.0010\n",
            "Epoch 14/50\n",
            "21/22 [===========================>..] - ETA: 0s - loss: 0.0358\n",
            "Epoch 00014: val_loss did not improve from 0.13048\n",
            "22/22 [==============================] - 0s 13ms/step - loss: 0.0343 - val_loss: 0.1336 - lr: 0.0010\n",
            "Epoch 15/50\n",
            "21/22 [===========================>..] - ETA: 0s - loss: 0.0345\n",
            "Epoch 00015: ReduceLROnPlateau reducing learning rate to 0.0005000000237487257.\n",
            "\n",
            "Epoch 00015: val_loss did not improve from 0.13048\n",
            "22/22 [==============================] - 0s 13ms/step - loss: 0.0329 - val_loss: 0.1340 - lr: 0.0010\n",
            "Epoch 16/50\n",
            "21/22 [===========================>..] - ETA: 0s - loss: 0.0331\n",
            "Epoch 00016: val_loss did not improve from 0.13048\n",
            "22/22 [==============================] - 0s 13ms/step - loss: 0.0316 - val_loss: 0.1309 - lr: 5.0000e-04\n",
            "Epoch 17/50\n",
            "21/22 [===========================>..] - ETA: 0s - loss: 0.0329\n",
            "Epoch 00017: val_loss did not improve from 0.13048\n",
            "22/22 [==============================] - 0s 13ms/step - loss: 0.0337 - val_loss: 0.1329 - lr: 5.0000e-04\n",
            "Epoch 18/50\n",
            "21/22 [===========================>..] - ETA: 0s - loss: 0.0335\n",
            "Epoch 00018: val_loss did not improve from 0.13048\n",
            "22/22 [==============================] - 0s 13ms/step - loss: 0.0322 - val_loss: 0.1364 - lr: 5.0000e-04\n",
            "Epoch 19/50\n",
            "21/22 [===========================>..] - ETA: 0s - loss: 0.0311\n",
            "Epoch 00019: val_loss did not improve from 0.13048\n",
            "22/22 [==============================] - 0s 13ms/step - loss: 0.0307 - val_loss: 0.1329 - lr: 5.0000e-04\n",
            "Epoch 20/50\n",
            "21/22 [===========================>..] - ETA: 0s - loss: 0.0273\n",
            "Epoch 00020: ReduceLROnPlateau reducing learning rate to 0.0002500000118743628.\n",
            "\n",
            "Epoch 00020: val_loss did not improve from 0.13048\n",
            "22/22 [==============================] - 0s 13ms/step - loss: 0.0313 - val_loss: 0.1324 - lr: 5.0000e-04\n",
            "Epoch 21/50\n",
            "22/22 [==============================] - ETA: 0s - loss: 0.0316\n",
            "Epoch 00021: val_loss improved from 0.13048 to 0.12908, saving model to best_vanillaLSTM.h5\n",
            "22/22 [==============================] - 0s 13ms/step - loss: 0.0316 - val_loss: 0.1291 - lr: 2.5000e-04\n",
            "Epoch 22/50\n",
            "21/22 [===========================>..] - ETA: 0s - loss: 0.0298\n",
            "Epoch 00022: val_loss did not improve from 0.12908\n",
            "22/22 [==============================] - 0s 12ms/step - loss: 0.0302 - val_loss: 0.1312 - lr: 2.5000e-04\n",
            "Epoch 23/50\n",
            "20/22 [==========================>...] - ETA: 0s - loss: 0.0273\n",
            "Epoch 00023: val_loss improved from 0.12908 to 0.12886, saving model to best_vanillaLSTM.h5\n",
            "22/22 [==============================] - 0s 14ms/step - loss: 0.0306 - val_loss: 0.1289 - lr: 2.5000e-04\n",
            "Epoch 24/50\n",
            "22/22 [==============================] - ETA: 0s - loss: 0.0303\n",
            "Epoch 00024: val_loss did not improve from 0.12886\n",
            "22/22 [==============================] - 0s 12ms/step - loss: 0.0303 - val_loss: 0.1325 - lr: 2.5000e-04\n",
            "Epoch 25/50\n",
            "22/22 [==============================] - ETA: 0s - loss: 0.0298\n",
            "Epoch 00025: val_loss did not improve from 0.12886\n",
            "22/22 [==============================] - 0s 13ms/step - loss: 0.0298 - val_loss: 0.1293 - lr: 2.5000e-04\n",
            "Epoch 26/50\n",
            "20/22 [==========================>...] - ETA: 0s - loss: 0.0306\n",
            "Epoch 00026: ReduceLROnPlateau reducing learning rate to 0.0001250000059371814.\n",
            "\n",
            "Epoch 00026: val_loss did not improve from 0.12886\n",
            "22/22 [==============================] - 0s 13ms/step - loss: 0.0292 - val_loss: 0.1306 - lr: 2.5000e-04\n",
            "Epoch 27/50\n",
            "21/22 [===========================>..] - ETA: 0s - loss: 0.0299\n",
            "Epoch 00027: val_loss did not improve from 0.12886\n",
            "22/22 [==============================] - 0s 13ms/step - loss: 0.0292 - val_loss: 0.1312 - lr: 1.2500e-04\n",
            "Epoch 28/50\n",
            "21/22 [===========================>..] - ETA: 0s - loss: 0.0292\n",
            "Epoch 00028: val_loss did not improve from 0.12886\n",
            "22/22 [==============================] - 0s 13ms/step - loss: 0.0294 - val_loss: 0.1295 - lr: 1.2500e-04\n",
            "Epoch 29/50\n",
            "20/22 [==========================>...] - ETA: 0s - loss: 0.0290\n",
            "Epoch 00029: val_loss did not improve from 0.12886\n",
            "22/22 [==============================] - 0s 13ms/step - loss: 0.0292 - val_loss: 0.1319 - lr: 1.2500e-04\n",
            "Epoch 30/50\n",
            "22/22 [==============================] - ETA: 0s - loss: 0.0288\n",
            "Epoch 00030: val_loss did not improve from 0.12886\n",
            "22/22 [==============================] - 1s 29ms/step - loss: 0.0288 - val_loss: 0.1310 - lr: 1.2500e-04\n",
            "Epoch 31/50\n",
            "20/22 [==========================>...] - ETA: 0s - loss: 0.0277\n",
            "Epoch 00031: val_loss improved from 0.12886 to 0.12803, saving model to best_vanillaLSTM.h5\n",
            "22/22 [==============================] - 1s 31ms/step - loss: 0.0294 - val_loss: 0.1280 - lr: 1.2500e-04\n",
            "Epoch 32/50\n",
            "21/22 [===========================>..] - ETA: 0s - loss: 0.0273\n",
            "Epoch 00032: val_loss did not improve from 0.12803\n",
            "22/22 [==============================] - 1s 30ms/step - loss: 0.0286 - val_loss: 0.1300 - lr: 1.2500e-04\n",
            "Epoch 33/50\n",
            "21/22 [===========================>..] - ETA: 0s - loss: 0.0286\n",
            "Epoch 00033: val_loss did not improve from 0.12803\n",
            "22/22 [==============================] - 0s 13ms/step - loss: 0.0288 - val_loss: 0.1315 - lr: 1.2500e-04\n",
            "Epoch 34/50\n",
            "21/22 [===========================>..] - ETA: 0s - loss: 0.0300\n",
            "Epoch 00034: val_loss did not improve from 0.12803\n",
            "22/22 [==============================] - 0s 13ms/step - loss: 0.0287 - val_loss: 0.1288 - lr: 1.2500e-04\n",
            "Epoch 35/50\n",
            "21/22 [===========================>..] - ETA: 0s - loss: 0.0282\n",
            "Epoch 00035: val_loss did not improve from 0.12803\n",
            "22/22 [==============================] - 0s 13ms/step - loss: 0.0283 - val_loss: 0.1288 - lr: 1.2500e-04\n",
            "Epoch 36/50\n",
            "21/22 [===========================>..] - ETA: 0s - loss: 0.0307\n",
            "Epoch 00036: ReduceLROnPlateau reducing learning rate to 6.25000029685907e-05.\n",
            "\n",
            "Epoch 00036: val_loss did not improve from 0.12803\n",
            "22/22 [==============================] - 0s 13ms/step - loss: 0.0293 - val_loss: 0.1303 - lr: 1.2500e-04\n",
            "Epoch 37/50\n",
            "21/22 [===========================>..] - ETA: 0s - loss: 0.0280\n",
            "Epoch 00037: val_loss did not improve from 0.12803\n",
            "22/22 [==============================] - 0s 13ms/step - loss: 0.0281 - val_loss: 0.1290 - lr: 6.2500e-05\n",
            "Epoch 38/50\n",
            "21/22 [===========================>..] - ETA: 0s - loss: 0.0294\n",
            "Epoch 00038: val_loss did not improve from 0.12803\n",
            "22/22 [==============================] - 0s 13ms/step - loss: 0.0281 - val_loss: 0.1297 - lr: 6.2500e-05\n",
            "Epoch 39/50\n",
            "22/22 [==============================] - ETA: 0s - loss: 0.0281\n",
            "Epoch 00039: val_loss did not improve from 0.12803\n",
            "22/22 [==============================] - 0s 13ms/step - loss: 0.0281 - val_loss: 0.1285 - lr: 6.2500e-05\n",
            "Epoch 40/50\n",
            "19/22 [========================>.....] - ETA: 0s - loss: 0.0307\n",
            "Epoch 00040: val_loss did not improve from 0.12803\n",
            "22/22 [==============================] - 0s 14ms/step - loss: 0.0279 - val_loss: 0.1287 - lr: 6.2500e-05\n",
            "Epoch 41/50\n",
            "22/22 [==============================] - ETA: 0s - loss: 0.0280\n",
            "Epoch 00041: ReduceLROnPlateau reducing learning rate to 3.125000148429535e-05.\n",
            "\n",
            "Epoch 00041: val_loss did not improve from 0.12803\n",
            "22/22 [==============================] - 0s 13ms/step - loss: 0.0280 - val_loss: 0.1282 - lr: 6.2500e-05\n",
            "Epoch 42/50\n",
            "21/22 [===========================>..] - ETA: 0s - loss: 0.0283\n",
            "Epoch 00042: val_loss did not improve from 0.12803\n",
            "22/22 [==============================] - 0s 13ms/step - loss: 0.0278 - val_loss: 0.1285 - lr: 3.1250e-05\n",
            "Epoch 43/50\n",
            "21/22 [===========================>..] - ETA: 0s - loss: 0.0290\n",
            "Epoch 00043: val_loss did not improve from 0.12803\n",
            "22/22 [==============================] - 0s 13ms/step - loss: 0.0278 - val_loss: 0.1287 - lr: 3.1250e-05\n",
            "Epoch 44/50\n",
            "19/22 [========================>.....] - ETA: 0s - loss: 0.0288\n",
            "Epoch 00044: val_loss did not improve from 0.12803\n",
            "22/22 [==============================] - 0s 14ms/step - loss: 0.0279 - val_loss: 0.1289 - lr: 3.1250e-05\n",
            "Epoch 45/50\n",
            "21/22 [===========================>..] - ETA: 0s - loss: 0.0245\n",
            "Epoch 00045: val_loss did not improve from 0.12803\n",
            "22/22 [==============================] - 0s 13ms/step - loss: 0.0278 - val_loss: 0.1287 - lr: 3.1250e-05\n",
            "Epoch 46/50\n",
            "20/22 [==========================>...] - ETA: 0s - loss: 0.0275\n",
            "Epoch 00046: ReduceLROnPlateau reducing learning rate to 1.5625000742147677e-05.\n",
            "\n",
            "Epoch 00046: val_loss did not improve from 0.12803\n",
            "22/22 [==============================] - 0s 15ms/step - loss: 0.0278 - val_loss: 0.1283 - lr: 3.1250e-05\n",
            "Epoch 47/50\n",
            "19/22 [========================>.....] - ETA: 0s - loss: 0.0253\n",
            "Epoch 00047: val_loss did not improve from 0.12803\n",
            "22/22 [==============================] - 0s 14ms/step - loss: 0.0276 - val_loss: 0.1284 - lr: 1.5625e-05\n",
            "Epoch 48/50\n",
            "21/22 [===========================>..] - ETA: 0s - loss: 0.0268\n",
            "Epoch 00048: val_loss did not improve from 0.12803\n",
            "22/22 [==============================] - 0s 13ms/step - loss: 0.0276 - val_loss: 0.1284 - lr: 1.5625e-05\n",
            "Epoch 49/50\n",
            "21/22 [===========================>..] - ETA: 0s - loss: 0.0275\n",
            "Epoch 00049: val_loss did not improve from 0.12803\n",
            "22/22 [==============================] - 0s 13ms/step - loss: 0.0276 - val_loss: 0.1285 - lr: 1.5625e-05\n",
            "Epoch 50/50\n",
            "21/22 [===========================>..] - ETA: 0s - loss: 0.0273\n",
            "Epoch 00050: val_loss did not improve from 0.12803\n",
            "22/22 [==============================] - 0s 13ms/step - loss: 0.0276 - val_loss: 0.1285 - lr: 1.5625e-05\n"
          ]
        },
        {
          "output_type": "execute_result",
          "data": {
            "text/plain": [
              "<keras.callbacks.History at 0x7f704e2ad250>"
            ]
          },
          "metadata": {},
          "execution_count": 31
        }
      ]
    },
    {
      "cell_type": "code",
      "source": [
        "model.load_weights(\"/content/best_vanillaLSTM.h5\")"
      ],
      "metadata": {
        "id": "3v2zA6B3KfyJ"
      },
      "execution_count": 32,
      "outputs": []
    },
    {
      "cell_type": "code",
      "source": [
        "plt.plot(model.history.history[\"loss\"])"
      ],
      "metadata": {
        "colab": {
          "base_uri": "https://localhost:8080/",
          "height": 282
        },
        "id": "h4lkoid_wY6t",
        "outputId": "f0927783-b4fb-44f8-d612-ebb4268fa9cc"
      },
      "execution_count": 33,
      "outputs": [
        {
          "output_type": "execute_result",
          "data": {
            "text/plain": [
              "[<matplotlib.lines.Line2D at 0x7f70377c2210>]"
            ]
          },
          "metadata": {},
          "execution_count": 33
        },
        {
          "output_type": "display_data",
          "data": {
            "image/png": "[encoded data removed]",
            "text/plain": [
              "<Figure size 432x288 with 1 Axes>"
            ]
          },
          "metadata": {
            "needs_background": "light"
          }
        }
      ]
    },
    {
      "cell_type": "markdown",
      "source": [
        "# Prediction  on test set"
      ],
      "metadata": {
        "id": "CzYsjJqNxWAW"
      }
    },
    {
      "cell_type": "code",
      "source": [
        "final_batch = np.array(scaled_test[-10:-5])"
      ],
      "metadata": {
        "id": "hsdaiJdHwhQ5"
      },
      "execution_count": 34,
      "outputs": []
    },
    {
      "cell_type": "code",
      "source": [
        "final_batch = final_batch.reshape((1, n_input, n_features))"
      ],
      "metadata": {
        "id": "safd9nqvxkUf"
      },
      "execution_count": 35,
      "outputs": []
    },
    {
      "cell_type": "code",
      "source": [
        "model.predict(final_batch)"
      ],
      "metadata": {
        "colab": {
          "base_uri": "https://localhost:8080/"
        },
        "id": "21luOCfMxtO8",
        "outputId": "64ace98a-f295-41c6-e17a-ad78bcdef78e"
      },
      "execution_count": 36,
      "outputs": [
        {
          "output_type": "execute_result",
          "data": {
            "text/plain": [
              "array([[0.7637768]], dtype=float32)"
            ]
          },
          "metadata": {},
          "execution_count": 36
        }
      ]
    },
    {
      "cell_type": "code",
      "source": [
        "scaled_test[0]"
      ],
      "metadata": {
        "colab": {
          "base_uri": "https://localhost:8080/"
        },
        "id": "GcX1hkj1x4X_",
        "outputId": "b9e519a6-6900-4c61-ab2b-cac96cee111d"
      },
      "execution_count": 37,
      "outputs": [
        {
          "output_type": "execute_result",
          "data": {
            "text/plain": [
              "array([0.66714778])"
            ]
          },
          "metadata": {},
          "execution_count": 37
        }
      ]
    },
    {
      "cell_type": "code",
      "source": [
        "scaled_test[-5:]"
      ],
      "metadata": {
        "colab": {
          "base_uri": "https://localhost:8080/"
        },
        "id": "XJoKGAQHSgBx",
        "outputId": "d21ff581-4dae-4a9d-b8c4-75902a40c41e"
      },
      "execution_count": 38,
      "outputs": [
        {
          "output_type": "execute_result",
          "data": {
            "text/plain": [
              "array([[1.06238473],\n",
              "       [1.01250902],\n",
              "       [1.23887419],\n",
              "       [1.03937134],\n",
              "       [0.33004571]])"
            ]
          },
          "metadata": {},
          "execution_count": 38
        }
      ]
    },
    {
      "cell_type": "code",
      "source": [
        "def getting_predictions(n_input, n_features, model):\n",
        "  test_predictions = []\n",
        "\n",
        "  first_eval_batch = scaled_test[-5:]\n",
        "  current_batch = first_eval_batch.reshape((1, n_input, n_features))\n",
        "  # print(current_batch.shape)\n",
        "  for i in range(len(first_eval_batch)):\n",
        "      \n",
        "      current_pred = model.predict(current_batch)[0]\n",
        "      \n",
        "      test_predictions.append(current_pred) \n",
        "      \n",
        "      current_batch = np.append(current_batch[:,1:,:],[[current_pred]],axis=1)\n",
        "\n",
        "  return test_predictions"
      ],
      "metadata": {
        "id": "brP9DE3HyCyy"
      },
      "execution_count": 39,
      "outputs": []
    },
    {
      "cell_type": "code",
      "source": [
        "test_predictions = getting_predictions(5, 1, model)\n",
        "test_predictions"
      ],
      "metadata": {
        "colab": {
          "base_uri": "https://localhost:8080/"
        },
        "id": "OwrSWyqdyUD1",
        "outputId": "456fa9ae-de30-40a8-933b-a88beb2e2351"
      },
      "execution_count": 40,
      "outputs": [
        {
          "output_type": "execute_result",
          "data": {
            "text/plain": [
              "[array([0.7972002], dtype=float32),\n",
              " array([0.7634754], dtype=float32),\n",
              " array([0.7354739], dtype=float32),\n",
              " array([0.71434903], dtype=float32),\n",
              " array([0.70212144], dtype=float32)]"
            ]
          },
          "metadata": {},
          "execution_count": 40
        }
      ]
    },
    {
      "cell_type": "code",
      "source": [
        "def plot(scaler, predictions):\n",
        "  predictions = scaler.inverse_transform(predictions)\n",
        "  print(\"Predictions of next five years:- \", predictions)\n",
        "  plt.figure(figsize = (13,5))\n",
        "  plt.plot(df.index, df.Number)\n",
        "  plt.scatter(future, predictions)"
      ],
      "metadata": {
        "id": "1GPPh0uR1fIa"
      },
      "execution_count": 41,
      "outputs": []
    },
    {
      "cell_type": "code",
      "source": [
        "plot(scaler, test_predictions)"
      ],
      "metadata": {
        "colab": {
          "base_uri": "https://localhost:8080/",
          "height": 407
        },
        "id": "8Ge8C7ulyeZK",
        "outputId": "7f352287-bddf-4a8a-8de6-06fcfcd19465"
      },
      "execution_count": 42,
      "outputs": [
        {
          "output_type": "stream",
          "name": "stdout",
          "text": [
            "Predictions of next five years:-  [[12250.88373089]\n",
            " [11830.30193901]\n",
            " [11481.09464812]\n",
            " [11217.64677119]\n",
            " [11065.15643579]]\n"
          ]
        },
        {
          "output_type": "display_data",
          "data": {
            "image/png": "[encoded data removed]",
            "text/plain": [
              "<Figure size 936x360 with 1 Axes>"
            ]
          },
          "metadata": {
            "needs_background": "light"
          }
        }
      ]
    },
    {
      "cell_type": "markdown",
      "source": [
        "# Stacked LSTM"
      ],
      "metadata": {
        "id": "PfWEeiMF5hNj"
      }
    },
    {
      "cell_type": "code",
      "source": [
        "model1 = Sequential()\n",
        "model1.add(LSTM(100, activation='relu', return_sequences=True, input_shape=(n_input, n_features), recurrent_dropout=0.1))\n",
        "model1.add(LSTM(50, activation='relu', recurrent_dropout=0.1))\n",
        "model1.add(Dropout(0.3))\n",
        "# model1.add(Dense(25 , activation='elu'))\n",
        "# model1.add(Dropout(0.3))\n",
        "model1.add(Dense(1))\n",
        "model1.compile(optimizer='adam', loss='mse')"
      ],
      "metadata": {
        "colab": {
          "base_uri": "https://localhost:8080/"
        },
        "id": "6FUl-PYfylj3",
        "outputId": "14756b6f-799a-4c17-aeba-ef3e7863c796"
      },
      "execution_count": 43,
      "outputs": [
        {
          "output_type": "stream",
          "name": "stdout",
          "text": [
            "WARNING:tensorflow:Layer lstm_2 will not use cuDNN kernels since it doesn't meet the criteria. It will use a generic GPU kernel as fallback when running on GPU.\n",
            "WARNING:tensorflow:Layer lstm_3 will not use cuDNN kernels since it doesn't meet the criteria. It will use a generic GPU kernel as fallback when running on GPU.\n"
          ]
        }
      ]
    },
    {
      "cell_type": "code",
      "source": [
        "checkpoint = tf.keras.callbacks.ModelCheckpoint(\"best_stackedLSTM.h5\", verbose = 1, save_best_only = True, save_weights_only=True)"
      ],
      "metadata": {
        "id": "mMKj-5QQPd66"
      },
      "execution_count": 44,
      "outputs": []
    },
    {
      "cell_type": "code",
      "source": [
        "model1.fit_generator(train_generator,\n",
        "                    epochs=50,\n",
        "                    validation_data = val_generator,\n",
        "                    callbacks=[reduce_lr , checkpoint])"
      ],
      "metadata": {
        "colab": {
          "base_uri": "https://localhost:8080/"
        },
        "id": "mVXPAUUD2gxO",
        "outputId": "007aba2e-eb78-4269-d645-c5629a0a2988"
      },
      "execution_count": 45,
      "outputs": [
        {
          "output_type": "stream",
          "name": "stdout",
          "text": [
            "Epoch 1/50\n"
          ]
        },
        {
          "output_type": "stream",
          "name": "stderr",
          "text": [
            "/usr/local/lib/python3.7/dist-packages/ipykernel_launcher.py:4: UserWarning: `Model.fit_generator` is deprecated and will be removed in a future version. Please use `Model.fit`, which supports generators.\n",
            "  after removing the cwd from sys.path.\n"
          ]
        },
        {
          "output_type": "stream",
          "name": "stdout",
          "text": [
            "21/22 [===========================>..] - ETA: 0s - loss: 0.3469\n",
            "Epoch 00001: val_loss improved from inf to 0.55535, saving model to best_stackedLSTM.h5\n",
            "22/22 [==============================] - 4s 58ms/step - loss: 0.3599 - val_loss: 0.5553 - lr: 0.0010\n",
            "Epoch 2/50\n",
            "21/22 [===========================>..] - ETA: 0s - loss: 0.1065\n",
            "Epoch 00002: val_loss improved from 0.55535 to 0.20506, saving model to best_stackedLSTM.h5\n",
            "22/22 [==============================] - 1s 41ms/step - loss: 0.1225 - val_loss: 0.2051 - lr: 0.0010\n",
            "Epoch 3/50\n",
            "21/22 [===========================>..] - ETA: 0s - loss: 0.0539\n",
            "Epoch 00003: val_loss improved from 0.20506 to 0.19151, saving model to best_stackedLSTM.h5\n",
            "22/22 [==============================] - 1s 40ms/step - loss: 0.0582 - val_loss: 0.1915 - lr: 0.0010\n",
            "Epoch 4/50\n",
            "21/22 [===========================>..] - ETA: 0s - loss: 0.0609\n",
            "Epoch 00004: val_loss improved from 0.19151 to 0.15833, saving model to best_stackedLSTM.h5\n",
            "22/22 [==============================] - 1s 40ms/step - loss: 0.0608 - val_loss: 0.1583 - lr: 0.0010\n",
            "Epoch 5/50\n",
            "21/22 [===========================>..] - ETA: 0s - loss: 0.0461\n",
            "Epoch 00005: val_loss did not improve from 0.15833\n",
            "22/22 [==============================] - 1s 40ms/step - loss: 0.0440 - val_loss: 0.1637 - lr: 0.0010\n",
            "Epoch 6/50\n",
            "21/22 [===========================>..] - ETA: 0s - loss: 0.0687\n",
            "Epoch 00006: val_loss improved from 0.15833 to 0.15458, saving model to best_stackedLSTM.h5\n",
            "22/22 [==============================] - 1s 41ms/step - loss: 0.0659 - val_loss: 0.1546 - lr: 0.0010\n",
            "Epoch 7/50\n",
            "22/22 [==============================] - ETA: 0s - loss: 0.0580\n",
            "Epoch 00007: val_loss improved from 0.15458 to 0.13852, saving model to best_stackedLSTM.h5\n",
            "22/22 [==============================] - 1s 41ms/step - loss: 0.0580 - val_loss: 0.1385 - lr: 0.0010\n",
            "Epoch 8/50\n",
            "22/22 [==============================] - ETA: 0s - loss: 0.0441\n",
            "Epoch 00008: val_loss did not improve from 0.13852\n",
            "22/22 [==============================] - 1s 41ms/step - loss: 0.0441 - val_loss: 0.1613 - lr: 0.0010\n",
            "Epoch 9/50\n",
            "21/22 [===========================>..] - ETA: 0s - loss: 0.0440\n",
            "Epoch 00009: val_loss did not improve from 0.13852\n",
            "22/22 [==============================] - 1s 41ms/step - loss: 0.0489 - val_loss: 0.1565 - lr: 0.0010\n",
            "Epoch 10/50\n",
            "21/22 [===========================>..] - ETA: 0s - loss: 0.0487\n",
            "Epoch 00010: val_loss did not improve from 0.13852\n",
            "22/22 [==============================] - 1s 39ms/step - loss: 0.0525 - val_loss: 0.1420 - lr: 0.0010\n",
            "Epoch 11/50\n",
            "21/22 [===========================>..] - ETA: 0s - loss: 0.0537\n",
            "Epoch 00011: val_loss did not improve from 0.13852\n",
            "22/22 [==============================] - 1s 41ms/step - loss: 0.0516 - val_loss: 0.1406 - lr: 0.0010\n",
            "Epoch 12/50\n",
            "22/22 [==============================] - ETA: 0s - loss: 0.0635\n",
            "Epoch 00012: ReduceLROnPlateau reducing learning rate to 0.0005000000237487257.\n",
            "\n",
            "Epoch 00012: val_loss did not improve from 0.13852\n",
            "22/22 [==============================] - 1s 44ms/step - loss: 0.0635 - val_loss: 0.1423 - lr: 0.0010\n",
            "Epoch 13/50\n",
            "22/22 [==============================] - ETA: 0s - loss: 0.0435\n",
            "Epoch 00013: val_loss did not improve from 0.13852\n",
            "22/22 [==============================] - 1s 42ms/step - loss: 0.0435 - val_loss: 0.1415 - lr: 5.0000e-04\n",
            "Epoch 14/50\n",
            "22/22 [==============================] - ETA: 0s - loss: 0.0340\n",
            "Epoch 00014: val_loss improved from 0.13852 to 0.13710, saving model to best_stackedLSTM.h5\n",
            "22/22 [==============================] - 1s 40ms/step - loss: 0.0340 - val_loss: 0.1371 - lr: 5.0000e-04\n",
            "Epoch 15/50\n",
            "21/22 [===========================>..] - ETA: 0s - loss: 0.0478\n",
            "Epoch 00015: val_loss improved from 0.13710 to 0.13648, saving model to best_stackedLSTM.h5\n",
            "22/22 [==============================] - 1s 42ms/step - loss: 0.0456 - val_loss: 0.1365 - lr: 5.0000e-04\n",
            "Epoch 16/50\n",
            "21/22 [===========================>..] - ETA: 0s - loss: 0.0379\n",
            "Epoch 00016: val_loss did not improve from 0.13648\n",
            "22/22 [==============================] - 1s 40ms/step - loss: 0.0431 - val_loss: 0.1379 - lr: 5.0000e-04\n",
            "Epoch 17/50\n",
            "21/22 [===========================>..] - ETA: 0s - loss: 0.0398\n",
            "Epoch 00017: val_loss improved from 0.13648 to 0.12679, saving model to best_stackedLSTM.h5\n",
            "22/22 [==============================] - 1s 41ms/step - loss: 0.0394 - val_loss: 0.1268 - lr: 5.0000e-04\n",
            "Epoch 18/50\n",
            "21/22 [===========================>..] - ETA: 0s - loss: 0.0500\n",
            "Epoch 00018: val_loss did not improve from 0.12679\n",
            "22/22 [==============================] - 1s 41ms/step - loss: 0.0481 - val_loss: 0.1445 - lr: 5.0000e-04\n",
            "Epoch 19/50\n",
            "21/22 [===========================>..] - ETA: 0s - loss: 0.0464\n",
            "Epoch 00019: val_loss did not improve from 0.12679\n",
            "22/22 [==============================] - 1s 41ms/step - loss: 0.0456 - val_loss: 0.1321 - lr: 5.0000e-04\n",
            "Epoch 20/50\n",
            "22/22 [==============================] - ETA: 0s - loss: 0.0305\n",
            "Epoch 00020: val_loss did not improve from 0.12679\n",
            "22/22 [==============================] - 1s 41ms/step - loss: 0.0305 - val_loss: 0.1302 - lr: 5.0000e-04\n",
            "Epoch 21/50\n",
            "22/22 [==============================] - ETA: 0s - loss: 0.0254\n",
            "Epoch 00021: val_loss did not improve from 0.12679\n",
            "22/22 [==============================] - 1s 40ms/step - loss: 0.0254 - val_loss: 0.1387 - lr: 5.0000e-04\n",
            "Epoch 22/50\n",
            "21/22 [===========================>..] - ETA: 0s - loss: 0.0515\n",
            "Epoch 00022: ReduceLROnPlateau reducing learning rate to 0.0002500000118743628.\n",
            "\n",
            "Epoch 00022: val_loss did not improve from 0.12679\n",
            "22/22 [==============================] - 1s 43ms/step - loss: 0.0512 - val_loss: 0.1390 - lr: 5.0000e-04\n",
            "Epoch 23/50\n",
            "22/22 [==============================] - ETA: 0s - loss: 0.0383\n",
            "Epoch 00023: val_loss did not improve from 0.12679\n",
            "22/22 [==============================] - 1s 41ms/step - loss: 0.0383 - val_loss: 0.1545 - lr: 2.5000e-04\n",
            "Epoch 24/50\n",
            "22/22 [==============================] - ETA: 0s - loss: 0.0455\n",
            "Epoch 00024: val_loss did not improve from 0.12679\n",
            "22/22 [==============================] - 1s 43ms/step - loss: 0.0455 - val_loss: 0.1571 - lr: 2.5000e-04\n",
            "Epoch 25/50\n",
            "21/22 [===========================>..] - ETA: 0s - loss: 0.0538\n",
            "Epoch 00025: val_loss did not improve from 0.12679\n",
            "22/22 [==============================] - 1s 41ms/step - loss: 0.0519 - val_loss: 0.1491 - lr: 2.5000e-04\n",
            "Epoch 26/50\n",
            "22/22 [==============================] - ETA: 0s - loss: 0.0419\n",
            "Epoch 00026: val_loss did not improve from 0.12679\n",
            "22/22 [==============================] - 1s 41ms/step - loss: 0.0419 - val_loss: 0.1528 - lr: 2.5000e-04\n",
            "Epoch 27/50\n",
            "22/22 [==============================] - ETA: 0s - loss: 0.0303\n",
            "Epoch 00027: ReduceLROnPlateau reducing learning rate to 0.0001250000059371814.\n",
            "\n",
            "Epoch 00027: val_loss did not improve from 0.12679\n",
            "22/22 [==============================] - 1s 42ms/step - loss: 0.0303 - val_loss: 0.1341 - lr: 2.5000e-04\n",
            "Epoch 28/50\n",
            "21/22 [===========================>..] - ETA: 0s - loss: 0.0411\n",
            "Epoch 00028: val_loss did not improve from 0.12679\n",
            "22/22 [==============================] - 1s 42ms/step - loss: 0.0395 - val_loss: 0.1326 - lr: 1.2500e-04\n",
            "Epoch 29/50\n",
            "22/22 [==============================] - ETA: 0s - loss: 0.0296\n",
            "Epoch 00029: val_loss did not improve from 0.12679\n",
            "22/22 [==============================] - 1s 42ms/step - loss: 0.0296 - val_loss: 0.1339 - lr: 1.2500e-04\n",
            "Epoch 30/50\n",
            "22/22 [==============================] - ETA: 0s - loss: 0.0632\n",
            "Epoch 00030: val_loss did not improve from 0.12679\n",
            "22/22 [==============================] - 1s 41ms/step - loss: 0.0632 - val_loss: 0.1331 - lr: 1.2500e-04\n",
            "Epoch 31/50\n",
            "21/22 [===========================>..] - ETA: 0s - loss: 0.0281\n",
            "Epoch 00031: val_loss did not improve from 0.12679\n",
            "22/22 [==============================] - 1s 39ms/step - loss: 0.0279 - val_loss: 0.1367 - lr: 1.2500e-04\n",
            "Epoch 32/50\n",
            "22/22 [==============================] - ETA: 0s - loss: 0.0418\n",
            "Epoch 00032: ReduceLROnPlateau reducing learning rate to 6.25000029685907e-05.\n",
            "\n",
            "Epoch 00032: val_loss did not improve from 0.12679\n",
            "22/22 [==============================] - 1s 41ms/step - loss: 0.0418 - val_loss: 0.1398 - lr: 1.2500e-04\n",
            "Epoch 33/50\n",
            "22/22 [==============================] - ETA: 0s - loss: 0.0410\n",
            "Epoch 00033: val_loss did not improve from 0.12679\n",
            "22/22 [==============================] - 1s 40ms/step - loss: 0.0410 - val_loss: 0.1411 - lr: 6.2500e-05\n",
            "Epoch 34/50\n",
            "21/22 [===========================>..] - ETA: 0s - loss: 0.0403\n",
            "Epoch 00034: val_loss did not improve from 0.12679\n",
            "22/22 [==============================] - 1s 40ms/step - loss: 0.0408 - val_loss: 0.1422 - lr: 6.2500e-05\n",
            "Epoch 35/50\n",
            "21/22 [===========================>..] - ETA: 0s - loss: 0.0495\n",
            "Epoch 00035: val_loss did not improve from 0.12679\n",
            "22/22 [==============================] - 1s 41ms/step - loss: 0.0478 - val_loss: 0.1378 - lr: 6.2500e-05\n",
            "Epoch 36/50\n",
            "22/22 [==============================] - ETA: 0s - loss: 0.0280\n",
            "Epoch 00036: val_loss did not improve from 0.12679\n",
            "22/22 [==============================] - 1s 39ms/step - loss: 0.0280 - val_loss: 0.1366 - lr: 6.2500e-05\n",
            "Epoch 37/50\n",
            "21/22 [===========================>..] - ETA: 0s - loss: 0.0434\n",
            "Epoch 00037: ReduceLROnPlateau reducing learning rate to 3.125000148429535e-05.\n",
            "\n",
            "Epoch 00037: val_loss did not improve from 0.12679\n",
            "22/22 [==============================] - 1s 40ms/step - loss: 0.0432 - val_loss: 0.1375 - lr: 6.2500e-05\n",
            "Epoch 38/50\n",
            "21/22 [===========================>..] - ETA: 0s - loss: 0.0523\n",
            "Epoch 00038: val_loss did not improve from 0.12679\n",
            "22/22 [==============================] - 1s 41ms/step - loss: 0.0513 - val_loss: 0.1373 - lr: 3.1250e-05\n",
            "Epoch 39/50\n",
            "22/22 [==============================] - ETA: 0s - loss: 0.0333\n",
            "Epoch 00039: val_loss did not improve from 0.12679\n",
            "22/22 [==============================] - 1s 42ms/step - loss: 0.0333 - val_loss: 0.1372 - lr: 3.1250e-05\n",
            "Epoch 40/50\n",
            "21/22 [===========================>..] - ETA: 0s - loss: 0.0378\n",
            "Epoch 00040: val_loss did not improve from 0.12679\n",
            "22/22 [==============================] - 1s 41ms/step - loss: 0.0371 - val_loss: 0.1369 - lr: 3.1250e-05\n",
            "Epoch 41/50\n",
            "22/22 [==============================] - ETA: 0s - loss: 0.0391\n",
            "Epoch 00041: val_loss did not improve from 0.12679\n",
            "22/22 [==============================] - 1s 41ms/step - loss: 0.0391 - val_loss: 0.1382 - lr: 3.1250e-05\n",
            "Epoch 42/50\n",
            "22/22 [==============================] - ETA: 0s - loss: 0.0425\n",
            "Epoch 00042: ReduceLROnPlateau reducing learning rate to 1.5625000742147677e-05.\n",
            "\n",
            "Epoch 00042: val_loss did not improve from 0.12679\n",
            "22/22 [==============================] - 1s 43ms/step - loss: 0.0425 - val_loss: 0.1374 - lr: 3.1250e-05\n",
            "Epoch 43/50\n",
            "21/22 [===========================>..] - ETA: 0s - loss: 0.0435\n",
            "Epoch 00043: val_loss did not improve from 0.12679\n",
            "22/22 [==============================] - 1s 39ms/step - loss: 0.0432 - val_loss: 0.1375 - lr: 1.5625e-05\n",
            "Epoch 44/50\n",
            "22/22 [==============================] - ETA: 0s - loss: 0.0328\n",
            "Epoch 00044: val_loss did not improve from 0.12679\n",
            "22/22 [==============================] - 1s 41ms/step - loss: 0.0328 - val_loss: 0.1376 - lr: 1.5625e-05\n",
            "Epoch 45/50\n",
            "22/22 [==============================] - ETA: 0s - loss: 0.0535\n",
            "Epoch 00045: val_loss did not improve from 0.12679\n",
            "22/22 [==============================] - 1s 40ms/step - loss: 0.0535 - val_loss: 0.1376 - lr: 1.5625e-05\n",
            "Epoch 46/50\n",
            "21/22 [===========================>..] - ETA: 0s - loss: 0.0274\n",
            "Epoch 00046: val_loss did not improve from 0.12679\n",
            "22/22 [==============================] - 1s 41ms/step - loss: 0.0283 - val_loss: 0.1381 - lr: 1.5625e-05\n",
            "Epoch 47/50\n",
            "21/22 [===========================>..] - ETA: 0s - loss: 0.0292\n",
            "Epoch 00047: ReduceLROnPlateau reducing learning rate to 1e-05.\n",
            "\n",
            "Epoch 00047: val_loss did not improve from 0.12679\n",
            "22/22 [==============================] - 1s 42ms/step - loss: 0.0397 - val_loss: 0.1384 - lr: 1.5625e-05\n",
            "Epoch 48/50\n",
            "21/22 [===========================>..] - ETA: 0s - loss: 0.0323\n",
            "Epoch 00048: val_loss did not improve from 0.12679\n",
            "22/22 [==============================] - 1s 40ms/step - loss: 0.0309 - val_loss: 0.1385 - lr: 1.0000e-05\n",
            "Epoch 49/50\n",
            "21/22 [===========================>..] - ETA: 0s - loss: 0.0369\n",
            "Epoch 00049: val_loss did not improve from 0.12679\n",
            "22/22 [==============================] - 1s 40ms/step - loss: 0.0353 - val_loss: 0.1383 - lr: 1.0000e-05\n",
            "Epoch 50/50\n",
            "21/22 [===========================>..] - ETA: 0s - loss: 0.0312\n",
            "Epoch 00050: val_loss did not improve from 0.12679\n",
            "22/22 [==============================] - 1s 43ms/step - loss: 0.0320 - val_loss: 0.1379 - lr: 1.0000e-05\n"
          ]
        },
        {
          "output_type": "execute_result",
          "data": {
            "text/plain": [
              "<keras.callbacks.History at 0x7f7039e88a10>"
            ]
          },
          "metadata": {},
          "execution_count": 45
        }
      ]
    },
    {
      "cell_type": "code",
      "source": [
        "model1.load_weights(\"/content/best_stackedLSTM.h5\")"
      ],
      "metadata": {
        "id": "bp8NlanIPD0I"
      },
      "execution_count": 46,
      "outputs": []
    },
    {
      "cell_type": "code",
      "source": [
        "plt.plot(model1.history.history[\"loss\"])"
      ],
      "metadata": {
        "colab": {
          "base_uri": "https://localhost:8080/",
          "height": 282
        },
        "id": "D_YTSihr27f6",
        "outputId": "699222a7-fe24-4c2c-f111-b8e634b8d045"
      },
      "execution_count": 47,
      "outputs": [
        {
          "output_type": "execute_result",
          "data": {
            "text/plain": [
              "[<matplotlib.lines.Line2D at 0x7f70372c6f90>]"
            ]
          },
          "metadata": {},
          "execution_count": 47
        },
        {
          "output_type": "display_data",
          "data": {
            "image/png": "[encoded data removed]",
            "text/plain": [
              "<Figure size 432x288 with 1 Axes>"
            ]
          },
          "metadata": {
            "needs_background": "light"
          }
        }
      ]
    },
    {
      "cell_type": "code",
      "source": [
        "model1.predict(scaled_test[-5:].reshape((1, n_input, n_features)))"
      ],
      "metadata": {
        "colab": {
          "base_uri": "https://localhost:8080/"
        },
        "id": "0wPfq78GUgQ3",
        "outputId": "60cceb77-14dc-48e6-a6eb-3274976dcee7"
      },
      "execution_count": 48,
      "outputs": [
        {
          "output_type": "execute_result",
          "data": {
            "text/plain": [
              "array([[0.9090821]], dtype=float32)"
            ]
          },
          "metadata": {},
          "execution_count": 48
        }
      ]
    },
    {
      "cell_type": "code",
      "source": [
        "test_predictions = getting_predictions(5, 1, model1)\n",
        "test_predictions"
      ],
      "metadata": {
        "colab": {
          "base_uri": "https://localhost:8080/"
        },
        "id": "lmTKPAL_3fPW",
        "outputId": "e8cc5c4e-be3b-41f7-8153-430e07b58073"
      },
      "execution_count": 49,
      "outputs": [
        {
          "output_type": "execute_result",
          "data": {
            "text/plain": [
              "[array([0.9090821], dtype=float32),\n",
              " array([0.87067425], dtype=float32),\n",
              " array([0.8451255], dtype=float32),\n",
              " array([0.7959099], dtype=float32),\n",
              " array([0.77020246], dtype=float32)]"
            ]
          },
          "metadata": {},
          "execution_count": 49
        }
      ]
    },
    {
      "cell_type": "code",
      "source": [
        "plot(scaler, test_predictions)"
      ],
      "metadata": {
        "colab": {
          "base_uri": "https://localhost:8080/",
          "height": 407
        },
        "id": "zwLK9F5U3l0d",
        "outputId": "743a887c-1e63-4994-ac7b-e1ebe689e62e"
      },
      "execution_count": 50,
      "outputs": [
        {
          "output_type": "stream",
          "name": "stdout",
          "text": [
            "Predictions of next five years:-  [[13646.16305238]\n",
            " [13167.17860305]\n",
            " [12848.56006545]\n",
            " [12234.79213333]\n",
            " [11914.19485253]]\n"
          ]
        },
        {
          "output_type": "display_data",
          "data": {
            "image/png": "[encoded data removed]",
            "text/plain": [
              "<Figure size 936x360 with 1 Axes>"
            ]
          },
          "metadata": {
            "needs_background": "light"
          }
        }
      ]
    },
    {
      "cell_type": "markdown",
      "source": [
        "# Bidirectional LSTM"
      ],
      "metadata": {
        "id": "pCRAhR3ogdTx"
      }
    },
    {
      "cell_type": "code",
      "source": [
        "model2 = Sequential()\n",
        "\n",
        "model2.add(Bidirectional(LSTM(100 ,return_sequences=True , recurrent_dropout=0.1, input_shape=(n_input, n_features))))\n",
        "model2.add(LSTM(50 ,recurrent_dropout=0.1))\n",
        "model2.add(Dropout(0.3))\n",
        "# model2.add(Dense(25 , activation='elu'))\n",
        "# model2.add(Dropout(0.3))\n",
        "model2.add(Dense(12 , activation='elu'))\n",
        "model2.add(Dense(1 , activation='linear'))"
      ],
      "metadata": {
        "id": "ClbygBvI3rS-",
        "colab": {
          "base_uri": "https://localhost:8080/"
        },
        "outputId": "97504620-54e5-447e-89fa-3447aeac8dfa"
      },
      "execution_count": 51,
      "outputs": [
        {
          "output_type": "stream",
          "name": "stdout",
          "text": [
            "WARNING:tensorflow:Layer lstm_4 will not use cuDNN kernels since it doesn't meet the criteria. It will use a generic GPU kernel as fallback when running on GPU.\n",
            "WARNING:tensorflow:Layer lstm_4 will not use cuDNN kernels since it doesn't meet the criteria. It will use a generic GPU kernel as fallback when running on GPU.\n",
            "WARNING:tensorflow:Layer lstm_4 will not use cuDNN kernels since it doesn't meet the criteria. It will use a generic GPU kernel as fallback when running on GPU.\n",
            "WARNING:tensorflow:Layer lstm_5 will not use cuDNN kernels since it doesn't meet the criteria. It will use a generic GPU kernel as fallback when running on GPU.\n"
          ]
        }
      ]
    },
    {
      "cell_type": "code",
      "source": [
        "optimizer = tf.keras.optimizers.SGD(learning_rate = 0.002)\n",
        "model2.compile(loss='mse', optimizer=optimizer)"
      ],
      "metadata": {
        "id": "k6qgu4zWie3T"
      },
      "execution_count": 52,
      "outputs": []
    },
    {
      "cell_type": "code",
      "source": [
        "checkpoint = tf.keras.callbacks.ModelCheckpoint(\"best_bidirectionalLSTM.h5\", verbose = 1, save_best_only = True, save_weights_only=True)"
      ],
      "metadata": {
        "id": "wYcRjvFLhyKG"
      },
      "execution_count": 53,
      "outputs": []
    },
    {
      "cell_type": "code",
      "source": [
        "model2.fit(train_generator,\n",
        "          epochs=50,\n",
        "          validation_data = val_generator,\n",
        "          callbacks=[reduce_lr , checkpoint])"
      ],
      "metadata": {
        "colab": {
          "base_uri": "https://localhost:8080/"
        },
        "id": "KETR2Cnch-eG",
        "outputId": "531823d2-55d7-4b3d-fac3-035c393581d8"
      },
      "execution_count": 54,
      "outputs": [
        {
          "output_type": "stream",
          "name": "stdout",
          "text": [
            "Epoch 1/50\n",
            "22/22 [==============================] - ETA: 0s - loss: 0.3552\n",
            "Epoch 00001: val_loss improved from inf to 0.66395, saving model to best_bidirectionalLSTM.h5\n",
            "22/22 [==============================] - 7s 85ms/step - loss: 0.3552 - val_loss: 0.6640 - lr: 0.0020\n",
            "Epoch 2/50\n",
            "22/22 [==============================] - ETA: 0s - loss: 0.2138\n",
            "Epoch 00002: val_loss improved from 0.66395 to 0.48394, saving model to best_bidirectionalLSTM.h5\n",
            "22/22 [==============================] - 1s 62ms/step - loss: 0.2138 - val_loss: 0.4839 - lr: 0.0020\n",
            "Epoch 3/50\n",
            "22/22 [==============================] - ETA: 0s - loss: 0.1325\n",
            "Epoch 00003: val_loss improved from 0.48394 to 0.37570, saving model to best_bidirectionalLSTM.h5\n",
            "22/22 [==============================] - 1s 60ms/step - loss: 0.1325 - val_loss: 0.3757 - lr: 0.0020\n",
            "Epoch 4/50\n",
            "22/22 [==============================] - ETA: 0s - loss: 0.0876\n",
            "Epoch 00004: val_loss improved from 0.37570 to 0.30881, saving model to best_bidirectionalLSTM.h5\n",
            "22/22 [==============================] - 1s 59ms/step - loss: 0.0876 - val_loss: 0.3088 - lr: 0.0020\n",
            "Epoch 5/50\n",
            "22/22 [==============================] - ETA: 0s - loss: 0.0633\n",
            "Epoch 00005: val_loss improved from 0.30881 to 0.26532, saving model to best_bidirectionalLSTM.h5\n",
            "22/22 [==============================] - 1s 60ms/step - loss: 0.0633 - val_loss: 0.2653 - lr: 0.0020\n",
            "Epoch 6/50\n",
            "22/22 [==============================] - ETA: 0s - loss: 0.0585\n",
            "Epoch 00006: val_loss improved from 0.26532 to 0.23765, saving model to best_bidirectionalLSTM.h5\n",
            "22/22 [==============================] - 1s 60ms/step - loss: 0.0585 - val_loss: 0.2376 - lr: 0.0020\n",
            "Epoch 7/50\n",
            "22/22 [==============================] - ETA: 0s - loss: 0.0532\n",
            "Epoch 00007: val_loss improved from 0.23765 to 0.21773, saving model to best_bidirectionalLSTM.h5\n",
            "22/22 [==============================] - 1s 60ms/step - loss: 0.0532 - val_loss: 0.2177 - lr: 0.0020\n",
            "Epoch 8/50\n",
            "22/22 [==============================] - ETA: 0s - loss: 0.0455\n",
            "Epoch 00008: val_loss improved from 0.21773 to 0.20472, saving model to best_bidirectionalLSTM.h5\n",
            "22/22 [==============================] - 1s 60ms/step - loss: 0.0455 - val_loss: 0.2047 - lr: 0.0020\n",
            "Epoch 9/50\n",
            "22/22 [==============================] - ETA: 0s - loss: 0.0496\n",
            "Epoch 00009: val_loss improved from 0.20472 to 0.19296, saving model to best_bidirectionalLSTM.h5\n",
            "22/22 [==============================] - 1s 60ms/step - loss: 0.0496 - val_loss: 0.1930 - lr: 0.0020\n",
            "Epoch 10/50\n",
            "22/22 [==============================] - ETA: 0s - loss: 0.0475\n",
            "Epoch 00010: val_loss improved from 0.19296 to 0.18520, saving model to best_bidirectionalLSTM.h5\n",
            "22/22 [==============================] - 1s 60ms/step - loss: 0.0475 - val_loss: 0.1852 - lr: 0.0020\n",
            "Epoch 11/50\n",
            "22/22 [==============================] - ETA: 0s - loss: 0.0446\n",
            "Epoch 00011: val_loss improved from 0.18520 to 0.18204, saving model to best_bidirectionalLSTM.h5\n",
            "22/22 [==============================] - 1s 59ms/step - loss: 0.0446 - val_loss: 0.1820 - lr: 0.0020\n",
            "Epoch 12/50\n",
            "22/22 [==============================] - ETA: 0s - loss: 0.0444\n",
            "Epoch 00012: val_loss improved from 0.18204 to 0.18057, saving model to best_bidirectionalLSTM.h5\n",
            "22/22 [==============================] - 1s 61ms/step - loss: 0.0444 - val_loss: 0.1806 - lr: 0.0020\n",
            "Epoch 13/50\n",
            "22/22 [==============================] - ETA: 0s - loss: 0.0456\n",
            "Epoch 00013: val_loss improved from 0.18057 to 0.17769, saving model to best_bidirectionalLSTM.h5\n",
            "22/22 [==============================] - 1s 61ms/step - loss: 0.0456 - val_loss: 0.1777 - lr: 0.0020\n",
            "Epoch 14/50\n",
            "22/22 [==============================] - ETA: 0s - loss: 0.0422\n",
            "Epoch 00014: val_loss improved from 0.17769 to 0.17665, saving model to best_bidirectionalLSTM.h5\n",
            "22/22 [==============================] - 1s 59ms/step - loss: 0.0422 - val_loss: 0.1767 - lr: 0.0020\n",
            "Epoch 15/50\n",
            "22/22 [==============================] - ETA: 0s - loss: 0.0443\n",
            "Epoch 00015: val_loss improved from 0.17665 to 0.17538, saving model to best_bidirectionalLSTM.h5\n",
            "22/22 [==============================] - 1s 60ms/step - loss: 0.0443 - val_loss: 0.1754 - lr: 0.0020\n",
            "Epoch 16/50\n",
            "21/22 [===========================>..] - ETA: 0s - loss: 0.0410\n",
            "Epoch 00016: val_loss improved from 0.17538 to 0.17348, saving model to best_bidirectionalLSTM.h5\n",
            "22/22 [==============================] - 1s 58ms/step - loss: 0.0446 - val_loss: 0.1735 - lr: 0.0020\n",
            "Epoch 17/50\n",
            "22/22 [==============================] - ETA: 0s - loss: 0.0486\n",
            "Epoch 00017: val_loss improved from 0.17348 to 0.17270, saving model to best_bidirectionalLSTM.h5\n",
            "22/22 [==============================] - 1s 60ms/step - loss: 0.0486 - val_loss: 0.1727 - lr: 0.0020\n",
            "Epoch 18/50\n",
            "22/22 [==============================] - ETA: 0s - loss: 0.0384\n",
            "Epoch 00018: val_loss improved from 0.17270 to 0.17252, saving model to best_bidirectionalLSTM.h5\n",
            "22/22 [==============================] - 1s 62ms/step - loss: 0.0384 - val_loss: 0.1725 - lr: 0.0020\n",
            "Epoch 19/50\n",
            "22/22 [==============================] - ETA: 0s - loss: 0.0378\n",
            "Epoch 00019: val_loss did not improve from 0.17252\n",
            "22/22 [==============================] - 1s 59ms/step - loss: 0.0378 - val_loss: 0.1733 - lr: 0.0020\n",
            "Epoch 20/50\n",
            "22/22 [==============================] - ETA: 0s - loss: 0.0431\n",
            "Epoch 00020: val_loss improved from 0.17252 to 0.17245, saving model to best_bidirectionalLSTM.h5\n",
            "22/22 [==============================] - 1s 61ms/step - loss: 0.0431 - val_loss: 0.1725 - lr: 0.0020\n",
            "Epoch 21/50\n",
            "22/22 [==============================] - ETA: 0s - loss: 0.0466\n",
            "Epoch 00021: val_loss improved from 0.17245 to 0.17027, saving model to best_bidirectionalLSTM.h5\n",
            "22/22 [==============================] - 1s 59ms/step - loss: 0.0466 - val_loss: 0.1703 - lr: 0.0020\n",
            "Epoch 22/50\n",
            "22/22 [==============================] - ETA: 0s - loss: 0.0467\n",
            "Epoch 00022: val_loss improved from 0.17027 to 0.16853, saving model to best_bidirectionalLSTM.h5\n",
            "22/22 [==============================] - 1s 62ms/step - loss: 0.0467 - val_loss: 0.1685 - lr: 0.0020\n",
            "Epoch 23/50\n",
            "22/22 [==============================] - ETA: 0s - loss: 0.0416\n",
            "Epoch 00023: val_loss improved from 0.16853 to 0.16584, saving model to best_bidirectionalLSTM.h5\n",
            "22/22 [==============================] - 1s 62ms/step - loss: 0.0416 - val_loss: 0.1658 - lr: 0.0020\n",
            "Epoch 24/50\n",
            "22/22 [==============================] - ETA: 0s - loss: 0.0403\n",
            "Epoch 00024: val_loss improved from 0.16584 to 0.16476, saving model to best_bidirectionalLSTM.h5\n",
            "22/22 [==============================] - 1s 59ms/step - loss: 0.0403 - val_loss: 0.1648 - lr: 0.0020\n",
            "Epoch 25/50\n",
            "22/22 [==============================] - ETA: 0s - loss: 0.0465\n",
            "Epoch 00025: val_loss improved from 0.16476 to 0.16343, saving model to best_bidirectionalLSTM.h5\n",
            "22/22 [==============================] - 1s 59ms/step - loss: 0.0465 - val_loss: 0.1634 - lr: 0.0020\n",
            "Epoch 26/50\n",
            "22/22 [==============================] - ETA: 0s - loss: 0.0528\n",
            "Epoch 00026: val_loss did not improve from 0.16343\n",
            "22/22 [==============================] - 1s 59ms/step - loss: 0.0528 - val_loss: 0.1653 - lr: 0.0020\n",
            "Epoch 27/50\n",
            "22/22 [==============================] - ETA: 0s - loss: 0.0438\n",
            "Epoch 00027: val_loss did not improve from 0.16343\n",
            "22/22 [==============================] - 1s 61ms/step - loss: 0.0438 - val_loss: 0.1658 - lr: 0.0020\n",
            "Epoch 28/50\n",
            "22/22 [==============================] - ETA: 0s - loss: 0.0505\n",
            "Epoch 00028: val_loss did not improve from 0.16343\n",
            "22/22 [==============================] - 1s 59ms/step - loss: 0.0505 - val_loss: 0.1661 - lr: 0.0020\n",
            "Epoch 29/50\n",
            "22/22 [==============================] - ETA: 0s - loss: 0.0457\n",
            "Epoch 00029: val_loss did not improve from 0.16343\n",
            "22/22 [==============================] - 1s 61ms/step - loss: 0.0457 - val_loss: 0.1657 - lr: 0.0020\n",
            "Epoch 30/50\n",
            "22/22 [==============================] - ETA: 0s - loss: 0.0420\n",
            "Epoch 00030: ReduceLROnPlateau reducing learning rate to 0.0010000000474974513.\n",
            "\n",
            "Epoch 00030: val_loss did not improve from 0.16343\n",
            "22/22 [==============================] - 1s 58ms/step - loss: 0.0420 - val_loss: 0.1662 - lr: 0.0020\n",
            "Epoch 31/50\n",
            "22/22 [==============================] - ETA: 0s - loss: 0.0435\n",
            "Epoch 00031: val_loss did not improve from 0.16343\n",
            "22/22 [==============================] - 1s 61ms/step - loss: 0.0435 - val_loss: 0.1660 - lr: 0.0010\n",
            "Epoch 32/50\n",
            "22/22 [==============================] - ETA: 0s - loss: 0.0456\n",
            "Epoch 00032: val_loss did not improve from 0.16343\n",
            "22/22 [==============================] - 1s 59ms/step - loss: 0.0456 - val_loss: 0.1659 - lr: 0.0010\n",
            "Epoch 33/50\n",
            "22/22 [==============================] - ETA: 0s - loss: 0.0461\n",
            "Epoch 00033: val_loss did not improve from 0.16343\n",
            "22/22 [==============================] - 1s 61ms/step - loss: 0.0461 - val_loss: 0.1673 - lr: 0.0010\n",
            "Epoch 34/50\n",
            "21/22 [===========================>..] - ETA: 0s - loss: 0.0416\n",
            "Epoch 00034: val_loss did not improve from 0.16343\n",
            "22/22 [==============================] - 1s 59ms/step - loss: 0.0431 - val_loss: 0.1663 - lr: 0.0010\n",
            "Epoch 35/50\n",
            "22/22 [==============================] - ETA: 0s - loss: 0.0404\n",
            "Epoch 00035: ReduceLROnPlateau reducing learning rate to 0.0005000000237487257.\n",
            "\n",
            "Epoch 00035: val_loss did not improve from 0.16343\n",
            "22/22 [==============================] - 1s 60ms/step - loss: 0.0404 - val_loss: 0.1666 - lr: 0.0010\n",
            "Epoch 36/50\n",
            "22/22 [==============================] - ETA: 0s - loss: 0.0423\n",
            "Epoch 00036: val_loss did not improve from 0.16343\n",
            "22/22 [==============================] - 1s 60ms/step - loss: 0.0423 - val_loss: 0.1671 - lr: 5.0000e-04\n",
            "Epoch 37/50\n",
            "22/22 [==============================] - ETA: 0s - loss: 0.0391\n",
            "Epoch 00037: val_loss did not improve from 0.16343\n",
            "22/22 [==============================] - 1s 59ms/step - loss: 0.0391 - val_loss: 0.1672 - lr: 5.0000e-04\n",
            "Epoch 38/50\n",
            "22/22 [==============================] - ETA: 0s - loss: 0.0536\n",
            "Epoch 00038: val_loss did not improve from 0.16343\n",
            "22/22 [==============================] - 1s 61ms/step - loss: 0.0536 - val_loss: 0.1671 - lr: 5.0000e-04\n",
            "Epoch 39/50\n",
            "22/22 [==============================] - ETA: 0s - loss: 0.0446\n",
            "Epoch 00039: val_loss did not improve from 0.16343\n",
            "22/22 [==============================] - 1s 61ms/step - loss: 0.0446 - val_loss: 0.1673 - lr: 5.0000e-04\n",
            "Epoch 40/50\n",
            "22/22 [==============================] - ETA: 0s - loss: 0.0447\n",
            "Epoch 00040: ReduceLROnPlateau reducing learning rate to 0.0002500000118743628.\n",
            "\n",
            "Epoch 00040: val_loss did not improve from 0.16343\n",
            "22/22 [==============================] - 1s 61ms/step - loss: 0.0447 - val_loss: 0.1673 - lr: 5.0000e-04\n",
            "Epoch 41/50\n",
            "22/22 [==============================] - ETA: 0s - loss: 0.0443\n",
            "Epoch 00041: val_loss did not improve from 0.16343\n",
            "22/22 [==============================] - 1s 59ms/step - loss: 0.0443 - val_loss: 0.1674 - lr: 2.5000e-04\n",
            "Epoch 42/50\n",
            "22/22 [==============================] - ETA: 0s - loss: 0.0404\n",
            "Epoch 00042: val_loss did not improve from 0.16343\n",
            "22/22 [==============================] - 1s 59ms/step - loss: 0.0404 - val_loss: 0.1672 - lr: 2.5000e-04\n",
            "Epoch 43/50\n",
            "22/22 [==============================] - ETA: 0s - loss: 0.0382\n",
            "Epoch 00043: val_loss did not improve from 0.16343\n",
            "22/22 [==============================] - 1s 63ms/step - loss: 0.0382 - val_loss: 0.1672 - lr: 2.5000e-04\n",
            "Epoch 44/50\n",
            "22/22 [==============================] - ETA: 0s - loss: 0.0426\n",
            "Epoch 00044: val_loss did not improve from 0.16343\n",
            "22/22 [==============================] - 1s 60ms/step - loss: 0.0426 - val_loss: 0.1673 - lr: 2.5000e-04\n",
            "Epoch 45/50\n",
            "22/22 [==============================] - ETA: 0s - loss: 0.0427\n",
            "Epoch 00045: ReduceLROnPlateau reducing learning rate to 0.0001250000059371814.\n",
            "\n",
            "Epoch 00045: val_loss did not improve from 0.16343\n",
            "22/22 [==============================] - 1s 63ms/step - loss: 0.0427 - val_loss: 0.1673 - lr: 2.5000e-04\n",
            "Epoch 46/50\n",
            "22/22 [==============================] - ETA: 0s - loss: 0.0460\n",
            "Epoch 00046: val_loss did not improve from 0.16343\n",
            "22/22 [==============================] - 1s 60ms/step - loss: 0.0460 - val_loss: 0.1673 - lr: 1.2500e-04\n",
            "Epoch 47/50\n",
            "22/22 [==============================] - ETA: 0s - loss: 0.0381\n",
            "Epoch 00047: val_loss did not improve from 0.16343\n",
            "22/22 [==============================] - 1s 61ms/step - loss: 0.0381 - val_loss: 0.1671 - lr: 1.2500e-04\n",
            "Epoch 48/50\n",
            "22/22 [==============================] - ETA: 0s - loss: 0.0428\n",
            "Epoch 00048: val_loss did not improve from 0.16343\n",
            "22/22 [==============================] - 1s 60ms/step - loss: 0.0428 - val_loss: 0.1672 - lr: 1.2500e-04\n",
            "Epoch 49/50\n",
            "22/22 [==============================] - ETA: 0s - loss: 0.0436\n",
            "Epoch 00049: val_loss did not improve from 0.16343\n",
            "22/22 [==============================] - 1s 59ms/step - loss: 0.0436 - val_loss: 0.1673 - lr: 1.2500e-04\n",
            "Epoch 50/50\n",
            "22/22 [==============================] - ETA: 0s - loss: 0.0445\n",
            "Epoch 00050: ReduceLROnPlateau reducing learning rate to 6.25000029685907e-05.\n",
            "\n",
            "Epoch 00050: val_loss did not improve from 0.16343\n",
            "22/22 [==============================] - 1s 60ms/step - loss: 0.0445 - val_loss: 0.1672 - lr: 1.2500e-04\n"
          ]
        },
        {
          "output_type": "execute_result",
          "data": {
            "text/plain": [
              "<keras.callbacks.History at 0x7f70371e2c50>"
            ]
          },
          "metadata": {},
          "execution_count": 54
        }
      ]
    },
    {
      "cell_type": "code",
      "source": [
        "model2.load_weights(\"/content/best_bidirectionalLSTM.h5\")"
      ],
      "metadata": {
        "id": "4-YkscdtiJLn"
      },
      "execution_count": 55,
      "outputs": []
    },
    {
      "cell_type": "code",
      "source": [
        "plt.plot(model2.history.history[\"loss\"])"
      ],
      "metadata": {
        "colab": {
          "base_uri": "https://localhost:8080/",
          "height": 282
        },
        "id": "YRyisMj6jHP3",
        "outputId": "71287749-984e-4697-fc97-762521eec0a9"
      },
      "execution_count": 56,
      "outputs": [
        {
          "output_type": "execute_result",
          "data": {
            "text/plain": [
              "[<matplotlib.lines.Line2D at 0x7f7024eae810>]"
            ]
          },
          "metadata": {},
          "execution_count": 56
        },
        {
          "output_type": "display_data",
          "data": {
            "image/png": "[encoded data removed]",
            "text/plain": [
              "<Figure size 432x288 with 1 Axes>"
            ]
          },
          "metadata": {
            "needs_background": "light"
          }
        }
      ]
    },
    {
      "cell_type": "code",
      "source": [
        "test_predictions = getting_predictions(5, 1, model2)\n",
        "test_predictions"
      ],
      "metadata": {
        "colab": {
          "base_uri": "https://localhost:8080/"
        },
        "id": "diBUcnvljcoB",
        "outputId": "6e96f6c4-0385-45fe-f75d-4ed0e506593c"
      },
      "execution_count": 57,
      "outputs": [
        {
          "output_type": "execute_result",
          "data": {
            "text/plain": [
              "[array([0.6840599], dtype=float32),\n",
              " array([0.67750305], dtype=float32),\n",
              " array([0.6717713], dtype=float32),\n",
              " array([0.66404456], dtype=float32),\n",
              " array([0.65958345], dtype=float32)]"
            ]
          },
          "metadata": {},
          "execution_count": 57
        }
      ]
    },
    {
      "cell_type": "code",
      "source": [
        "plot(scaler, test_predictions)"
      ],
      "metadata": {
        "colab": {
          "base_uri": "https://localhost:8080/",
          "height": 407
        },
        "id": "Yu9cBzwyjm7A",
        "outputId": "b57e8a10-e87e-4fbe-9961-2a3dd8a32cf6"
      },
      "execution_count": 58,
      "outputs": [
        {
          "output_type": "stream",
          "name": "stdout",
          "text": [
            "Predictions of next five years:-  [[10839.91123646]\n",
            " [10758.14052874]\n",
            " [10686.65973163]\n",
            " [10590.29969531]\n",
            " [10534.66519701]]\n"
          ]
        },
        {
          "output_type": "display_data",
          "data": {
            "image/png": "[encoded data removed]",
            "text/plain": [
              "<Figure size 936x360 with 1 Axes>"
            ]
          },
          "metadata": {
            "needs_background": "light"
          }
        }
      ]
    },
    {
      "cell_type": "code",
      "source": [
        ""
      ],
      "metadata": {
        "id": "kwWR3Fxbjrwr"
      },
      "execution_count": 58,
      "outputs": []
    },
    {
      "cell_type": "code",
      "source": [
        ""
      ],
      "metadata": {
        "id": "16CnHlEFDBUi"
      },
      "execution_count": 58,
      "outputs": []
    }
  ]
}